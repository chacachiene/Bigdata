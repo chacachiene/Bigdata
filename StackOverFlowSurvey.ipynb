{
 "cells": [
  {
   "cell_type": "code",
   "execution_count": 1,
   "id": "0d62fb83",
   "metadata": {},
   "outputs": [],
   "source": [
    "import pyspark\n"
   ]
  },
  {
   "cell_type": "code",
   "execution_count": 7,
   "id": "d8489a34",
   "metadata": {},
   "outputs": [],
   "source": [
    "from pyspark.sql import SparkSession\n",
    "from pyspark.sql.functions import *\n",
    "\n",
    "from pyspark.mllib.feature import StandardScaler, PCA\n",
    "from pyspark.ml.feature import VectorAssembler\n",
    "from pyspark.mllib.stat import Statistics\n"
   ]
  },
  {
   "cell_type": "code",
   "execution_count": 4,
   "id": "f087efcd",
   "metadata": {},
   "outputs": [
    {
     "name": "stderr",
     "output_type": "stream",
     "text": [
      "23/11/16 17:48:01 WARN Utils: Your hostname, MyPc resolves to a loopback address: 127.0.1.1; using 10.0.2.15 instead (on interface enp0s3)\n",
      "23/11/16 17:48:01 WARN Utils: Set SPARK_LOCAL_IP if you need to bind to another address\n",
      "Setting default log level to \"WARN\".\n",
      "To adjust logging level use sc.setLogLevel(newLevel). For SparkR, use setLogLevel(newLevel).\n",
      "23/11/16 17:48:01 WARN NativeCodeLoader: Unable to load native-hadoop library for your platform... using builtin-java classes where applicable\n",
      "23/11/16 17:48:03 WARN Utils: Service 'SparkUI' could not bind on port 4040. Attempting port 4041.\n"
     ]
    }
   ],
   "source": [
    "spark = SparkSession.builder.appName('TestSpark').getOrCreate()\n"
   ]
  },
  {
   "cell_type": "code",
   "execution_count": 8,
   "id": "de7d66ff",
   "metadata": {},
   "outputs": [
    {
     "name": "stdout",
     "output_type": "stream",
     "text": [
      "3.5.0\n"
     ]
    }
   ],
   "source": [
    "print(spark.version)"
   ]
  },
  {
   "cell_type": "code",
   "execution_count": 56,
   "id": "e4262032",
   "metadata": {
    "scrolled": true
   },
   "outputs": [
    {
     "name": "stdout",
     "output_type": "stream",
     "text": [
      "+----------+-----+----------+--------------+--------------+------------------+--------------------+--------------------+--------------------+--------------------+----------------+---------------+--------------------+--------------------+--------------------+--------------------+--------------------+----------+----------+----------+----------+----------+----------+----------+----------+----------+-----------+---------------+---------------+---------------+---------------+---------------+---------------+---------------+---------------+---------------+----------------+----------------+---------------------+---------------------+---------------------+---------------------+---------------------+-------------------+-------------------+-------------------+-------------------+-------------------+-------------------+-------------------+--------------------+--------------------+------+----------+---------------+--------------+--------------------+-------------------+--------------------+--------------------+-----------------+--------------------+--------------+--------------+--------------------+--------------------+----------------------+--------------------+----------------------+--------------------+----------------------+-------------------+-----------------------+--------------------+---------------+--------------+--------------------+-----------------+--------------------+---------+----------------+--------------------+--------------------+--------------------+--------------------+--------------------+--------------+--------------+--------------+--------------+--------------+--------------+--------------+--------------------+--------------------+--------------------+--------------------+--------------------+--------------------+--------------------+-------------------+----------------------+--------------------+-----------------------+------------------------+--------------------+---------------------+--------------------------+---------------------------+--------------------+--------------------+--------------------+--------------------+--------------------+--------------------+-------------+--------------------+--------------------+--------------------+--------------------+------+--------------------+--------------------+--------------------+-----------------+----------+----------+--------------------+-------------+\n",
      "|Respondent|Hobby|OpenSource|       Country|       Student|        Employment|     FormalEducation|      UndergradMajor|         CompanySize|             DevType|     YearsCoding|YearsCodingProf|     JobSatisfaction|  CareerSatisfaction|       HopeFiveYears|     JobSearchStatus|          LastNewJob|AssessJob1|AssessJob2|AssessJob3|AssessJob4|AssessJob5|AssessJob6|AssessJob7|AssessJob8|AssessJob9|AssessJob10|AssessBenefits1|AssessBenefits2|AssessBenefits3|AssessBenefits4|AssessBenefits5|AssessBenefits6|AssessBenefits7|AssessBenefits8|AssessBenefits9|AssessBenefits10|AssessBenefits11|JobContactPriorities1|JobContactPriorities2|JobContactPriorities3|JobContactPriorities4|JobContactPriorities5|JobEmailPriorities1|JobEmailPriorities2|JobEmailPriorities3|JobEmailPriorities4|JobEmailPriorities5|JobEmailPriorities6|JobEmailPriorities7|            UpdateCV|            Currency|Salary|SalaryType|ConvertedSalary|CurrencySymbol|  CommunicationTools|TimeFullyProductive|      EducationTypes|     SelfTaughtTypes|TimeAfterBootcamp|    HackathonReasons|AgreeDisagree1|AgreeDisagree2|      AgreeDisagree3|  LanguageWorkedWith|LanguageDesireNextYear|  DatabaseWorkedWith|DatabaseDesireNextYear|  PlatformWorkedWith|PlatformDesireNextYear|FrameworkWorkedWith|FrameworkDesireNextYear|                 IDE|OperatingSystem|NumberMonitors|         Methodology|   VersionControl|         CheckInCode|AdBlocker|AdBlockerDisable|    AdBlockerReasons|   AdsAgreeDisagree1|   AdsAgreeDisagree2|   AdsAgreeDisagree3|          AdsActions|AdsPriorities1|AdsPriorities2|AdsPriorities3|AdsPriorities4|AdsPriorities5|AdsPriorities6|AdsPriorities7|         AIDangerous|       AIInteresting|       AIResponsible|            AIFuture|        EthicsChoice|        EthicsReport|   EthicsResponsible|EthicalImplications|StackOverflowRecommend|  StackOverflowVisit|StackOverflowHasAccount|StackOverflowParticipate|   StackOverflowJobs|StackOverflowDevStory|StackOverflowJobsRecommend|StackOverflowConsiderMember|  HypotheticalTools1|  HypotheticalTools2|  HypotheticalTools3|  HypotheticalTools4|  HypotheticalTools5|            WakeTime|HoursComputer|        HoursOutside|           SkipMeals|    ErgonomicDevices|            Exercise|Gender|   SexualOrientation|    EducationParents|       RaceEthnicity|              Age|Dependents|MilitaryUS|       SurveyTooLong|   SurveyEasy|\n",
      "+----------+-----+----------+--------------+--------------+------------------+--------------------+--------------------+--------------------+--------------------+----------------+---------------+--------------------+--------------------+--------------------+--------------------+--------------------+----------+----------+----------+----------+----------+----------+----------+----------+----------+-----------+---------------+---------------+---------------+---------------+---------------+---------------+---------------+---------------+---------------+----------------+----------------+---------------------+---------------------+---------------------+---------------------+---------------------+-------------------+-------------------+-------------------+-------------------+-------------------+-------------------+-------------------+--------------------+--------------------+------+----------+---------------+--------------+--------------------+-------------------+--------------------+--------------------+-----------------+--------------------+--------------+--------------+--------------------+--------------------+----------------------+--------------------+----------------------+--------------------+----------------------+-------------------+-----------------------+--------------------+---------------+--------------+--------------------+-----------------+--------------------+---------+----------------+--------------------+--------------------+--------------------+--------------------+--------------------+--------------+--------------+--------------+--------------+--------------+--------------+--------------+--------------------+--------------------+--------------------+--------------------+--------------------+--------------------+--------------------+-------------------+----------------------+--------------------+-----------------------+------------------------+--------------------+---------------------+--------------------------+---------------------------+--------------------+--------------------+--------------------+--------------------+--------------------+--------------------+-------------+--------------------+--------------------+--------------------+--------------------+------+--------------------+--------------------+--------------------+-----------------+----------+----------+--------------------+-------------+\n",
      "|         1|  Yes|        No|         Kenya|            No|Employed part-time|Bachelor’s degree...|Mathematics or st...|  20 to 99 employees|Full-stack developer|       3-5 years|      3-5 years| Extremely satisfied| Extremely satisfied|Working as a foun...|I’m not actively ...|Less than a year ago|        10|         7|         8|         1|         2|         5|         3|         4|         9|          6|             NA|             NA|             NA|             NA|             NA|             NA|             NA|             NA|             NA|              NA|              NA|                    3|                    1|                    4|                    2|                    5|                  5|                  6|                  7|                  2|                  1|                  4|                  3|My job status or ...|                  NA|    NA|   Monthly|             NA|           KES|               Slack|One to three months|Taught yourself a...|The official docu...|               NA|To build my profe...|Strongly agree|Strongly agree|Neither Agree nor...|JavaScript;Python...|  JavaScript;Python...|Redis;SQL Server;...|  Redis;SQL Server;...|AWS;Azure;Linux;F...|  AWS;Azure;Linux;F...|       Django;React|           Django;React|Komodo;Vim;Visual...|    Linux-based|             1|         Agile;Scrum|              Git|Multiple times pe...|      Yes|              No|                  NA|      Strongly agree|      Strongly agree|      Strongly agree|Saw an online adv...|             1|             5|             4|             7|             2|             6|             3|\"Artificial intel...|Algorithms making...|The developers or...|I'm excited about...|                  No|   Yes, and publicly|Upper management ...|                Yes|      10 (Very Likely)|Multiple times pe...|                    Yes|    I have never part...|No, I knew that S...|                  Yes|                        NA|                        Yes|Extremely interested|Extremely interested|Extremely interested|Extremely interested|Extremely interested|Between 5:00 - 6:...| 9 - 12 hours|         1 - 2 hours|               Never|       Standing desk|3 - 4 times per week|  Male|Straight or heter...|Bachelor’s degree...|Black or of Afric...|25 - 34 years old|       Yes|        NA|The survey was an...|    Very easy|\n",
      "|         3|  Yes|       Yes|United Kingdom|            No|Employed full-time|Bachelor’s degree...|A natural science...|10,000 or more em...|Database administ...|30 or more years|    18-20 years|Moderately dissat...|Neither satisfied...|Working in a diff...|I am actively loo...|More than 4 years...|         1|         7|        10|         8|         2|         5|         4|         3|         6|          9|              1|              5|              3|              7|             10|              4|             11|              9|              6|               2|               8|                    3|                    1|                    5|                    2|                    4|                  1|                  3|                  4|                  5|                  2|                  6|                  7|I saw an employer...|British pounds st...| 51000|    Yearly|          70841|           GBP|Confluence;Office...|One to three months|Taught yourself a...|The official docu...|               NA|                  NA|         Agree|         Agree|Neither Agree nor...|JavaScript;Python...|             Go;Python|Redis;PostgreSQL;...|            PostgreSQL|               Linux|                 Linux|             Django|                  React|IPython / Jupyter...|    Linux-based|             2|                  NA|   Git;Subversion|A few times per week|      Yes|             Yes|The website I was...|      Somewhat agree|Neither agree nor...|Neither agree nor...|                  NA|             3|             5|             1|             4|             6|             7|             2|Increasing automa...|Increasing automa...|The developers or...|I'm excited about...|Depends on what i...|Depends on what i...|Upper management ...|                Yes|      10 (Very Likely)|A few times per m...|                    Yes|    A few times per m...|                 Yes| No, I have one bu...|                         7|                        Yes|A little bit inte...|A little bit inte...|A little bit inte...|A little bit inte...|A little bit inte...|Between 6:01 - 7:...|  5 - 8 hours|     30 - 59 minutes|               Never|Ergonomic keyboar...|Daily or almost e...|  Male|Straight or heter...|Bachelor’s degree...|White or of Europ...|35 - 44 years old|       Yes|        NA|The survey was an...|Somewhat easy|\n",
      "|         4|  Yes|       Yes| United States|            No|Employed full-time|    Associate degree|Computer science,...|  20 to 99 employees|Engineering manag...|     24-26 years|      6-8 years|Moderately satisfied|Moderately satisfied|Working as a foun...|I’m not actively ...|Less than a year ago|        NA|        NA|        NA|        NA|        NA|        NA|        NA|        NA|        NA|         NA|             NA|             NA|             NA|             NA|             NA|             NA|             NA|             NA|             NA|              NA|              NA|                   NA|                   NA|                   NA|                   NA|                   NA|                 NA|                 NA|                 NA|                 NA|                 NA|                 NA|                 NA|                  NA|                  NA|    NA|        NA|             NA|            NA|                  NA|                 NA|                  NA|                  NA|               NA|                  NA|            NA|            NA|                  NA|                  NA|                    NA|                  NA|                    NA|                  NA|                    NA|                 NA|                     NA|                  NA|             NA|            NA|                  NA|               NA|                  NA|       NA|              NA|                  NA|                  NA|                  NA|                  NA|                  NA|            NA|            NA|            NA|            NA|            NA|            NA|            NA|                  NA|                  NA|                  NA|                  NA|                  NA|                  NA|                  NA|                 NA|                    NA|                  NA|                     NA|                      NA|                  NA|                   NA|                        NA|                         NA|                  NA|                  NA|                  NA|                  NA|                  NA|                  NA|           NA|                  NA|                  NA|                  NA|                  NA|    NA|                  NA|                  NA|                  NA|               NA|        NA|        NA|                  NA|           NA|\n",
      "|         5|   No|        No| United States|            No|Employed full-time|Bachelor’s degree...|Computer science,...|100 to 499 employees|Full-stack developer|     18-20 years|    12-14 years|Neither satisfied...|Slightly dissatis...|Working as a foun...|I’m not actively ...|Less than a year ago|        NA|        NA|        NA|        NA|        NA|        NA|        NA|        NA|        NA|         NA|             NA|             NA|             NA|             NA|             NA|             NA|             NA|             NA|             NA|              NA|              NA|                   NA|                   NA|                   NA|                   NA|                   NA|                 NA|                 NA|                 NA|                 NA|                 NA|                 NA|                 NA|A recruiter conta...|    U.S. dollars ($)|    NA|        NA|             NA|            NA|                  NA|Three to six months|Completed an indu...|The official docu...|               NA|                  NA|      Disagree|      Disagree|   Strongly disagree|C#;JavaScript;SQL...|  C#;JavaScript;SQL...|SQL Server;Micros...|  SQL Server;Micros...|               Azure|                 Azure|                 NA|   Angular;.NET Core...|Visual Studio;Vis...|        Windows|             2|  Agile;Kanban;Scrum|              Git|Multiple times pe...|      Yes|             Yes|The ad-blocking s...|Neither agree nor...|      Somewhat agree|      Somewhat agree|Stopped going to ...|            NA|            NA|            NA|            NA|            NA|            NA|            NA|\"Artificial intel...|\"Artificial intel...|A governmental or...|I don't care abou...|                  No|Yes, but only wit...|Upper management ...|                Yes|      10 (Very Likely)|A few times per week|                    Yes|    A few times per m...|                 Yes| No, I have one bu...|                         8|                        Yes| Somewhat interested| Somewhat interested| Somewhat interested| Somewhat interested| Somewhat interested|Between 6:01 - 7:...| 9 - 12 hours|Less than 30 minutes|3 - 4 times per week|                  NA|I don't typically...|  Male|Straight or heter...|Some college/univ...|White or of Europ...|35 - 44 years old|        No|        No|The survey was an...|Somewhat easy|\n",
      "|         7|  Yes|        No|  South Africa|Yes, part-time|Employed full-time|Some college/univ...|Computer science,...|10,000 or more em...|Data or business ...|       6-8 years|      0-2 years|  Slightly satisfied|Moderately satisfied|Working in a diff...|I’m not actively ...|Between 1 and 2 y...|         8|         5|         7|         1|         2|         6|         4|         3|        10|          9|              1|             10|              2|              4|              8|              3|             11|              7|              5|               9|               6|                    2|                    1|                    4|                    5|                    3|                  7|                  3|                  6|                  2|                  1|                  4|                  5|My job status or ...|South African ran...|260000|    Yearly|          21426|           ZAR|Office / producti...|Three to six months|Taken a part-time...|The official docu...|               NA|                  NA|Strongly agree|         Agree|   Strongly disagree|C;C++;Java;Matlab...|  Assembly;C;C++;Ma...|SQL Server;Postgr...|  PostgreSQL;Oracle...|Arduino;Windows D...|  Arduino;Windows D...|                 NA|                     NA|Notepad++;Visual ...|        Windows|             2|Evidence-based so...|Zip file back-ups|Weekly or a few t...|       No|              NA|                  NA|      Somewhat agree|      Somewhat agree|   Somewhat disagree|Clicked on an onl...|             2|             3|             4|             6|             1|             7|             5|Algorithms making...|Algorithms making...|The developers or...|I'm excited about...|                  No|Yes, but only wit...|Upper management ...|                Yes|      10 (Very Likely)|Daily or almost d...|                    Yes|    Less than once pe...|No, I knew that S...| No, I know what i...|                        NA|                        Yes|Extremely interested|Extremely interested|Extremely interested|Extremely interested|Extremely interested|      Before 5:00 AM|Over 12 hours|         1 - 2 hours|               Never|                  NA|3 - 4 times per week|  Male|Straight or heter...|Some college/univ...|White or of Europ...|18 - 24 years old|       Yes|        NA|The survey was an...|Somewhat easy|\n",
      "+----------+-----+----------+--------------+--------------+------------------+--------------------+--------------------+--------------------+--------------------+----------------+---------------+--------------------+--------------------+--------------------+--------------------+--------------------+----------+----------+----------+----------+----------+----------+----------+----------+----------+-----------+---------------+---------------+---------------+---------------+---------------+---------------+---------------+---------------+---------------+----------------+----------------+---------------------+---------------------+---------------------+---------------------+---------------------+-------------------+-------------------+-------------------+-------------------+-------------------+-------------------+-------------------+--------------------+--------------------+------+----------+---------------+--------------+--------------------+-------------------+--------------------+--------------------+-----------------+--------------------+--------------+--------------+--------------------+--------------------+----------------------+--------------------+----------------------+--------------------+----------------------+-------------------+-----------------------+--------------------+---------------+--------------+--------------------+-----------------+--------------------+---------+----------------+--------------------+--------------------+--------------------+--------------------+--------------------+--------------+--------------+--------------+--------------+--------------+--------------+--------------+--------------------+--------------------+--------------------+--------------------+--------------------+--------------------+--------------------+-------------------+----------------------+--------------------+-----------------------+------------------------+--------------------+---------------------+--------------------------+---------------------------+--------------------+--------------------+--------------------+--------------------+--------------------+--------------------+-------------+--------------------+--------------------+--------------------+--------------------+------+--------------------+--------------------+--------------------+-----------------+----------+----------+--------------------+-------------+\n",
      "only showing top 5 rows\n",
      "\n"
     ]
    }
   ],
   "source": [
    "df_te = spark.read.option('header','true').csv(\"hdfs://localhost:9000/user/survey.csv\",inferSchema=True)\n",
    "df_te.show(5)"
   ]
  },
  {
   "cell_type": "code",
   "execution_count": 9,
   "id": "0b47ad15",
   "metadata": {},
   "outputs": [
    {
     "name": "stderr",
     "output_type": "stream",
     "text": [
      "23/11/16 18:09:04 WARN SparkStringUtils: Truncated the string representation of a plan since it was too large. This behavior can be adjusted by setting 'spark.sql.debug.maxToStringFields'.\n",
      "                                                                                \r"
     ]
    },
    {
     "name": "stdout",
     "output_type": "stream",
     "text": [
      "+----------+-----+----------+--------------+--------------+------------------+--------------------+--------------------+--------------------+--------------------+----------------+---------------+--------------------+--------------------+--------------------+--------------------+--------------------+----------+----------+----------+----------+----------+----------+----------+----------+----------+-----------+---------------+---------------+---------------+---------------+---------------+---------------+---------------+---------------+---------------+----------------+----------------+---------------------+---------------------+---------------------+---------------------+---------------------+-------------------+-------------------+-------------------+-------------------+-------------------+-------------------+-------------------+--------------------+--------------------+------+----------+---------------+--------------+--------------------+-------------------+--------------------+--------------------+-----------------+--------------------+--------------+--------------+--------------------+--------------------+----------------------+--------------------+----------------------+--------------------+----------------------+-------------------+-----------------------+--------------------+---------------+--------------+--------------------+-----------------+--------------------+---------+----------------+--------------------+--------------------+--------------------+--------------------+--------------------+--------------+--------------+--------------+--------------+--------------+--------------+--------------+--------------------+--------------------+--------------------+--------------------+--------------------+--------------------+--------------------+-------------------+----------------------+--------------------+-----------------------+------------------------+--------------------+---------------------+--------------------------+---------------------------+--------------------+--------------------+--------------------+--------------------+--------------------+--------------------+-------------+--------------------+--------------------+--------------------+--------------------+------+--------------------+--------------------+--------------------+-----------------+----------+----------+--------------------+-------------+\n",
      "|Respondent|Hobby|OpenSource|       Country|       Student|        Employment|     FormalEducation|      UndergradMajor|         CompanySize|             DevType|     YearsCoding|YearsCodingProf|     JobSatisfaction|  CareerSatisfaction|       HopeFiveYears|     JobSearchStatus|          LastNewJob|AssessJob1|AssessJob2|AssessJob3|AssessJob4|AssessJob5|AssessJob6|AssessJob7|AssessJob8|AssessJob9|AssessJob10|AssessBenefits1|AssessBenefits2|AssessBenefits3|AssessBenefits4|AssessBenefits5|AssessBenefits6|AssessBenefits7|AssessBenefits8|AssessBenefits9|AssessBenefits10|AssessBenefits11|JobContactPriorities1|JobContactPriorities2|JobContactPriorities3|JobContactPriorities4|JobContactPriorities5|JobEmailPriorities1|JobEmailPriorities2|JobEmailPriorities3|JobEmailPriorities4|JobEmailPriorities5|JobEmailPriorities6|JobEmailPriorities7|            UpdateCV|            Currency|Salary|SalaryType|ConvertedSalary|CurrencySymbol|  CommunicationTools|TimeFullyProductive|      EducationTypes|     SelfTaughtTypes|TimeAfterBootcamp|    HackathonReasons|AgreeDisagree1|AgreeDisagree2|      AgreeDisagree3|  LanguageWorkedWith|LanguageDesireNextYear|  DatabaseWorkedWith|DatabaseDesireNextYear|  PlatformWorkedWith|PlatformDesireNextYear|FrameworkWorkedWith|FrameworkDesireNextYear|                 IDE|OperatingSystem|NumberMonitors|         Methodology|   VersionControl|         CheckInCode|AdBlocker|AdBlockerDisable|    AdBlockerReasons|   AdsAgreeDisagree1|   AdsAgreeDisagree2|   AdsAgreeDisagree3|          AdsActions|AdsPriorities1|AdsPriorities2|AdsPriorities3|AdsPriorities4|AdsPriorities5|AdsPriorities6|AdsPriorities7|         AIDangerous|       AIInteresting|       AIResponsible|            AIFuture|        EthicsChoice|        EthicsReport|   EthicsResponsible|EthicalImplications|StackOverflowRecommend|  StackOverflowVisit|StackOverflowHasAccount|StackOverflowParticipate|   StackOverflowJobs|StackOverflowDevStory|StackOverflowJobsRecommend|StackOverflowConsiderMember|  HypotheticalTools1|  HypotheticalTools2|  HypotheticalTools3|  HypotheticalTools4|  HypotheticalTools5|            WakeTime|HoursComputer|        HoursOutside|           SkipMeals|    ErgonomicDevices|            Exercise|Gender|   SexualOrientation|    EducationParents|       RaceEthnicity|              Age|Dependents|MilitaryUS|       SurveyTooLong|   SurveyEasy|\n",
      "+----------+-----+----------+--------------+--------------+------------------+--------------------+--------------------+--------------------+--------------------+----------------+---------------+--------------------+--------------------+--------------------+--------------------+--------------------+----------+----------+----------+----------+----------+----------+----------+----------+----------+-----------+---------------+---------------+---------------+---------------+---------------+---------------+---------------+---------------+---------------+----------------+----------------+---------------------+---------------------+---------------------+---------------------+---------------------+-------------------+-------------------+-------------------+-------------------+-------------------+-------------------+-------------------+--------------------+--------------------+------+----------+---------------+--------------+--------------------+-------------------+--------------------+--------------------+-----------------+--------------------+--------------+--------------+--------------------+--------------------+----------------------+--------------------+----------------------+--------------------+----------------------+-------------------+-----------------------+--------------------+---------------+--------------+--------------------+-----------------+--------------------+---------+----------------+--------------------+--------------------+--------------------+--------------------+--------------------+--------------+--------------+--------------+--------------+--------------+--------------+--------------+--------------------+--------------------+--------------------+--------------------+--------------------+--------------------+--------------------+-------------------+----------------------+--------------------+-----------------------+------------------------+--------------------+---------------------+--------------------------+---------------------------+--------------------+--------------------+--------------------+--------------------+--------------------+--------------------+-------------+--------------------+--------------------+--------------------+--------------------+------+--------------------+--------------------+--------------------+-----------------+----------+----------+--------------------+-------------+\n",
      "|         1|  Yes|        No|         Kenya|            No|Employed part-time|Bachelor’s degree...|Mathematics or st...|  20 to 99 employees|Full-stack developer|       3-5 years|      3-5 years| Extremely satisfied| Extremely satisfied|Working as a foun...|I’m not actively ...|Less than a year ago|        10|         7|         8|         1|         2|         5|         3|         4|         9|          6|             NA|             NA|             NA|             NA|             NA|             NA|             NA|             NA|             NA|              NA|              NA|                    3|                    1|                    4|                    2|                    5|                  5|                  6|                  7|                  2|                  1|                  4|                  3|My job status or ...|                  NA|    NA|   Monthly|             NA|           KES|               Slack|One to three months|Taught yourself a...|The official docu...|               NA|To build my profe...|Strongly agree|Strongly agree|Neither Agree nor...|JavaScript;Python...|  JavaScript;Python...|Redis;SQL Server;...|  Redis;SQL Server;...|AWS;Azure;Linux;F...|  AWS;Azure;Linux;F...|       Django;React|           Django;React|Komodo;Vim;Visual...|    Linux-based|             1|         Agile;Scrum|              Git|Multiple times pe...|      Yes|              No|                  NA|      Strongly agree|      Strongly agree|      Strongly agree|Saw an online adv...|             1|             5|             4|             7|             2|             6|             3|\"Artificial intel...|Algorithms making...|The developers or...|I'm excited about...|                  No|   Yes, and publicly|Upper management ...|                Yes|      10 (Very Likely)|Multiple times pe...|                    Yes|    I have never part...|No, I knew that S...|                  Yes|                        NA|                        Yes|Extremely interested|Extremely interested|Extremely interested|Extremely interested|Extremely interested|Between 5:00 - 6:...| 9 - 12 hours|         1 - 2 hours|               Never|       Standing desk|3 - 4 times per week|  Male|Straight or heter...|Bachelor’s degree...|Black or of Afric...|25 - 34 years old|       Yes|        NA|The survey was an...|    Very easy|\n",
      "|         3|  Yes|       Yes|United Kingdom|            No|Employed full-time|Bachelor’s degree...|A natural science...|10,000 or more em...|Database administ...|30 or more years|    18-20 years|Moderately dissat...|Neither satisfied...|Working in a diff...|I am actively loo...|More than 4 years...|         1|         7|        10|         8|         2|         5|         4|         3|         6|          9|              1|              5|              3|              7|             10|              4|             11|              9|              6|               2|               8|                    3|                    1|                    5|                    2|                    4|                  1|                  3|                  4|                  5|                  2|                  6|                  7|I saw an employer...|British pounds st...| 51000|    Yearly|          70841|           GBP|Confluence;Office...|One to three months|Taught yourself a...|The official docu...|               NA|                  NA|         Agree|         Agree|Neither Agree nor...|JavaScript;Python...|             Go;Python|Redis;PostgreSQL;...|            PostgreSQL|               Linux|                 Linux|             Django|                  React|IPython / Jupyter...|    Linux-based|             2|                  NA|   Git;Subversion|A few times per week|      Yes|             Yes|The website I was...|      Somewhat agree|Neither agree nor...|Neither agree nor...|                  NA|             3|             5|             1|             4|             6|             7|             2|Increasing automa...|Increasing automa...|The developers or...|I'm excited about...|Depends on what i...|Depends on what i...|Upper management ...|                Yes|      10 (Very Likely)|A few times per m...|                    Yes|    A few times per m...|                 Yes| No, I have one bu...|                         7|                        Yes|A little bit inte...|A little bit inte...|A little bit inte...|A little bit inte...|A little bit inte...|Between 6:01 - 7:...|  5 - 8 hours|     30 - 59 minutes|               Never|Ergonomic keyboar...|Daily or almost e...|  Male|Straight or heter...|Bachelor’s degree...|White or of Europ...|35 - 44 years old|       Yes|        NA|The survey was an...|Somewhat easy|\n",
      "|         4|  Yes|       Yes| United States|            No|Employed full-time|    Associate degree|Computer science,...|  20 to 99 employees|Engineering manag...|     24-26 years|      6-8 years|Moderately satisfied|Moderately satisfied|Working as a foun...|I’m not actively ...|Less than a year ago|        NA|        NA|        NA|        NA|        NA|        NA|        NA|        NA|        NA|         NA|             NA|             NA|             NA|             NA|             NA|             NA|             NA|             NA|             NA|              NA|              NA|                   NA|                   NA|                   NA|                   NA|                   NA|                 NA|                 NA|                 NA|                 NA|                 NA|                 NA|                 NA|                  NA|                  NA|    NA|        NA|             NA|            NA|                  NA|                 NA|                  NA|                  NA|               NA|                  NA|            NA|            NA|                  NA|                  NA|                    NA|                  NA|                    NA|                  NA|                    NA|                 NA|                     NA|                  NA|             NA|            NA|                  NA|               NA|                  NA|       NA|              NA|                  NA|                  NA|                  NA|                  NA|                  NA|            NA|            NA|            NA|            NA|            NA|            NA|            NA|                  NA|                  NA|                  NA|                  NA|                  NA|                  NA|                  NA|                 NA|                    NA|                  NA|                     NA|                      NA|                  NA|                   NA|                        NA|                         NA|                  NA|                  NA|                  NA|                  NA|                  NA|                  NA|           NA|                  NA|                  NA|                  NA|                  NA|    NA|                  NA|                  NA|                  NA|               NA|        NA|        NA|                  NA|           NA|\n",
      "|         5|   No|        No| United States|            No|Employed full-time|Bachelor’s degree...|Computer science,...|100 to 499 employees|Full-stack developer|     18-20 years|    12-14 years|Neither satisfied...|Slightly dissatis...|Working as a foun...|I’m not actively ...|Less than a year ago|        NA|        NA|        NA|        NA|        NA|        NA|        NA|        NA|        NA|         NA|             NA|             NA|             NA|             NA|             NA|             NA|             NA|             NA|             NA|              NA|              NA|                   NA|                   NA|                   NA|                   NA|                   NA|                 NA|                 NA|                 NA|                 NA|                 NA|                 NA|                 NA|A recruiter conta...|    U.S. dollars ($)|    NA|        NA|             NA|            NA|                  NA|Three to six months|Completed an indu...|The official docu...|               NA|                  NA|      Disagree|      Disagree|   Strongly disagree|C#;JavaScript;SQL...|  C#;JavaScript;SQL...|SQL Server;Micros...|  SQL Server;Micros...|               Azure|                 Azure|                 NA|   Angular;.NET Core...|Visual Studio;Vis...|        Windows|             2|  Agile;Kanban;Scrum|              Git|Multiple times pe...|      Yes|             Yes|The ad-blocking s...|Neither agree nor...|      Somewhat agree|      Somewhat agree|Stopped going to ...|            NA|            NA|            NA|            NA|            NA|            NA|            NA|\"Artificial intel...|\"Artificial intel...|A governmental or...|I don't care abou...|                  No|Yes, but only wit...|Upper management ...|                Yes|      10 (Very Likely)|A few times per week|                    Yes|    A few times per m...|                 Yes| No, I have one bu...|                         8|                        Yes| Somewhat interested| Somewhat interested| Somewhat interested| Somewhat interested| Somewhat interested|Between 6:01 - 7:...| 9 - 12 hours|Less than 30 minutes|3 - 4 times per week|                  NA|I don't typically...|  Male|Straight or heter...|Some college/univ...|White or of Europ...|35 - 44 years old|        No|        No|The survey was an...|Somewhat easy|\n",
      "|         7|  Yes|        No|  South Africa|Yes, part-time|Employed full-time|Some college/univ...|Computer science,...|10,000 or more em...|Data or business ...|       6-8 years|      0-2 years|  Slightly satisfied|Moderately satisfied|Working in a diff...|I’m not actively ...|Between 1 and 2 y...|         8|         5|         7|         1|         2|         6|         4|         3|        10|          9|              1|             10|              2|              4|              8|              3|             11|              7|              5|               9|               6|                    2|                    1|                    4|                    5|                    3|                  7|                  3|                  6|                  2|                  1|                  4|                  5|My job status or ...|South African ran...|260000|    Yearly|          21426|           ZAR|Office / producti...|Three to six months|Taken a part-time...|The official docu...|               NA|                  NA|Strongly agree|         Agree|   Strongly disagree|C;C++;Java;Matlab...|  Assembly;C;C++;Ma...|SQL Server;Postgr...|  PostgreSQL;Oracle...|Arduino;Windows D...|  Arduino;Windows D...|                 NA|                     NA|Notepad++;Visual ...|        Windows|             2|Evidence-based so...|Zip file back-ups|Weekly or a few t...|       No|              NA|                  NA|      Somewhat agree|      Somewhat agree|   Somewhat disagree|Clicked on an onl...|             2|             3|             4|             6|             1|             7|             5|Algorithms making...|Algorithms making...|The developers or...|I'm excited about...|                  No|Yes, but only wit...|Upper management ...|                Yes|      10 (Very Likely)|Daily or almost d...|                    Yes|    Less than once pe...|No, I knew that S...| No, I know what i...|                        NA|                        Yes|Extremely interested|Extremely interested|Extremely interested|Extremely interested|Extremely interested|      Before 5:00 AM|Over 12 hours|         1 - 2 hours|               Never|                  NA|3 - 4 times per week|  Male|Straight or heter...|Some college/univ...|White or of Europ...|18 - 24 years old|       Yes|        NA|The survey was an...|Somewhat easy|\n",
      "+----------+-----+----------+--------------+--------------+------------------+--------------------+--------------------+--------------------+--------------------+----------------+---------------+--------------------+--------------------+--------------------+--------------------+--------------------+----------+----------+----------+----------+----------+----------+----------+----------+----------+-----------+---------------+---------------+---------------+---------------+---------------+---------------+---------------+---------------+---------------+----------------+----------------+---------------------+---------------------+---------------------+---------------------+---------------------+-------------------+-------------------+-------------------+-------------------+-------------------+-------------------+-------------------+--------------------+--------------------+------+----------+---------------+--------------+--------------------+-------------------+--------------------+--------------------+-----------------+--------------------+--------------+--------------+--------------------+--------------------+----------------------+--------------------+----------------------+--------------------+----------------------+-------------------+-----------------------+--------------------+---------------+--------------+--------------------+-----------------+--------------------+---------+----------------+--------------------+--------------------+--------------------+--------------------+--------------------+--------------+--------------+--------------+--------------+--------------+--------------+--------------+--------------------+--------------------+--------------------+--------------------+--------------------+--------------------+--------------------+-------------------+----------------------+--------------------+-----------------------+------------------------+--------------------+---------------------+--------------------------+---------------------------+--------------------+--------------------+--------------------+--------------------+--------------------+--------------------+-------------+--------------------+--------------------+--------------------+--------------------+------+--------------------+--------------------+--------------------+-----------------+----------+----------+--------------------+-------------+\n",
      "only showing top 5 rows\n",
      "\n"
     ]
    }
   ],
   "source": [
    "df = spark.read.csv(\"hdfs://localhost:9000/user/survey.csv\", header=True)\n",
    "df.show(5)"
   ]
  },
  {
   "cell_type": "code",
   "execution_count": null,
   "id": "24b694e7",
   "metadata": {},
   "outputs": [],
   "source": []
  },
  {
   "cell_type": "code",
   "execution_count": 11,
   "id": "96755110",
   "metadata": {},
   "outputs": [],
   "source": [
    "df.createOrReplaceTempView('s')"
   ]
  },
  {
   "cell_type": "code",
   "execution_count": 14,
   "id": "7ec0f42c",
   "metadata": {},
   "outputs": [
    {
     "name": "stdout",
     "output_type": "stream",
     "text": [
      "+------+\n",
      "|Salary|\n",
      "+------+\n",
      "|    NA|\n",
      "| 51000|\n",
      "|    NA|\n",
      "|    NA|\n",
      "|260000|\n",
      "| 30000|\n",
      "|120000|\n",
      "|    NA|\n",
      "|250000|\n",
      "|    NA|\n",
      "|    NA|\n",
      "|    NA|\n",
      "|    NA|\n",
      "|    NA|\n",
      "|     0|\n",
      "|    NA|\n",
      "|    NA|\n",
      "| 32000|\n",
      "|    NA|\n",
      "|    NA|\n",
      "+------+\n",
      "only showing top 20 rows\n",
      "\n"
     ]
    }
   ],
   "source": [
    "spark.sql(\"select Salary from s\").show()"
   ]
  },
  {
   "cell_type": "code",
   "execution_count": 15,
   "id": "9a725aa2",
   "metadata": {},
   "outputs": [
    {
     "name": "stderr",
     "output_type": "stream",
     "text": [
      "[Stage 8:>                                                          (0 + 1) / 1]\r"
     ]
    },
    {
     "name": "stdout",
     "output_type": "stream",
     "text": [
      "+--------+\n",
      "|count(1)|\n",
      "+--------+\n",
      "|   98855|\n",
      "+--------+\n",
      "\n"
     ]
    },
    {
     "name": "stderr",
     "output_type": "stream",
     "text": [
      "\r",
      "                                                                                \r"
     ]
    }
   ],
   "source": [
    "spark.sql(\"select count(*) from s\").show()"
   ]
  },
  {
   "cell_type": "code",
   "execution_count": 18,
   "id": "caf1f7f7",
   "metadata": {},
   "outputs": [
    {
     "name": "stderr",
     "output_type": "stream",
     "text": [
      "\r",
      "[Stage 12:>                                                         (0 + 4) / 4]\r"
     ]
    },
    {
     "name": "stdout",
     "output_type": "stream",
     "text": [
      "+--------+\n",
      "|avg(age)|\n",
      "+--------+\n",
      "|    NULL|\n",
      "+--------+\n",
      "\n"
     ]
    },
    {
     "name": "stderr",
     "output_type": "stream",
     "text": [
      "\r",
      "[Stage 12:=============================>                            (2 + 2) / 4]\r",
      "\r",
      "                                                                                \r"
     ]
    }
   ],
   "source": [
    "spark.sql(\"select avg(age) from s\").show()"
   ]
  },
  {
   "cell_type": "code",
   "execution_count": 19,
   "id": "b4f3715b",
   "metadata": {},
   "outputs": [
    {
     "name": "stderr",
     "output_type": "stream",
     "text": [
      "23/11/16 21:02:37 WARN DAGScheduler: Broadcasting large task binary with size 1227.9 KiB\n",
      "                                                                                \r"
     ]
    },
    {
     "name": "stdout",
     "output_type": "stream",
     "text": [
      "+-------+------------------+-----+----------+-----------+--------------+------------------+--------------------+--------------------+--------------------+--------------------+-----------+---------------+--------------------+--------------------+--------------------+--------------------+--------------------+-----------------+------------------+------------------+------------------+------------------+-----------------+------------------+-----------------+-----------------+-----------------+------------------+-----------------+-----------------+-----------------+------------------+-----------------+------------------+------------------+------------------+------------------+-----------------+---------------------+---------------------+---------------------+---------------------+---------------------+-------------------+-------------------+-------------------+-------------------+-------------------+-------------------+-------------------+--------------------+--------------------+--------------------+----------+------------------+--------------+--------------------+-------------------+--------------------+--------------------+--------------------+--------------------+-----------------+-----------------+-----------------+-------------------+----------------------+--------------------+----------------------+--------------------+----------------------+--------------------+-----------------------+--------------+---------------+-----------------+-----------+--------------------+--------------------+--------------------+--------------------+--------------------+-----------------+-----------------+-----------------+--------------------+------------------+------------------+------------------+------------------+------------------+------------------+------------------+--------------------+--------------------+--------------------+--------------------+--------------------+--------------------+--------------------+-------------------+----------------------+--------------------+-----------------------+------------------------+-----------------+---------------------+--------------------------+---------------------------+--------------------+--------------------+--------------------+--------------------+--------------------+--------------+-------------+------------+--------------------+--------------------+--------------------+--------------------+--------------------+--------------------+--------------------+------------------+----------+----------+--------------------+----------+\n",
      "|summary|        Respondent|Hobby|OpenSource|    Country|       Student|        Employment|     FormalEducation|      UndergradMajor|         CompanySize|             DevType|YearsCoding|YearsCodingProf|     JobSatisfaction|  CareerSatisfaction|       HopeFiveYears|     JobSearchStatus|          LastNewJob|       AssessJob1|        AssessJob2|        AssessJob3|        AssessJob4|        AssessJob5|       AssessJob6|        AssessJob7|       AssessJob8|       AssessJob9|      AssessJob10|   AssessBenefits1|  AssessBenefits2|  AssessBenefits3|  AssessBenefits4|   AssessBenefits5|  AssessBenefits6|   AssessBenefits7|   AssessBenefits8|   AssessBenefits9|  AssessBenefits10| AssessBenefits11|JobContactPriorities1|JobContactPriorities2|JobContactPriorities3|JobContactPriorities4|JobContactPriorities5|JobEmailPriorities1|JobEmailPriorities2|JobEmailPriorities3|JobEmailPriorities4|JobEmailPriorities5|JobEmailPriorities6|JobEmailPriorities7|            UpdateCV|            Currency|              Salary|SalaryType|   ConvertedSalary|CurrencySymbol|  CommunicationTools|TimeFullyProductive|      EducationTypes|     SelfTaughtTypes|   TimeAfterBootcamp|    HackathonReasons|   AgreeDisagree1|   AgreeDisagree2|   AgreeDisagree3| LanguageWorkedWith|LanguageDesireNextYear|  DatabaseWorkedWith|DatabaseDesireNextYear|  PlatformWorkedWith|PlatformDesireNextYear| FrameworkWorkedWith|FrameworkDesireNextYear|           IDE|OperatingSystem|   NumberMonitors|Methodology|      VersionControl|         CheckInCode|           AdBlocker|    AdBlockerDisable|    AdBlockerReasons|AdsAgreeDisagree1|AdsAgreeDisagree2|AdsAgreeDisagree3|          AdsActions|    AdsPriorities1|    AdsPriorities2|    AdsPriorities3|    AdsPriorities4|    AdsPriorities5|    AdsPriorities6|    AdsPriorities7|         AIDangerous|       AIInteresting|       AIResponsible|            AIFuture|        EthicsChoice|        EthicsReport|   EthicsResponsible|EthicalImplications|StackOverflowRecommend|  StackOverflowVisit|StackOverflowHasAccount|StackOverflowParticipate|StackOverflowJobs|StackOverflowDevStory|StackOverflowJobsRecommend|StackOverflowConsiderMember|  HypotheticalTools1|  HypotheticalTools2|  HypotheticalTools3|  HypotheticalTools4|  HypotheticalTools5|      WakeTime|HoursComputer|HoursOutside|           SkipMeals|    ErgonomicDevices|            Exercise|              Gender|   SexualOrientation|    EducationParents|       RaceEthnicity|               Age|Dependents|MilitaryUS|       SurveyTooLong|SurveyEasy|\n",
      "+-------+------------------+-----+----------+-----------+--------------+------------------+--------------------+--------------------+--------------------+--------------------+-----------+---------------+--------------------+--------------------+--------------------+--------------------+--------------------+-----------------+------------------+------------------+------------------+------------------+-----------------+------------------+-----------------+-----------------+-----------------+------------------+-----------------+-----------------+-----------------+------------------+-----------------+------------------+------------------+------------------+------------------+-----------------+---------------------+---------------------+---------------------+---------------------+---------------------+-------------------+-------------------+-------------------+-------------------+-------------------+-------------------+-------------------+--------------------+--------------------+--------------------+----------+------------------+--------------+--------------------+-------------------+--------------------+--------------------+--------------------+--------------------+-----------------+-----------------+-----------------+-------------------+----------------------+--------------------+----------------------+--------------------+----------------------+--------------------+-----------------------+--------------+---------------+-----------------+-----------+--------------------+--------------------+--------------------+--------------------+--------------------+-----------------+-----------------+-----------------+--------------------+------------------+------------------+------------------+------------------+------------------+------------------+------------------+--------------------+--------------------+--------------------+--------------------+--------------------+--------------------+--------------------+-------------------+----------------------+--------------------+-----------------------+------------------------+-----------------+---------------------+--------------------------+---------------------------+--------------------+--------------------+--------------------+--------------------+--------------------+--------------+-------------+------------+--------------------+--------------------+--------------------+--------------------+--------------------+--------------------+--------------------+------------------+----------+----------+--------------------+----------+\n",
      "|  count|             98855|98855|     98855|      98855|         98855|             98855|               98855|               98855|               98855|               98855|      98855|          98855|               98855|               98855|               98855|               98855|               98855|            98855|             98855|             98855|             98855|             98855|            98855|             98855|            98855|            98855|            98855|             98855|            98855|            98855|            98855|             98855|            98855|             98855|             98855|             98855|             98855|            98855|                98855|                98855|                98855|                98855|                98855|              98855|              98855|              98855|              98855|              98855|              98855|              98855|               98855|               98855|               98855|     98855|             98855|         98855|               98855|              98855|               98855|               98855|               98855|               98855|            98855|            98855|            98855|              98855|                 98855|               98855|                 98855|               98855|                 98855|               98855|                  98855|         98855|          98855|            98855|      98855|               98855|               98855|               98855|               98855|               98855|            98855|            98855|            98855|               98855|             98855|             98855|             98855|             98855|             98855|             98855|             98855|               98855|               98855|               98855|               98855|               98855|               98855|               98855|              98855|                 98855|               98855|                  98855|                   98855|            98855|                98855|                     98855|                      98855|               98855|               98855|               98855|               98855|               98855|         98855|        98855|       98855|               98855|               98855|               98855|               98855|               98855|               98855|               98855|             98855|     98855|     98855|               98855|     98855|\n",
      "|   mean| 50822.97163522331| NULL|      NULL|       NULL|          NULL|              NULL|                NULL|                NULL|                NULL|                NULL|       NULL|           NULL|                NULL|                NULL|                NULL|                NULL|                NULL|6.397088900500112| 6.673523923266403| 5.906874673434351| 4.065790848697469| 3.953243263417183|4.407195640815108|  5.67318056281257|4.225199671568261| 7.64000895722923|6.057803985967007|1.8841769617055362|6.080609384146154|4.450553005329801|7.563218213746572| 7.068101297020857|5.765581194737977|  6.94819618595767| 5.615052835885271| 7.920746172094026| 6.865060537909363| 5.83862470539304|    3.035396049767996|   1.5605880179033385|   3.8499979468648626|    3.005112306492013|     3.54890567897179|  3.709540605457339|  4.224309177071387|  3.796572393049575| 3.0156016705256095| 3.4433384545474217|  4.974249670006276|  4.836388029342393|                NULL|                NULL|1.987004987382518...|      NULL| 95780.86178776571|          NULL|                NULL|               NULL|                NULL|                NULL|                NULL|                NULL|             NULL|             NULL|             NULL|               NULL|                  NULL|                NULL|                  NULL|                NULL|                  NULL|                NULL|                   NULL|          NULL|           NULL|1.846374463903974|       NULL|                NULL|                NULL|                NULL|                NULL|                NULL|             NULL|             NULL|             NULL|                NULL|2.7268804047685973|3.8057838257907703|3.3409447907538152| 3.782469948246499|4.3836042262603545| 5.138808512045504| 4.821458688139685|                NULL|                NULL|                NULL|                NULL|                NULL|                NULL|                NULL|               NULL|     7.728456186777072|                NULL|                   NULL|                    NULL|             NULL|                 NULL|         6.206094121140143|                       NULL|                NULL|                NULL|                NULL|                NULL|                NULL|          NULL|         NULL|        NULL|                NULL|                NULL|                NULL|                NULL|                NULL|                NULL|                NULL|              NULL|      NULL|      NULL|                NULL|      NULL|\n",
      "| stddev|29321.650409737365| NULL|      NULL|       NULL|          NULL|              NULL|                NULL|                NULL|                NULL|                NULL|       NULL|           NULL|                NULL|                NULL|                NULL|                NULL|                NULL| 2.78842821409578|2.5312017274346634|2.6427338538368788|2.5411960474848283|2.5204986610300164| 2.50206928484317|2.9239976342858984|2.507411273515739|2.407457039448611| 2.66340507731197|1.8809726837616576|3.080841474914146|2.808364947197979|2.830098768461414|2.6385128369977475|2.851319280121204|2.7464911054062533|2.7829176020591753|2.7657580424570356|2.6876167964252797|2.706478650757519|   1.3260785373587818|   0.9064631765186589|   1.3150950936039278|   1.1606217959359497|   1.1164605102240885|  2.071172401983127|   1.84250014472547|  2.082178302167932| 1.6513213183172135| 1.9831633662482586| 1.8606300065277968|  1.659844493348259|                NULL|                NULL|4.457583411875220...|      NULL|202348.21562529146|          NULL|                NULL|               NULL|                NULL|                NULL|                NULL|                NULL|             NULL|             NULL|             NULL|               NULL|                  NULL|                NULL|                  NULL|                NULL|                  NULL|                NULL|                   NULL|          NULL|           NULL| 0.70266640395843|       NULL|                NULL|                NULL|                NULL|                NULL|                NULL|             NULL|             NULL|             NULL|                NULL|1.8810778364049954| 1.821323266215126|1.6734846631897846|1.8448635511936224| 1.931746429147132|1.8532493789861681|1.8748948002920018|                NULL|                NULL|                NULL|                NULL|                NULL|                NULL|                NULL|               NULL|    1.4876194763839332|                NULL|                   NULL|                    NULL|             NULL|                 NULL|        1.9045103136423354|                       NULL|                NULL|                NULL|                NULL|                NULL|                NULL|          NULL|         NULL|        NULL|                NULL|                NULL|                NULL|                NULL|                NULL|                NULL|                NULL|              NULL|      NULL|      NULL|                NULL|      NULL|\n",
      "|    min|                 1|   No|        No|Afghanistan|            NA|Employed full-time|    Associate degree|A business discip...|1,000 to 4,999 em...|  Back-end developer|  0-2 years|      0-2 years|Extremely dissati...|Extremely dissati...| Doing the same work|I am actively loo...|Between 1 and 2 y...|                1|                 1|                 1|                 1|                 1|                1|                 1|                1|                1|                1|                 1|                1|                1|                1|                 1|                1|                 1|                 1|                 1|                 1|                1|                    1|                    1|                    1|                    1|                    1|                  1|                  1|                  1|                  1|                  1|                  1|                  1|A friend told me ...|Australian dollar...|                  .0|   Monthly|                 0|           AED|          Confluence|  Less than a month|Completed an indu...|A book or e-book ...|  Four to six months|Because I find it...|            Agree|            Agree|            Agree|           Assembly|              Assembly|     Amazon DynamoDB|       Amazon DynamoDB|                 AWS|                   AWS|           .NET Core|              .NET Core|Android Studio|       BSD/Unix|                1|      Agile|Copying and pasti...|A few times per week|I'm not sure/I do...|I'm not sure/I ca...|I wanted to suppo...|               NA|               NA|               NA|Clicked on an onl...|                 1|                 1|                 1|                 1|                 1|                 1|                 1|\"Artificial intel...|\"Artificial intel...|A governmental or...|I don't care abou...|Depends on what i...|Depends on what i...|                  NA|                 NA|        0 (Not Likely)|A few times per m...|   I'm not sure / I ...|    A few times per m...|               NA|                   NA|            0 (Not Likely)|               I'm not sure|A little bit inte...|A little bit inte...|A little bit inte...|A little bit inte...|A little bit inte...|After 12:01 PM|  1 - 4 hours| 1 - 2 hours|1 - 2 times per week|Ergonomic keyboar...|1 - 2 times per week|              Female|             Asexual|    Associate degree|Black or of Afric...| 18 - 24 years old|        NA|        NA|                  NA|        NA|\n",
      "|    max|             99999|  Yes|       Yes|   Zimbabwe|Yes, part-time|           Retired|Some college/univ...|Web development o...|                  NA|System administrator|         NA|             NA|  Slightly satisfied|  Slightly satisfied|Working in a diff...|                  NA|                  NA|               NA|                NA|                NA|                NA|                NA|               NA|                NA|               NA|               NA|               NA|                NA|               NA|               NA|               NA|                NA|               NA|                NA|                NA|                NA|                NA|               NA|                   NA|                   NA|                   NA|                   NA|                   NA|                 NA|                 NA|                 NA|                 NA|                 NA|                 NA|                 NA|                  NA|    U.S. dollars ($)|                  NA|    Yearly|                NA|           ZMW|Trello;Other wiki...|Three to six months|Taught yourself a...|The technology’s ...|Six months to a year|To win prizes or ...|Strongly disagree|Strongly disagree|Strongly disagree|Visual Basic 6;HTML|        Visual Basic 6|SQLite;Oracle;Neo...|  SQLite;Oracle;Mic...|iOS;WordPress;Fir...|  iOS;WordPress;Fir...|Xamarin;Torch/PyT...|   Xamarin;Torch/PyT...|          Zend|        Windows|               NA|      Scrum|Zip file back-ups...|Weekly or a few t...|                 Yes|                 Yes|The website I was...|Strongly disagree|Strongly disagree|Strongly disagree|Stopped going to ...|                NA|                NA|                NA|                NA|                NA|                NA|                NA|                  NA|                  NA|The developers or...|                  NA|                 Yes|Yes, but only wit...|Upper management ...|                Yes|                    NA|                  NA|                    Yes|                      NA|              Yes|                  Yes|                        NA|                        Yes|     Very interested|     Very interested|     Very interested|     Very interested|     Very interested|            NA|Over 12 hours|Over 4 hours|               Never|Wrist/hand suppor...|                  NA|Transgender;Non-b...|Straight or heter...|They never comple...|White or of Europ...|Under 18 years old|       Yes|       Yes|The survey was to...| Very easy|\n",
      "+-------+------------------+-----+----------+-----------+--------------+------------------+--------------------+--------------------+--------------------+--------------------+-----------+---------------+--------------------+--------------------+--------------------+--------------------+--------------------+-----------------+------------------+------------------+------------------+------------------+-----------------+------------------+-----------------+-----------------+-----------------+------------------+-----------------+-----------------+-----------------+------------------+-----------------+------------------+------------------+------------------+------------------+-----------------+---------------------+---------------------+---------------------+---------------------+---------------------+-------------------+-------------------+-------------------+-------------------+-------------------+-------------------+-------------------+--------------------+--------------------+--------------------+----------+------------------+--------------+--------------------+-------------------+--------------------+--------------------+--------------------+--------------------+-----------------+-----------------+-----------------+-------------------+----------------------+--------------------+----------------------+--------------------+----------------------+--------------------+-----------------------+--------------+---------------+-----------------+-----------+--------------------+--------------------+--------------------+--------------------+--------------------+-----------------+-----------------+-----------------+--------------------+------------------+------------------+------------------+------------------+------------------+------------------+------------------+--------------------+--------------------+--------------------+--------------------+--------------------+--------------------+--------------------+-------------------+----------------------+--------------------+-----------------------+------------------------+-----------------+---------------------+--------------------------+---------------------------+--------------------+--------------------+--------------------+--------------------+--------------------+--------------+-------------+------------+--------------------+--------------------+--------------------+--------------------+--------------------+--------------------+--------------------+------------------+----------+----------+--------------------+----------+\n",
      "\n"
     ]
    }
   ],
   "source": [
    "df.describe().show()"
   ]
  },
  {
   "cell_type": "code",
   "execution_count": null,
   "id": "fdcc489a",
   "metadata": {},
   "outputs": [],
   "source": []
  },
  {
   "cell_type": "code",
   "execution_count": null,
   "id": "3b7bb4c8",
   "metadata": {},
   "outputs": [],
   "source": []
  },
  {
   "cell_type": "code",
   "execution_count": 20,
   "id": "f2636f52",
   "metadata": {},
   "outputs": [
    {
     "data": {
      "text/plain": [
       "Row(Respondent='1', Hobby='Yes', OpenSource='No', Country='Kenya', Student='No', Employment='Employed part-time', FormalEducation='Bachelor’s degree (BA, BS, B.Eng., etc.)', UndergradMajor='Mathematics or statistics', CompanySize='20 to 99 employees', DevType='Full-stack developer', YearsCoding='3-5 years', YearsCodingProf='3-5 years', JobSatisfaction='Extremely satisfied', CareerSatisfaction='Extremely satisfied', HopeFiveYears='Working as a founder or co-founder of my own company', JobSearchStatus='I’m not actively looking, but I am open to new opportunities', LastNewJob='Less than a year ago', AssessJob1='10', AssessJob2='7', AssessJob3='8', AssessJob4='1', AssessJob5='2', AssessJob6='5', AssessJob7='3', AssessJob8='4', AssessJob9='9', AssessJob10='6', AssessBenefits1='NA', AssessBenefits2='NA', AssessBenefits3='NA', AssessBenefits4='NA', AssessBenefits5='NA', AssessBenefits6='NA', AssessBenefits7='NA', AssessBenefits8='NA', AssessBenefits9='NA', AssessBenefits10='NA', AssessBenefits11='NA', JobContactPriorities1='3', JobContactPriorities2='1', JobContactPriorities3='4', JobContactPriorities4='2', JobContactPriorities5='5', JobEmailPriorities1='5', JobEmailPriorities2='6', JobEmailPriorities3='7', JobEmailPriorities4='2', JobEmailPriorities5='1', JobEmailPriorities6='4', JobEmailPriorities7='3', UpdateCV='My job status or other personal status changed', Currency='NA', Salary='NA', SalaryType='Monthly', ConvertedSalary='NA', CurrencySymbol='KES', CommunicationTools='Slack', TimeFullyProductive='One to three months', EducationTypes='Taught yourself a new language, framework, or tool without taking a formal course;Participated in a hackathon', SelfTaughtTypes='The official documentation and/or standards for the technology;A book or e-book from O’Reilly, Apress, or a similar publisher;Questions & answers on Stack Overflow;Online developer communities other than Stack Overflow (ex. forums, listservs, IRC channels, etc.)', TimeAfterBootcamp='NA', HackathonReasons='To build my professional network', AgreeDisagree1='Strongly agree', AgreeDisagree2='Strongly agree', AgreeDisagree3='Neither Agree nor Disagree', LanguageWorkedWith='JavaScript;Python;HTML;CSS', LanguageDesireNextYear='JavaScript;Python;HTML;CSS', DatabaseWorkedWith='Redis;SQL Server;MySQL;PostgreSQL;Amazon RDS/Aurora;Microsoft Azure (Tables, CosmosDB, SQL, etc)', DatabaseDesireNextYear='Redis;SQL Server;MySQL;PostgreSQL;Amazon RDS/Aurora;Microsoft Azure (Tables, CosmosDB, SQL, etc)', PlatformWorkedWith='AWS;Azure;Linux;Firebase', PlatformDesireNextYear='AWS;Azure;Linux;Firebase', FrameworkWorkedWith='Django;React', FrameworkDesireNextYear='Django;React', IDE='Komodo;Vim;Visual Studio Code', OperatingSystem='Linux-based', NumberMonitors='1', Methodology='Agile;Scrum', VersionControl='Git', CheckInCode='Multiple times per day', AdBlocker='Yes', AdBlockerDisable='No', AdBlockerReasons='NA', AdsAgreeDisagree1='Strongly agree', AdsAgreeDisagree2='Strongly agree', AdsAgreeDisagree3='Strongly agree', AdsActions='Saw an online advertisement and then researched it (without clicking on the ad);Stopped going to a website because of their advertising', AdsPriorities1='1', AdsPriorities2='5', AdsPriorities3='4', AdsPriorities4='7', AdsPriorities5='2', AdsPriorities6='6', AdsPriorities7='3', AIDangerous='\"Artificial intelligence surpassing human intelligence (\"\"the singularity\"\")\"', AIInteresting='Algorithms making important decisions', AIResponsible='The developers or the people creating the AI', AIFuture=\"I'm excited about the possibilities more than worried about the dangers.\", EthicsChoice='No', EthicsReport='Yes, and publicly', EthicsResponsible='Upper management at the company/organization', EthicalImplications='Yes', StackOverflowRecommend='10 (Very Likely)', StackOverflowVisit='Multiple times per day', StackOverflowHasAccount='Yes', StackOverflowParticipate='I have never participated in Q&A on Stack Overflow', StackOverflowJobs='No, I knew that Stack Overflow had a jobs board but have never used or visited it', StackOverflowDevStory='Yes', StackOverflowJobsRecommend='NA', StackOverflowConsiderMember='Yes', HypotheticalTools1='Extremely interested', HypotheticalTools2='Extremely interested', HypotheticalTools3='Extremely interested', HypotheticalTools4='Extremely interested', HypotheticalTools5='Extremely interested', WakeTime='Between 5:00 - 6:00 AM', HoursComputer='9 - 12 hours', HoursOutside='1 - 2 hours', SkipMeals='Never', ErgonomicDevices='Standing desk', Exercise='3 - 4 times per week', Gender='Male', SexualOrientation='Straight or heterosexual', EducationParents='Bachelor’s degree (BA, BS, B.Eng., etc.)', RaceEthnicity='Black or of African descent', Age='25 - 34 years old', Dependents='Yes', MilitaryUS='NA', SurveyTooLong='The survey was an appropriate length', SurveyEasy='Very easy')"
      ]
     },
     "execution_count": 20,
     "metadata": {},
     "output_type": "execute_result"
    }
   ],
   "source": [
    "df.head()"
   ]
  },
  {
   "cell_type": "code",
   "execution_count": 21,
   "id": "b4b60f94",
   "metadata": {},
   "outputs": [
    {
     "name": "stdout",
     "output_type": "stream",
     "text": [
      "root\n",
      " |-- Respondent: string (nullable = true)\n",
      " |-- Hobby: string (nullable = true)\n",
      " |-- OpenSource: string (nullable = true)\n",
      " |-- Country: string (nullable = true)\n",
      " |-- Student: string (nullable = true)\n",
      " |-- Employment: string (nullable = true)\n",
      " |-- FormalEducation: string (nullable = true)\n",
      " |-- UndergradMajor: string (nullable = true)\n",
      " |-- CompanySize: string (nullable = true)\n",
      " |-- DevType: string (nullable = true)\n",
      " |-- YearsCoding: string (nullable = true)\n",
      " |-- YearsCodingProf: string (nullable = true)\n",
      " |-- JobSatisfaction: string (nullable = true)\n",
      " |-- CareerSatisfaction: string (nullable = true)\n",
      " |-- HopeFiveYears: string (nullable = true)\n",
      " |-- JobSearchStatus: string (nullable = true)\n",
      " |-- LastNewJob: string (nullable = true)\n",
      " |-- AssessJob1: string (nullable = true)\n",
      " |-- AssessJob2: string (nullable = true)\n",
      " |-- AssessJob3: string (nullable = true)\n",
      " |-- AssessJob4: string (nullable = true)\n",
      " |-- AssessJob5: string (nullable = true)\n",
      " |-- AssessJob6: string (nullable = true)\n",
      " |-- AssessJob7: string (nullable = true)\n",
      " |-- AssessJob8: string (nullable = true)\n",
      " |-- AssessJob9: string (nullable = true)\n",
      " |-- AssessJob10: string (nullable = true)\n",
      " |-- AssessBenefits1: string (nullable = true)\n",
      " |-- AssessBenefits2: string (nullable = true)\n",
      " |-- AssessBenefits3: string (nullable = true)\n",
      " |-- AssessBenefits4: string (nullable = true)\n",
      " |-- AssessBenefits5: string (nullable = true)\n",
      " |-- AssessBenefits6: string (nullable = true)\n",
      " |-- AssessBenefits7: string (nullable = true)\n",
      " |-- AssessBenefits8: string (nullable = true)\n",
      " |-- AssessBenefits9: string (nullable = true)\n",
      " |-- AssessBenefits10: string (nullable = true)\n",
      " |-- AssessBenefits11: string (nullable = true)\n",
      " |-- JobContactPriorities1: string (nullable = true)\n",
      " |-- JobContactPriorities2: string (nullable = true)\n",
      " |-- JobContactPriorities3: string (nullable = true)\n",
      " |-- JobContactPriorities4: string (nullable = true)\n",
      " |-- JobContactPriorities5: string (nullable = true)\n",
      " |-- JobEmailPriorities1: string (nullable = true)\n",
      " |-- JobEmailPriorities2: string (nullable = true)\n",
      " |-- JobEmailPriorities3: string (nullable = true)\n",
      " |-- JobEmailPriorities4: string (nullable = true)\n",
      " |-- JobEmailPriorities5: string (nullable = true)\n",
      " |-- JobEmailPriorities6: string (nullable = true)\n",
      " |-- JobEmailPriorities7: string (nullable = true)\n",
      " |-- UpdateCV: string (nullable = true)\n",
      " |-- Currency: string (nullable = true)\n",
      " |-- Salary: string (nullable = true)\n",
      " |-- SalaryType: string (nullable = true)\n",
      " |-- ConvertedSalary: string (nullable = true)\n",
      " |-- CurrencySymbol: string (nullable = true)\n",
      " |-- CommunicationTools: string (nullable = true)\n",
      " |-- TimeFullyProductive: string (nullable = true)\n",
      " |-- EducationTypes: string (nullable = true)\n",
      " |-- SelfTaughtTypes: string (nullable = true)\n",
      " |-- TimeAfterBootcamp: string (nullable = true)\n",
      " |-- HackathonReasons: string (nullable = true)\n",
      " |-- AgreeDisagree1: string (nullable = true)\n",
      " |-- AgreeDisagree2: string (nullable = true)\n",
      " |-- AgreeDisagree3: string (nullable = true)\n",
      " |-- LanguageWorkedWith: string (nullable = true)\n",
      " |-- LanguageDesireNextYear: string (nullable = true)\n",
      " |-- DatabaseWorkedWith: string (nullable = true)\n",
      " |-- DatabaseDesireNextYear: string (nullable = true)\n",
      " |-- PlatformWorkedWith: string (nullable = true)\n",
      " |-- PlatformDesireNextYear: string (nullable = true)\n",
      " |-- FrameworkWorkedWith: string (nullable = true)\n",
      " |-- FrameworkDesireNextYear: string (nullable = true)\n",
      " |-- IDE: string (nullable = true)\n",
      " |-- OperatingSystem: string (nullable = true)\n",
      " |-- NumberMonitors: string (nullable = true)\n",
      " |-- Methodology: string (nullable = true)\n",
      " |-- VersionControl: string (nullable = true)\n",
      " |-- CheckInCode: string (nullable = true)\n",
      " |-- AdBlocker: string (nullable = true)\n",
      " |-- AdBlockerDisable: string (nullable = true)\n",
      " |-- AdBlockerReasons: string (nullable = true)\n",
      " |-- AdsAgreeDisagree1: string (nullable = true)\n",
      " |-- AdsAgreeDisagree2: string (nullable = true)\n",
      " |-- AdsAgreeDisagree3: string (nullable = true)\n",
      " |-- AdsActions: string (nullable = true)\n",
      " |-- AdsPriorities1: string (nullable = true)\n",
      " |-- AdsPriorities2: string (nullable = true)\n",
      " |-- AdsPriorities3: string (nullable = true)\n",
      " |-- AdsPriorities4: string (nullable = true)\n",
      " |-- AdsPriorities5: string (nullable = true)\n",
      " |-- AdsPriorities6: string (nullable = true)\n",
      " |-- AdsPriorities7: string (nullable = true)\n",
      " |-- AIDangerous: string (nullable = true)\n",
      " |-- AIInteresting: string (nullable = true)\n",
      " |-- AIResponsible: string (nullable = true)\n",
      " |-- AIFuture: string (nullable = true)\n",
      " |-- EthicsChoice: string (nullable = true)\n",
      " |-- EthicsReport: string (nullable = true)\n",
      " |-- EthicsResponsible: string (nullable = true)\n",
      " |-- EthicalImplications: string (nullable = true)\n",
      " |-- StackOverflowRecommend: string (nullable = true)\n",
      " |-- StackOverflowVisit: string (nullable = true)\n",
      " |-- StackOverflowHasAccount: string (nullable = true)\n",
      " |-- StackOverflowParticipate: string (nullable = true)\n",
      " |-- StackOverflowJobs: string (nullable = true)\n",
      " |-- StackOverflowDevStory: string (nullable = true)\n",
      " |-- StackOverflowJobsRecommend: string (nullable = true)\n",
      " |-- StackOverflowConsiderMember: string (nullable = true)\n",
      " |-- HypotheticalTools1: string (nullable = true)\n",
      " |-- HypotheticalTools2: string (nullable = true)\n",
      " |-- HypotheticalTools3: string (nullable = true)\n",
      " |-- HypotheticalTools4: string (nullable = true)\n",
      " |-- HypotheticalTools5: string (nullable = true)\n",
      " |-- WakeTime: string (nullable = true)\n",
      " |-- HoursComputer: string (nullable = true)\n",
      " |-- HoursOutside: string (nullable = true)\n",
      " |-- SkipMeals: string (nullable = true)\n",
      " |-- ErgonomicDevices: string (nullable = true)\n",
      " |-- Exercise: string (nullable = true)\n",
      " |-- Gender: string (nullable = true)\n",
      " |-- SexualOrientation: string (nullable = true)\n",
      " |-- EducationParents: string (nullable = true)\n",
      " |-- RaceEthnicity: string (nullable = true)\n",
      " |-- Age: string (nullable = true)\n",
      " |-- Dependents: string (nullable = true)\n",
      " |-- MilitaryUS: string (nullable = true)\n",
      " |-- SurveyTooLong: string (nullable = true)\n",
      " |-- SurveyEasy: string (nullable = true)\n",
      "\n"
     ]
    }
   ],
   "source": [
    "df.printSchema()"
   ]
  },
  {
   "cell_type": "code",
   "execution_count": 22,
   "id": "e90f94cf",
   "metadata": {},
   "outputs": [
    {
     "name": "stdout",
     "output_type": "stream",
     "text": [
      "+---------+\n",
      "|namespace|\n",
      "+---------+\n",
      "|  default|\n",
      "+---------+\n",
      "\n"
     ]
    }
   ],
   "source": [
    "spark.sql(\"show databases\").show()"
   ]
  },
  {
   "cell_type": "code",
   "execution_count": 23,
   "id": "cb6216ad",
   "metadata": {},
   "outputs": [
    {
     "name": "stdout",
     "output_type": "stream",
     "text": [
      "+----------+-----+\n",
      "|Respondent|Hobby|\n",
      "+----------+-----+\n",
      "|         1|  Yes|\n",
      "|         3|  Yes|\n",
      "|         4|  Yes|\n",
      "|         5|   No|\n",
      "|         7|  Yes|\n",
      "+----------+-----+\n",
      "only showing top 5 rows\n",
      "\n"
     ]
    }
   ],
   "source": [
    "df.select('Respondent','Hobby').show(5)"
   ]
  },
  {
   "cell_type": "code",
   "execution_count": 24,
   "id": "2a70e6b1",
   "metadata": {},
   "outputs": [
    {
     "name": "stdout",
     "output_type": "stream",
     "text": [
      "+----------+\n",
      "|Respondent|\n",
      "+----------+\n",
      "|         3|\n",
      "|         7|\n",
      "|         8|\n",
      "|         9|\n",
      "|        11|\n",
      "|        27|\n",
      "|        33|\n",
      "|        38|\n",
      "|        39|\n",
      "|        41|\n",
      "|        43|\n",
      "|        44|\n",
      "|        47|\n",
      "|        51|\n",
      "|        52|\n",
      "|        54|\n",
      "|        56|\n",
      "|        61|\n",
      "|        63|\n",
      "|        66|\n",
      "+----------+\n",
      "only showing top 20 rows\n",
      "\n"
     ]
    }
   ],
   "source": [
    "spark.sql(\"\"\"\n",
    "Select Respondent\n",
    "from s\n",
    "where salary >1000\n",
    "\"\"\").show()"
   ]
  },
  {
   "cell_type": "code",
   "execution_count": 67,
   "id": "b85cc9b1",
   "metadata": {},
   "outputs": [],
   "source": [
    "# Start preprocessing\n",
    "from pyspark.sql.functions import col,count,isnan,when"
   ]
  },
  {
   "cell_type": "code",
   "execution_count": 131,
   "id": "4a76a11b",
   "metadata": {},
   "outputs": [
    {
     "name": "stderr",
     "output_type": "stream",
     "text": [
      "                                                                                \r"
     ]
    },
    {
     "name": "stdout",
     "output_type": "stream",
     "text": [
      "+--------------------+------------+\n",
      "|              column|miss_percent|\n",
      "+--------------------+------------+\n",
      "|   TimeAfterBootcamp|          93|\n",
      "|          MilitaryUS|          84|\n",
      "|    HackathonReasons|          74|\n",
      "|    ErgonomicDevices|          65|\n",
      "|    AdBlockerReasons|          61|\n",
      "|StackOverflowJobs...|          61|\n",
      "| JobEmailPriorities1|          53|\n",
      "| JobEmailPriorities2|          53|\n",
      "| JobEmailPriorities3|          53|\n",
      "| JobEmailPriorities4|          53|\n",
      "| JobEmailPriorities5|          53|\n",
      "| JobEmailPriorities6|          53|\n",
      "| JobEmailPriorities7|          53|\n",
      "|     ConvertedSalary|          51|\n",
      "|JobContactPriorit...|          50|\n",
      "|JobContactPriorit...|          50|\n",
      "|JobContactPriorit...|          50|\n",
      "|JobContactPriorit...|          50|\n",
      "|JobContactPriorit...|          50|\n",
      "|              Salary|          48|\n",
      "+--------------------+------------+\n",
      "only showing top 20 rows\n",
      "\n"
     ]
    }
   ],
   "source": [
    "df_cleaned = df.replace(\"NA\",None).replace(\"\",None)\n",
    "\n",
    "miss_value = df_cleaned.select([count(when(col(c).isNull() | isnan(col(c)), c)).alias(c) for c in df_cleaned.columns])\n",
    "\n",
    "# Total number of rows in the DataFrame\n",
    "total_rows = df_cleaned.count()\n",
    "\n",
    "# Calculate missing value percentages\n",
    "miss_value_percent = [int(100 * miss_value.collect()[0][i] / total_rows) for i in range(len(miss_value.columns))]\n",
    "\n",
    "# Create a DataFrame with column names and corresponding missing value percentages\n",
    "miss_table = spark.createDataFrame(list(zip(df_cleaned.columns, miss_value_percent)), schema=['column', 'miss_percent'])\n",
    "\n",
    "# Show the result\n",
    "miss_table = miss_table.orderBy(col('miss_percent').desc())\n",
    "miss_table.show()"
   ]
  },
  {
   "cell_type": "code",
   "execution_count": 132,
   "id": "9059c278",
   "metadata": {
    "scrolled": true
   },
   "outputs": [
    {
     "name": "stdout",
     "output_type": "stream",
     "text": [
      "+-----+----------+--------------+--------------+------------------+--------------------+--------------------+--------------------+--------------------+----------------+---------------+--------------------+--------------------+--------------------+--------------------+--------------------+----------+----------+----------+----------+----------+----------+----------+----------+----------+-----------+---------------+---------------+---------------+---------------+---------------+---------------+---------------+---------------+---------------+----------------+----------------+---------------------+---------------------+---------------------+---------------------+---------------------+-------------------+-------------------+-------------------+-------------------+-------------------+-------------------+-------------------+--------------------+---------------+--------------------+-------------------+--------------------+--------------------+--------------------+--------------------+--------------------+--------------------+----------------------+--------------------+----------------------+--------------------+----------------------+--------------------+-----------------------+--------------------+---------------+--------------+--------------------+--------------------+--------------------+--------------------+----------------+--------------------+--------------------+--------------------+--------------------+--------------+--------------+--------------+--------------+--------------+--------------+--------------+--------------------+--------------------+--------------------+--------------------+--------------------+--------------------+--------------------+--------------------+----------------------+--------------------+-----------------------+------------------------+--------------------+---------------------+---------------------------+--------------------+--------------------+--------------------+--------------------+--------------------+--------------------+-------------+--------------------+--------------------+--------------------+------+--------------------+--------------------+--------------------+-----------------+----------+--------------------+--------------------+\n",
      "|Hobby|OpenSource|       Country|       Student|        Employment|     FormalEducation|      UndergradMajor|         CompanySize|             DevType|     YearsCoding|YearsCodingProf|     JobSatisfaction|  CareerSatisfaction|       HopeFiveYears|     JobSearchStatus|          LastNewJob|AssessJob1|AssessJob2|AssessJob3|AssessJob4|AssessJob5|AssessJob6|AssessJob7|AssessJob8|AssessJob9|AssessJob10|AssessBenefits1|AssessBenefits2|AssessBenefits3|AssessBenefits4|AssessBenefits5|AssessBenefits6|AssessBenefits7|AssessBenefits8|AssessBenefits9|AssessBenefits10|AssessBenefits11|JobContactPriorities1|JobContactPriorities2|JobContactPriorities3|JobContactPriorities4|JobContactPriorities5|JobEmailPriorities1|JobEmailPriorities2|JobEmailPriorities3|JobEmailPriorities4|JobEmailPriorities5|JobEmailPriorities6|JobEmailPriorities7|            UpdateCV|ConvertedSalary|  CommunicationTools|TimeFullyProductive|      EducationTypes|     SelfTaughtTypes|      AgreeDisagree1|      AgreeDisagree2|      AgreeDisagree3|  LanguageWorkedWith|LanguageDesireNextYear|  DatabaseWorkedWith|DatabaseDesireNextYear|  PlatformWorkedWith|PlatformDesireNextYear| FrameworkWorkedWith|FrameworkDesireNextYear|                 IDE|OperatingSystem|NumberMonitors|         Methodology|      VersionControl|         CheckInCode|           AdBlocker|AdBlockerDisable|   AdsAgreeDisagree1|   AdsAgreeDisagree2|   AdsAgreeDisagree3|          AdsActions|AdsPriorities1|AdsPriorities2|AdsPriorities3|AdsPriorities4|AdsPriorities5|AdsPriorities6|AdsPriorities7|         AIDangerous|       AIInteresting|       AIResponsible|            AIFuture|        EthicsChoice|        EthicsReport|   EthicsResponsible| EthicalImplications|StackOverflowRecommend|  StackOverflowVisit|StackOverflowHasAccount|StackOverflowParticipate|   StackOverflowJobs|StackOverflowDevStory|StackOverflowConsiderMember|  HypotheticalTools1|  HypotheticalTools2|  HypotheticalTools3|  HypotheticalTools4|  HypotheticalTools5|            WakeTime|HoursComputer|        HoursOutside|           SkipMeals|            Exercise|Gender|   SexualOrientation|    EducationParents|       RaceEthnicity|              Age|Dependents|       SurveyTooLong|          SurveyEasy|\n",
      "+-----+----------+--------------+--------------+------------------+--------------------+--------------------+--------------------+--------------------+----------------+---------------+--------------------+--------------------+--------------------+--------------------+--------------------+----------+----------+----------+----------+----------+----------+----------+----------+----------+-----------+---------------+---------------+---------------+---------------+---------------+---------------+---------------+---------------+---------------+----------------+----------------+---------------------+---------------------+---------------------+---------------------+---------------------+-------------------+-------------------+-------------------+-------------------+-------------------+-------------------+-------------------+--------------------+---------------+--------------------+-------------------+--------------------+--------------------+--------------------+--------------------+--------------------+--------------------+----------------------+--------------------+----------------------+--------------------+----------------------+--------------------+-----------------------+--------------------+---------------+--------------+--------------------+--------------------+--------------------+--------------------+----------------+--------------------+--------------------+--------------------+--------------------+--------------+--------------+--------------+--------------+--------------+--------------+--------------+--------------------+--------------------+--------------------+--------------------+--------------------+--------------------+--------------------+--------------------+----------------------+--------------------+-----------------------+------------------------+--------------------+---------------------+---------------------------+--------------------+--------------------+--------------------+--------------------+--------------------+--------------------+-------------+--------------------+--------------------+--------------------+------+--------------------+--------------------+--------------------+-----------------+----------+--------------------+--------------------+\n",
      "|  Yes|        No|         Kenya|            No|Employed part-time|Bachelor’s degree...|Mathematics or st...|  20 to 99 employees|Full-stack developer|       3-5 years|      3-5 years| Extremely satisfied| Extremely satisfied|Working as a foun...|I’m not actively ...|Less than a year ago|        10|         7|         8|         1|         2|         5|         3|         4|         9|          6|           NULL|           NULL|           NULL|           NULL|           NULL|           NULL|           NULL|           NULL|           NULL|            NULL|            NULL|                    3|                    1|                    4|                    2|                    5|                  5|                  6|                  7|                  2|                  1|                  4|                  3|My job status or ...|           NULL|               Slack|One to three months|Taught yourself a...|The official docu...|      Strongly agree|      Strongly agree|Neither Agree nor...|JavaScript;Python...|  JavaScript;Python...|Redis;SQL Server;...|  Redis;SQL Server;...|AWS;Azure;Linux;F...|  AWS;Azure;Linux;F...|        Django;React|           Django;React|Komodo;Vim;Visual...|    Linux-based|             1|         Agile;Scrum|                 Git|Multiple times pe...|                 Yes|              No|      Strongly agree|      Strongly agree|      Strongly agree|Saw an online adv...|             1|             5|             4|             7|             2|             6|             3|\"Artificial intel...|Algorithms making...|The developers or...|I'm excited about...|                  No|   Yes, and publicly|Upper management ...|                 Yes|      10 (Very Likely)|Multiple times pe...|                    Yes|    I have never part...|No, I knew that S...|                  Yes|                        Yes|Extremely interested|Extremely interested|Extremely interested|Extremely interested|Extremely interested|Between 5:00 - 6:...| 9 - 12 hours|         1 - 2 hours|               Never|3 - 4 times per week|  Male|Straight or heter...|Bachelor’s degree...|Black or of Afric...|25 - 34 years old|       Yes|The survey was an...|           Very easy|\n",
      "|  Yes|       Yes|United Kingdom|            No|Employed full-time|Bachelor’s degree...|A natural science...|10,000 or more em...|Database administ...|30 or more years|    18-20 years|Moderately dissat...|Neither satisfied...|Working in a diff...|I am actively loo...|More than 4 years...|         1|         7|        10|         8|         2|         5|         4|         3|         6|          9|              1|              5|              3|              7|             10|              4|             11|              9|              6|               2|               8|                    3|                    1|                    5|                    2|                    4|                  1|                  3|                  4|                  5|                  2|                  6|                  7|I saw an employer...|          70841|Confluence;Office...|One to three months|Taught yourself a...|The official docu...|               Agree|               Agree|Neither Agree nor...|JavaScript;Python...|             Go;Python|Redis;PostgreSQL;...|            PostgreSQL|               Linux|                 Linux|              Django|                  React|IPython / Jupyter...|    Linux-based|             2|                NULL|      Git;Subversion|A few times per week|                 Yes|             Yes|      Somewhat agree|Neither agree nor...|Neither agree nor...|                NULL|             3|             5|             1|             4|             6|             7|             2|Increasing automa...|Increasing automa...|The developers or...|I'm excited about...|Depends on what i...|Depends on what i...|Upper management ...|                 Yes|      10 (Very Likely)|A few times per m...|                    Yes|    A few times per m...|                 Yes| No, I have one bu...|                        Yes|A little bit inte...|A little bit inte...|A little bit inte...|A little bit inte...|A little bit inte...|Between 6:01 - 7:...|  5 - 8 hours|     30 - 59 minutes|               Never|Daily or almost e...|  Male|Straight or heter...|Bachelor’s degree...|White or of Europ...|35 - 44 years old|       Yes|The survey was an...|       Somewhat easy|\n",
      "|  Yes|       Yes| United States|            No|Employed full-time|    Associate degree|Computer science,...|  20 to 99 employees|Engineering manag...|     24-26 years|      6-8 years|Moderately satisfied|Moderately satisfied|Working as a foun...|I’m not actively ...|Less than a year ago|      NULL|      NULL|      NULL|      NULL|      NULL|      NULL|      NULL|      NULL|      NULL|       NULL|           NULL|           NULL|           NULL|           NULL|           NULL|           NULL|           NULL|           NULL|           NULL|            NULL|            NULL|                 NULL|                 NULL|                 NULL|                 NULL|                 NULL|               NULL|               NULL|               NULL|               NULL|               NULL|               NULL|               NULL|                NULL|           NULL|                NULL|               NULL|                NULL|                NULL|                NULL|                NULL|                NULL|                NULL|                  NULL|                NULL|                  NULL|                NULL|                  NULL|                NULL|                   NULL|                NULL|           NULL|          NULL|                NULL|                NULL|                NULL|                NULL|            NULL|                NULL|                NULL|                NULL|                NULL|          NULL|          NULL|          NULL|          NULL|          NULL|          NULL|          NULL|                NULL|                NULL|                NULL|                NULL|                NULL|                NULL|                NULL|                NULL|                  NULL|                NULL|                   NULL|                    NULL|                NULL|                 NULL|                       NULL|                NULL|                NULL|                NULL|                NULL|                NULL|                NULL|         NULL|                NULL|                NULL|                NULL|  NULL|                NULL|                NULL|                NULL|             NULL|      NULL|                NULL|                NULL|\n",
      "|   No|        No| United States|            No|Employed full-time|Bachelor’s degree...|Computer science,...|100 to 499 employees|Full-stack developer|     18-20 years|    12-14 years|Neither satisfied...|Slightly dissatis...|Working as a foun...|I’m not actively ...|Less than a year ago|      NULL|      NULL|      NULL|      NULL|      NULL|      NULL|      NULL|      NULL|      NULL|       NULL|           NULL|           NULL|           NULL|           NULL|           NULL|           NULL|           NULL|           NULL|           NULL|            NULL|            NULL|                 NULL|                 NULL|                 NULL|                 NULL|                 NULL|               NULL|               NULL|               NULL|               NULL|               NULL|               NULL|               NULL|A recruiter conta...|           NULL|                NULL|Three to six months|Completed an indu...|The official docu...|            Disagree|            Disagree|   Strongly disagree|C#;JavaScript;SQL...|  C#;JavaScript;SQL...|SQL Server;Micros...|  SQL Server;Micros...|               Azure|                 Azure|                NULL|   Angular;.NET Core...|Visual Studio;Vis...|        Windows|             2|  Agile;Kanban;Scrum|                 Git|Multiple times pe...|                 Yes|             Yes|Neither agree nor...|      Somewhat agree|      Somewhat agree|Stopped going to ...|          NULL|          NULL|          NULL|          NULL|          NULL|          NULL|          NULL|\"Artificial intel...|\"Artificial intel...|A governmental or...|I don't care abou...|                  No|Yes, but only wit...|Upper management ...|                 Yes|      10 (Very Likely)|A few times per week|                    Yes|    A few times per m...|                 Yes| No, I have one bu...|                        Yes| Somewhat interested| Somewhat interested| Somewhat interested| Somewhat interested| Somewhat interested|Between 6:01 - 7:...| 9 - 12 hours|Less than 30 minutes|3 - 4 times per week|I don't typically...|  Male|Straight or heter...|Some college/univ...|White or of Europ...|35 - 44 years old|        No|The survey was an...|       Somewhat easy|\n",
      "|  Yes|        No|  South Africa|Yes, part-time|Employed full-time|Some college/univ...|Computer science,...|10,000 or more em...|Data or business ...|       6-8 years|      0-2 years|  Slightly satisfied|Moderately satisfied|Working in a diff...|I’m not actively ...|Between 1 and 2 y...|         8|         5|         7|         1|         2|         6|         4|         3|        10|          9|              1|             10|              2|              4|              8|              3|             11|              7|              5|               9|               6|                    2|                    1|                    4|                    5|                    3|                  7|                  3|                  6|                  2|                  1|                  4|                  5|My job status or ...|          21426|Office / producti...|Three to six months|Taken a part-time...|The official docu...|      Strongly agree|               Agree|   Strongly disagree|C;C++;Java;Matlab...|  Assembly;C;C++;Ma...|SQL Server;Postgr...|  PostgreSQL;Oracle...|Arduino;Windows D...|  Arduino;Windows D...|                NULL|                   NULL|Notepad++;Visual ...|        Windows|             2|Evidence-based so...|   Zip file back-ups|Weekly or a few t...|                  No|            NULL|      Somewhat agree|      Somewhat agree|   Somewhat disagree|Clicked on an onl...|             2|             3|             4|             6|             1|             7|             5|Algorithms making...|Algorithms making...|The developers or...|I'm excited about...|                  No|Yes, but only wit...|Upper management ...|                 Yes|      10 (Very Likely)|Daily or almost d...|                    Yes|    Less than once pe...|No, I knew that S...| No, I know what i...|                        Yes|Extremely interested|Extremely interested|Extremely interested|Extremely interested|Extremely interested|      Before 5:00 AM|Over 12 hours|         1 - 2 hours|               Never|3 - 4 times per week|  Male|Straight or heter...|Some college/univ...|White or of Europ...|18 - 24 years old|       Yes|The survey was an...|       Somewhat easy|\n",
      "|  Yes|        No|United Kingdom|            No|Employed full-time|Bachelor’s degree...|Computer science,...|  10 to 19 employees|Back-end develope...|       6-8 years|      3-5 years|Moderately satisfied|  Slightly satisfied|Working in a diff...|I am actively loo...|Between 2 and 4 y...|         8|         5|         4|         9|         1|         3|         6|         2|        10|          7|              1|              3|              4|             10|              9|              2|              6|              5|             11|               7|               8|                    4|                    2|                    5|                    1|                    3|                  2|                  6|                  7|                  3|                  1|                  5|                  4|I did not receive...|          41671|Confluence;Jira;O...|  Less than a month|Received on-the-j...|The official docu...|            Disagree|Neither Agree nor...|   Strongly disagree|Java;JavaScript;P...|  C#;Go;Java;JavaSc...|             MongoDB|            PostgreSQL|               Linux|                 Linux|     Angular;Node.js|                Node.js|IntelliJ;PyCharm;...|    Linux-based|             2|               Agile|                 Git|A few times per week|                 Yes|             Yes|      Somewhat agree|      Somewhat agree|   Somewhat disagree|Saw an online adv...|             1|             3|             4|             2|             7|             5|             6|Increasing automa...|Algorithms making...|A governmental or...|I'm excited about...|Depends on what i...|Depends on what i...|Upper management ...|Unsure / I don't ...|                     7|A few times per m...|                    Yes|    Less than once pe...|                 Yes| No, I have one bu...|                         No|A little bit inte...|Not at all intere...|     Very interested|     Very interested|Extremely interested|Between 7:01 - 8:...| 9 - 12 hours|     30 - 59 minutes|1 - 2 times per week|1 - 2 times per week|  Male|Straight or heter...|Secondary school ...|White or of Europ...|18 - 24 years old|        No|The survey was an...|       Somewhat easy|\n",
      "|  Yes|       Yes| United States|            No|Employed full-time|Some college/univ...|Computer science,...|10,000 or more em...|Back-end develope...|      9-11 years|      0-2 years|  Slightly satisfied|Moderately satisfied|Working as a foun...|I’m not actively ...|Less than a year ago|         5|         3|         9|         4|         1|         8|         2|         7|        10|          6|              1|              3|              2|              9|             11|              4|              8|              6|              7|              10|               5|                    3|                    1|                    5|                    4|                    2|                  1|                  5|                  3|                  4|                  2|                  6|                  7|My job status or ...|         120000|Confluence;Office...| Six to nine months|Received on-the-j...|The official docu...|            Disagree|               Agree|   Strongly disagree| JavaScript;HTML;CSS|  C;Go;JavaScript;P...|             MongoDB|                  NULL|               Linux|                 Linux|       Node.js;React|       React;TensorFlow|Atom;Visual Studi...|          MacOS|             2|         Agile;Scrum|                 Git|Multiple times pe...|                 Yes|             Yes|   Somewhat disagree|Neither agree nor...|   Somewhat disagree|Clicked on an onl...|             1|             4|             2|             5|             3|             7|             6|Algorithms making...|\"Artificial intel...|The developers or...|I'm excited about...|Depends on what i...|Yes, but only wit...|Upper management ...|                 Yes|      10 (Very Likely)|Multiple times pe...|                    Yes|    I have never part...|                 Yes| No, I have one bu...|                         No|     Very interested|A little bit inte...|Extremely interested|     Very interested|     Very interested|Between 9:01 - 10...|Over 12 hours|Less than 30 minutes|1 - 2 times per week|I don't typically...|  Male|Straight or heter...|Master’s degree (...|White or of Europ...|18 - 24 years old|        No|The survey was an...|       Somewhat easy|\n",
      "|  Yes|       Yes|       Nigeria|            No|Employed full-time|Bachelor’s degree...|Computer science,...|  10 to 19 employees|Designer;Front-en...|       0-2 years|      3-5 years|  Slightly satisfied|Moderately satisfied|Working as a foun...|I’m not actively ...|Less than a year ago|         6|         5|         4|         2|         7|         8|        10|         1|         9|          3|              1|              3|              5|              7|              6|              2|             11|              9|              4|              10|               8|                    1|                    3|                    2|                    4|                    5|                  2|                  6|                  1|                  3|                  7|                  5|                  4|I saw an employer...|           NULL|Facebook;Google H...|One to three months|Taken an online c...|                NULL|      Strongly agree|   Strongly disagree|Neither Agree nor...|JavaScript;TypeSc...|  Matlab;SQL;Kotlin...|MongoDB;MySQL;Mic...|                  NULL|        Azure;Heroku|  Amazon Echo;Andro...|     Angular;Node.js|       .NET Core;Django|Atom;Notepad++;Su...|        Windows|             1|Agile;Extreme pro...|                 Git|Multiple times pe...|                 Yes|              No|      Strongly agree|Neither agree nor...|   Strongly disagree|Saw an online adv...|          NULL|          NULL|          NULL|          NULL|          NULL|          NULL|          NULL|\"Artificial intel...|\"Evolving definit...|                NULL|I'm excited about...|Depends on what i...|Yes, but only wit...|The developer who...|                 Yes|      10 (Very Likely)|Daily or almost d...|                    Yes|    A few times per m...|No, I knew that S...| No, and I don't k...|                        Yes|     Very interested|     Very interested|     Very interested|A little bit inte...|Extremely interested|I do not have a s...|Over 12 hours|         1 - 2 hours|Daily or almost e...|1 - 2 times per week|Female|                NULL|Primary/elementar...|Black or of Afric...|25 - 34 years old|        No|The survey was to...|  Somewhat difficult|\n",
      "|  Yes|       Yes| United States|            No|Employed full-time|Some college/univ...|Fine arts or perf...|100 to 499 employees|Back-end develope...|30 or more years|    21-23 years|Moderately satisfied|Moderately satisfied| Doing the same work|I’m not actively ...|Between 2 and 4 y...|         6|         3|         7|         4|         1|         5|        10|         8|         9|          2|              1|              3|              2|              9|             11|              5|              8|              4|             10|               7|               6|                    5|                    1|                    2|                    3|                    4|                  3|                  7|                  2|                  4|                  1|                  6|                  5|My job status or ...|         250000|Confluence;HipCha...|Three to six months|Taken an online c...|The official docu...|      Strongly agree|   Strongly disagree|   Strongly disagree|Assembly;CoffeeSc...|  Erlang;Go;Python;...|Redis;PostgreSQL;...|  Redis;PostgreSQL;...|Amazon Echo;AWS;i...|  AWS;Linux;Mac OS;...|Hadoop;Node.js;Re...|                   NULL|IntelliJ;PyCharm;...|          MacOS|             1|Agile;Evidence-ba...|                 Git|Multiple times pe...|                  No|            NULL|Neither agree nor...|      Somewhat agree|Neither agree nor...|Clicked on an onl...|             1|             3|             5|             4|             2|             7|             6|Algorithms making...|\"Artificial intel...|The developers or...|I'm worried about...|                  No|   Yes, and publicly|The person who ca...|                 Yes|                     7|A few times per m...|                    Yes|    Less than once pe...|                 Yes|                  Yes|                         No|Not at all intere...|Not at all intere...|Not at all intere...|Not at all intere...|Not at all intere...|Between 8:01 - 9:...| 9 - 12 hours|Less than 30 minutes|1 - 2 times per week|I don't typically...|  Male|Straight or heter...|Some college/univ...|White or of Europ...|35 - 44 years old|       Yes|The survey was an...|           Very easy|\n",
      "|   No|       Yes|         India|            No|Employed full-time|Bachelor’s degree...|Computer science,...|500 to 999 employees|            Designer|       0-2 years|           NULL|                NULL|                NULL|                NULL|                NULL|                NULL|      NULL|      NULL|      NULL|      NULL|      NULL|      NULL|      NULL|      NULL|      NULL|       NULL|           NULL|           NULL|           NULL|           NULL|           NULL|           NULL|           NULL|           NULL|           NULL|            NULL|            NULL|                 NULL|                 NULL|                 NULL|                 NULL|                 NULL|               NULL|               NULL|               NULL|               NULL|               NULL|               NULL|               NULL|                NULL|           NULL|                NULL|               NULL|                NULL|                NULL|                NULL|                NULL|                NULL|                NULL|                  NULL|                NULL|                  NULL|                NULL|                  NULL|                NULL|                   NULL|                NULL|           NULL|          NULL|                NULL|                NULL|                NULL|                NULL|            NULL|                NULL|                NULL|                NULL|                NULL|          NULL|          NULL|          NULL|          NULL|          NULL|          NULL|          NULL|                NULL|                NULL|                NULL|                NULL|                NULL|                NULL|                NULL|                NULL|                  NULL|                NULL|                   NULL|                    NULL|                NULL|                 NULL|                       NULL|                NULL|                NULL|                NULL|                NULL|                NULL|                NULL|         NULL|                NULL|                NULL|                NULL|  NULL|                NULL|                NULL|                NULL|             NULL|      NULL|                NULL|                NULL|\n",
      "|  Yes|        No|         Spain|            No|Employed full-time|Master’s degree (...|Information syste...|1,000 to 4,999 em...|Back-end develope...|       6-8 years|      0-2 years|Moderately dissat...|Moderately dissat...| Doing the same work|                NULL|                NULL|      NULL|      NULL|      NULL|      NULL|      NULL|      NULL|      NULL|      NULL|      NULL|       NULL|           NULL|           NULL|           NULL|           NULL|           NULL|           NULL|           NULL|           NULL|           NULL|            NULL|            NULL|                 NULL|                 NULL|                 NULL|                 NULL|                 NULL|               NULL|               NULL|               NULL|               NULL|               NULL|               NULL|               NULL|                NULL|           NULL|                NULL|               NULL|                NULL|                NULL|                NULL|                NULL|                NULL|                NULL|                  NULL|                NULL|                  NULL|                NULL|                  NULL|                NULL|                   NULL|                NULL|           NULL|          NULL|                NULL|                NULL|                NULL|                NULL|            NULL|                NULL|                NULL|                NULL|                NULL|          NULL|          NULL|          NULL|          NULL|          NULL|          NULL|          NULL|                NULL|                NULL|                NULL|                NULL|                NULL|                NULL|                NULL|                NULL|                  NULL|                NULL|                   NULL|                    NULL|                NULL|                 NULL|                       NULL|                NULL|                NULL|                NULL|                NULL|                NULL|                NULL|         NULL|                NULL|                NULL|                NULL|  NULL|                NULL|                NULL|                NULL|             NULL|      NULL|                NULL|                NULL|\n",
      "|  Yes|       Yes|         India|            No|Employed full-time|Bachelor’s degree...|Another engineeri...|100 to 499 employees|Back-end develope...|       0-2 years|           NULL|                NULL|                NULL|                NULL|                NULL|                NULL|      NULL|      NULL|      NULL|      NULL|      NULL|      NULL|      NULL|      NULL|      NULL|       NULL|           NULL|           NULL|           NULL|           NULL|           NULL|           NULL|           NULL|           NULL|           NULL|            NULL|            NULL|                 NULL|                 NULL|                 NULL|                 NULL|                 NULL|               NULL|               NULL|               NULL|               NULL|               NULL|               NULL|               NULL|                NULL|           NULL|                NULL|               NULL|                NULL|                NULL|                NULL|                NULL|                NULL|                NULL|                  NULL|                NULL|                  NULL|                NULL|                  NULL|                NULL|                   NULL|                NULL|           NULL|          NULL|                NULL|                NULL|                NULL|                NULL|            NULL|                NULL|                NULL|                NULL|                NULL|          NULL|          NULL|          NULL|          NULL|          NULL|          NULL|          NULL|                NULL|                NULL|                NULL|                NULL|                NULL|                NULL|                NULL|                NULL|                     7|A few times per week|                    Yes|                    NULL|                NULL|                 NULL|                       NULL|                NULL|                NULL|                NULL|                NULL|                NULL|                NULL|         NULL|                NULL|                NULL|                NULL|  NULL|                NULL|                NULL|                NULL|             NULL|      NULL|                NULL|                NULL|\n",
      "|  Yes|        No|       Croatia|          NULL|Employed full-time|Some college/univ...|Computer science,...|  20 to 99 employees|Back-end develope...|       0-2 years|           NULL|                NULL|                NULL|                NULL|                NULL|                NULL|      NULL|      NULL|      NULL|      NULL|      NULL|      NULL|      NULL|      NULL|      NULL|       NULL|           NULL|           NULL|           NULL|           NULL|           NULL|           NULL|           NULL|           NULL|           NULL|            NULL|            NULL|                 NULL|                 NULL|                 NULL|                 NULL|                 NULL|               NULL|               NULL|               NULL|               NULL|               NULL|               NULL|               NULL|                NULL|           NULL|                NULL|               NULL|                NULL|                NULL|                NULL|                NULL|                NULL|                NULL|                  NULL|                NULL|                  NULL|                NULL|                  NULL|                NULL|                   NULL|                NULL|           NULL|          NULL|                NULL|                NULL|                NULL|                NULL|            NULL|                NULL|                NULL|                NULL|                NULL|          NULL|          NULL|          NULL|          NULL|          NULL|          NULL|          NULL|                NULL|                NULL|                NULL|                NULL|                NULL|                NULL|                NULL|                NULL|      10 (Very Likely)|A few times per week|   I'm not sure / I ...|                    NULL|No, I knew that S...|                 NULL|                        Yes|                NULL|                NULL|                NULL|                NULL|                NULL|                NULL|         NULL|                NULL|                NULL|                NULL|  NULL|                NULL|                NULL|                NULL|             NULL|      NULL|                NULL|                NULL|\n",
      "|   No|        No|         India|            No|Employed full-time|Bachelor’s degree...|Another engineeri...|  20 to 99 employees|Back-end develope...|       3-5 years|      3-5 years| Extremely satisfied|Moderately satisfied|Working as an eng...|I’m not actively ...|Less than a year ago|         6|         9|         2|         4|         3|         5|         8|         7|        10|          1|              5|              2|              1|             11|              6|              8|             10|              4|              7|               3|               9|                 NULL|                 NULL|                 NULL|                 NULL|                 NULL|               NULL|               NULL|               NULL|               NULL|               NULL|               NULL|               NULL|                NULL|           NULL|                NULL|               NULL|                NULL|                NULL|                NULL|                NULL|                NULL|                Java|           Java;Python|MongoDB;MySQL;Ora...|  MongoDB;MySQL;Ora...|               Linux|                 Linux|              Spring|    Hadoop;Spark;Spring|    Eclipse;NetBeans|    Linux-based|   More than 4|               Agile|                 Git|Multiple times pe...|                 Yes|              No|      Strongly agree|                NULL|                NULL|Stopped going to ...|          NULL|          NULL|          NULL|          NULL|          NULL|          NULL|          NULL|Increasing automa...|Algorithms making...|The developers or...|I'm excited about...|Depends on what i...|Yes, but only wit...|The developer who...|                 Yes|      10 (Very Likely)|Multiple times pe...|                    Yes|    Daily or almost d...|                 Yes| No, and I don't k...|                        Yes| Somewhat interested|Extremely interested|Extremely interested|A little bit inte...| Somewhat interested|Between 6:01 - 7:...|  5 - 8 hours|         1 - 2 hours|               Never|I don't typically...|  NULL|                NULL|                NULL|                NULL|             NULL|      NULL|                NULL|                NULL|\n",
      "|   No|        No|   Netherlands|Yes, full-time|Employed full-time|Secondary school ...|                NULL|  20 to 99 employees|Back-end develope...|       0-2 years|      0-2 years|Neither satisfied...|Moderately dissat...|Working in a care...|I’m not actively ...|Between 2 and 4 y...|         1|         9|         2|        10|         6|         3|         4|         5|         7|          8|              2|              3|              6|             11|              9|              8|             10|              4|              5|               7|               1|                    5|                    3|                    2|                    1|                    4|                  1|                  2|                  6|                  7|                  3|                  4|                  5|My job status or ...|              0|                NULL|  Less than a month|Received on-the-j...|                NULL|            Disagree|   Strongly disagree|      Strongly agree|Java;JavaScript;P...|                  NULL|    SQL Server;MySQL|                  NULL|Windows Desktop o...|                  NULL|                NULL|                   NULL|Notepad++;Visual ...|        Windows|             2|         Agile;Scrum|Copying and pasti...|               Never|                  No|            NULL|      Strongly agree|      Somewhat agree|Neither agree nor...|Clicked on an onl...|             4|             5|             6|             2|             1|             7|             3|\"Artificial intel...|                NULL|The developers or...|I'm worried about...|                  No|   Yes, and publicly|The person who ca...|                 Yes|                     8|Daily or almost d...|                    Yes|    Less than once pe...|No, I knew that S...| No, and I don't k...|                         No|Not at all intere...|Not at all intere...|Not at all intere...|Not at all intere...|Not at all intere...|Between 6:01 - 7:...| 9 - 12 hours|         1 - 2 hours|               Never|Daily or almost e...|  Male|                NULL|    Associate degree|White or of Europ...|18 - 24 years old|        No|The survey was an...|Neither easy nor ...|\n",
      "|  Yes|        No|        Israel|            No|Employed full-time|Master’s degree (...|Fine arts or perf...|5,000 to 9,999 em...|Full-stack developer|       3-5 years|      3-5 years|Moderately dissat...|Extremely dissati...|Working in a diff...|I’m not actively ...|Between 2 and 4 y...|      NULL|      NULL|      NULL|      NULL|      NULL|      NULL|      NULL|      NULL|      NULL|       NULL|           NULL|           NULL|           NULL|           NULL|           NULL|           NULL|           NULL|           NULL|           NULL|            NULL|            NULL|                 NULL|                 NULL|                 NULL|                 NULL|                 NULL|               NULL|               NULL|               NULL|               NULL|               NULL|               NULL|               NULL|                NULL|           NULL|                NULL|               NULL|                NULL|                NULL|                NULL|                NULL|                NULL|                NULL|                  NULL|                NULL|                  NULL|                NULL|                  NULL|                NULL|                   NULL|                NULL|           NULL|          NULL|                NULL|                NULL|                NULL|                NULL|            NULL|                NULL|                NULL|                NULL|                NULL|          NULL|          NULL|          NULL|          NULL|          NULL|          NULL|          NULL|                NULL|                NULL|                NULL|                NULL|                NULL|                NULL|                NULL|                NULL|      10 (Very Likely)|Multiple times pe...|                     No|                    NULL|No, I knew that S...|                 NULL|                         No|A little bit inte...|A little bit inte...|Not at all intere...|Not at all intere...|Not at all intere...|Between 5:00 - 6:...| 9 - 12 hours|         1 - 2 hours|               Never|3 - 4 times per week|  NULL|                NULL|                NULL|                NULL|             NULL|      NULL|                NULL|                NULL|\n",
      "|   No|        No| United States|Yes, full-time|Employed part-time|Bachelor’s degree...|Computer science,...|1,000 to 4,999 em...|             Student|       0-2 years|           NULL|                NULL|                NULL|                NULL|I am actively loo...|Less than a year ago|         5|         7|         4|         8|         2|         6|         9|         1|        10|          3|              1|              2|              4|             10|             11|              5|              6|              7|              9|               8|               3|                 NULL|                 NULL|                 NULL|                 NULL|                 NULL|               NULL|               NULL|               NULL|               NULL|               NULL|               NULL|               NULL|                NULL|           NULL|                NULL|               NULL|                NULL|                NULL|                NULL|                NULL|                NULL|                NULL|                  NULL|                NULL|                  NULL|                NULL|                  NULL|                NULL|                   NULL|                NULL|           NULL|          NULL|                NULL|                NULL|                NULL|                NULL|            NULL|                NULL|                NULL|                NULL|                NULL|          NULL|          NULL|          NULL|          NULL|          NULL|          NULL|          NULL|                NULL|                NULL|                NULL|                NULL|                NULL|                NULL|                NULL|                NULL|      10 (Very Likely)|Daily or almost d...|                    Yes|    I have never part...|No, I knew that S...| No, I know what i...|                        Yes|     Very interested|     Very interested|     Very interested|     Very interested|     Very interested|Between 9:01 - 10...|  5 - 8 hours|     30 - 59 minutes|               Never|3 - 4 times per week|  NULL|                NULL|                NULL|                NULL|             NULL|      NULL|                NULL|                NULL|\n",
      "|  Yes|        No|        Sweden|            No|Employed full-time|Master’s degree (...|A business discip...|  10 to 19 employees|  Back-end developer|       6-8 years|      0-2 years|Moderately satisfied|Moderately satisfied|Working in a diff...|I’m not actively ...|Between 1 and 2 y...|         9|         4|        10|         3|         1|         6|         5|         2|         7|          8|              1|              8|              9|              4|             11|              3|              5|              6|             10|               7|               2|                 NULL|                 NULL|                 NULL|                 NULL|                 NULL|                  7|                  6|                  1|                  5|                  3|                  4|                  2|A friend told me ...|          47904|     Confluence;Jira|Three to six months|Taken an online c...|A book or e-book ...|Neither Agree nor...|               Agree|            Disagree|C#;SQL;HTML;CSS;B...|  C#;F#;Haskell;SQL...|          SQL Server|  Redis;SQL Server;...|Linux;Windows Des...|  Linux;Windows Des...|           .NET Core|              .NET Core|Visual Studio;Vis...|        Windows|             1|               Agile|                 Git|Multiple times pe...|                 Yes|             Yes|   Strongly disagree|   Strongly disagree|      Strongly agree|                NULL|             3|             2|             4|             7|             5|             6|             1|                NULL|                NULL|A governmental or...|I don't care abou...|                  No|   Yes, and publicly|                NULL|                 Yes|      10 (Very Likely)|Multiple times pe...|                    Yes|    Less than once pe...|                 Yes|                  Yes|                         No|Not at all intere...|Not at all intere...|Not at all intere...|     Very interested| Somewhat interested|Between 7:01 - 8:...| 9 - 12 hours|     30 - 59 minutes|               Never|3 - 4 times per week|  Male|                NULL|Bachelor’s degree...|White or of Europ...|35 - 44 years old|       Yes|The survey was to...|  Somewhat difficult|\n",
      "|  Yes|       Yes|         India|Yes, full-time|Employed full-time|Bachelor’s degree...|                NULL|10,000 or more em...|Data or business ...|       0-2 years|      3-5 years|  Slightly satisfied| Extremely satisfied| Doing the same work|I’m not actively ...|Between 1 and 2 y...|      NULL|      NULL|      NULL|      NULL|      NULL|      NULL|      NULL|      NULL|      NULL|       NULL|           NULL|           NULL|           NULL|           NULL|           NULL|           NULL|           NULL|           NULL|           NULL|            NULL|            NULL|                 NULL|                 NULL|                 NULL|                 NULL|                 NULL|               NULL|               NULL|               NULL|               NULL|               NULL|               NULL|               NULL|A recruiter conta...|           NULL|                NULL|               NULL|Contributed to op...|                NULL|      Strongly agree|      Strongly agree|      Strongly agree|            C;C++;C#|              Python;R|                NULL|  Redis;PostgreSQL;...|                NULL|  Azure;ESP8266;Gam...|             Angular|                 Django|Android Studio;Co...|        Windows|   More than 4|               Agile|                 Git|               Never|I'm not sure/I do...|            NULL|   Strongly disagree|   Strongly disagree|   Strongly disagree|Clicked on an onl...|          NULL|          NULL|          NULL|          NULL|          NULL|          NULL|          NULL|Increasing automa...|\"Evolving definit...|The developers or...|I'm worried about...|                  No|                  No|The developer who...|                  No|      10 (Very Likely)|Multiple times pe...|   I'm not sure / I ...|                    NULL|                 Yes|                 NULL|               I'm not sure|                NULL|                NULL|                NULL|                NULL|Extremely interested|I do not have a s...| 9 - 12 hours|         1 - 2 hours|3 - 4 times per week|Daily or almost e...|Female|                NULL|Some college/univ...|                NULL|             NULL|      NULL|The survey was to...|      Very difficult|\n",
      "|  Yes|       Yes|         Chile|Yes, full-time|Employed part-time|Bachelor’s degree...|A business discip...|Fewer than 10 emp...|Back-end develope...|       3-5 years|           NULL|                NULL|                NULL|                NULL|                NULL|                NULL|      NULL|      NULL|      NULL|      NULL|      NULL|      NULL|      NULL|      NULL|      NULL|       NULL|           NULL|           NULL|           NULL|           NULL|           NULL|           NULL|           NULL|           NULL|           NULL|            NULL|            NULL|                 NULL|                 NULL|                 NULL|                 NULL|                 NULL|               NULL|               NULL|               NULL|               NULL|               NULL|               NULL|               NULL|                NULL|           NULL|                NULL|               NULL|                NULL|                NULL|                NULL|                NULL|                NULL|                NULL|                  NULL|                NULL|                  NULL|                NULL|                  NULL|                NULL|                   NULL|                NULL|           NULL|          NULL|                NULL|                NULL|                NULL|                NULL|            NULL|                NULL|                NULL|                NULL|                NULL|          NULL|          NULL|          NULL|          NULL|          NULL|          NULL|          NULL|                NULL|                NULL|                NULL|                NULL|                NULL|                NULL|                NULL|                NULL|      10 (Very Likely)|Daily or almost d...|                    Yes|    I have never part...|No, I knew that S...| No, I have one bu...|                         No|                NULL|                NULL|                NULL|                NULL|                NULL|Between 7:01 - 8:...| 9 - 12 hours|     30 - 59 minutes|1 - 2 times per week|1 - 2 times per week|  NULL|                NULL|                NULL|                NULL|             NULL|      NULL|                NULL|                NULL|\n",
      "+-----+----------+--------------+--------------+------------------+--------------------+--------------------+--------------------+--------------------+----------------+---------------+--------------------+--------------------+--------------------+--------------------+--------------------+----------+----------+----------+----------+----------+----------+----------+----------+----------+-----------+---------------+---------------+---------------+---------------+---------------+---------------+---------------+---------------+---------------+----------------+----------------+---------------------+---------------------+---------------------+---------------------+---------------------+-------------------+-------------------+-------------------+-------------------+-------------------+-------------------+-------------------+--------------------+---------------+--------------------+-------------------+--------------------+--------------------+--------------------+--------------------+--------------------+--------------------+----------------------+--------------------+----------------------+--------------------+----------------------+--------------------+-----------------------+--------------------+---------------+--------------+--------------------+--------------------+--------------------+--------------------+----------------+--------------------+--------------------+--------------------+--------------------+--------------+--------------+--------------+--------------+--------------+--------------+--------------+--------------------+--------------------+--------------------+--------------------+--------------------+--------------------+--------------------+--------------------+----------------------+--------------------+-----------------------+------------------------+--------------------+---------------------+---------------------------+--------------------+--------------------+--------------------+--------------------+--------------------+--------------------+-------------+--------------------+--------------------+--------------------+------+--------------------+--------------------+--------------------+-----------------+----------+--------------------+--------------------+\n",
      "only showing top 20 rows\n",
      "\n"
     ]
    }
   ],
   "source": [
    "df_cleaned=df_cleaned.drop('Respondent', 'MilitaryUS', 'TimeAfterBootcamp', \n",
    "         'HackathonReasons', 'ErgonomicDevices', 'AdBlockerReasons', \n",
    "         'StackOverflowJobsRecommend')\n",
    "df_cleaned=df_cleaned.drop('Salary', 'SalaryType', 'Currency', \n",
    "         'CurrencySymbol')\n",
    "df_cleaned.show()"
   ]
  },
  {
   "cell_type": "code",
   "execution_count": 133,
   "id": "97e672bf",
   "metadata": {},
   "outputs": [
    {
     "name": "stderr",
     "output_type": "stream",
     "text": [
      "23/11/17 16:07:16 WARN DAGScheduler: Broadcasting large task binary with size 1285.2 KiB\n"
     ]
    },
    {
     "name": "stdout",
     "output_type": "stream",
     "text": [
      "+-------+-----+----------+-----------+--------------+------------------+--------------------+--------------------+--------------------+--------------------+-----------+---------------+--------------------+--------------------+--------------------+--------------------+--------------------+-----------------+------------------+------------------+------------------+------------------+-----------------+------------------+-----------------+-----------------+-----------------+------------------+-----------------+-----------------+-----------------+------------------+-----------------+------------------+------------------+------------------+------------------+-----------------+---------------------+---------------------+---------------------+---------------------+---------------------+-------------------+-------------------+-------------------+-------------------+-------------------+-------------------+-------------------+--------------------+------------------+--------------------+-------------------+--------------------+--------------------+-----------------+-----------------+-----------------+-------------------+----------------------+--------------------+----------------------+--------------------+----------------------+--------------------+-----------------------+--------------+---------------+-----------------+-----------+--------------------+--------------------+--------------------+--------------------+--------------------+--------------------+--------------------+--------------------+------------------+------------------+------------------+------------------+------------------+------------------+------------------+--------------------+--------------------+--------------------+--------------------+--------------------+--------------------+--------------------+-------------------+----------------------+--------------------+-----------------------+------------------------+--------------------+---------------------+---------------------------+--------------------+--------------------+--------------------+--------------------+--------------------+-------------------+-------------+------------+--------------------+--------------------+--------------------+--------------------+--------------------+--------------------+------------------+----------+--------------------+--------------------+\n",
      "|summary|Hobby|OpenSource|    Country|       Student|        Employment|     FormalEducation|      UndergradMajor|         CompanySize|             DevType|YearsCoding|YearsCodingProf|     JobSatisfaction|  CareerSatisfaction|       HopeFiveYears|     JobSearchStatus|          LastNewJob|       AssessJob1|        AssessJob2|        AssessJob3|        AssessJob4|        AssessJob5|       AssessJob6|        AssessJob7|       AssessJob8|       AssessJob9|      AssessJob10|   AssessBenefits1|  AssessBenefits2|  AssessBenefits3|  AssessBenefits4|   AssessBenefits5|  AssessBenefits6|   AssessBenefits7|   AssessBenefits8|   AssessBenefits9|  AssessBenefits10| AssessBenefits11|JobContactPriorities1|JobContactPriorities2|JobContactPriorities3|JobContactPriorities4|JobContactPriorities5|JobEmailPriorities1|JobEmailPriorities2|JobEmailPriorities3|JobEmailPriorities4|JobEmailPriorities5|JobEmailPriorities6|JobEmailPriorities7|            UpdateCV|   ConvertedSalary|  CommunicationTools|TimeFullyProductive|      EducationTypes|     SelfTaughtTypes|   AgreeDisagree1|   AgreeDisagree2|   AgreeDisagree3| LanguageWorkedWith|LanguageDesireNextYear|  DatabaseWorkedWith|DatabaseDesireNextYear|  PlatformWorkedWith|PlatformDesireNextYear| FrameworkWorkedWith|FrameworkDesireNextYear|           IDE|OperatingSystem|   NumberMonitors|Methodology|      VersionControl|         CheckInCode|           AdBlocker|    AdBlockerDisable|   AdsAgreeDisagree1|   AdsAgreeDisagree2|   AdsAgreeDisagree3|          AdsActions|    AdsPriorities1|    AdsPriorities2|    AdsPriorities3|    AdsPriorities4|    AdsPriorities5|    AdsPriorities6|    AdsPriorities7|         AIDangerous|       AIInteresting|       AIResponsible|            AIFuture|        EthicsChoice|        EthicsReport|   EthicsResponsible|EthicalImplications|StackOverflowRecommend|  StackOverflowVisit|StackOverflowHasAccount|StackOverflowParticipate|   StackOverflowJobs|StackOverflowDevStory|StackOverflowConsiderMember|  HypotheticalTools1|  HypotheticalTools2|  HypotheticalTools3|  HypotheticalTools4|  HypotheticalTools5|           WakeTime|HoursComputer|HoursOutside|           SkipMeals|            Exercise|              Gender|   SexualOrientation|    EducationParents|       RaceEthnicity|               Age|Dependents|       SurveyTooLong|          SurveyEasy|\n",
      "+-------+-----+----------+-----------+--------------+------------------+--------------------+--------------------+--------------------+--------------------+-----------+---------------+--------------------+--------------------+--------------------+--------------------+--------------------+-----------------+------------------+------------------+------------------+------------------+-----------------+------------------+-----------------+-----------------+-----------------+------------------+-----------------+-----------------+-----------------+------------------+-----------------+------------------+------------------+------------------+------------------+-----------------+---------------------+---------------------+---------------------+---------------------+---------------------+-------------------+-------------------+-------------------+-------------------+-------------------+-------------------+-------------------+--------------------+------------------+--------------------+-------------------+--------------------+--------------------+-----------------+-----------------+-----------------+-------------------+----------------------+--------------------+----------------------+--------------------+----------------------+--------------------+-----------------------+--------------+---------------+-----------------+-----------+--------------------+--------------------+--------------------+--------------------+--------------------+--------------------+--------------------+--------------------+------------------+------------------+------------------+------------------+------------------+------------------+------------------+--------------------+--------------------+--------------------+--------------------+--------------------+--------------------+--------------------+-------------------+----------------------+--------------------+-----------------------+------------------------+--------------------+---------------------+---------------------------+--------------------+--------------------+--------------------+--------------------+--------------------+-------------------+-------------+------------+--------------------+--------------------+--------------------+--------------------+--------------------+--------------------+------------------+----------+--------------------+--------------------+\n",
      "|  count|98855|     98855|      98443|         94901|             95321|               94703|               79036|               71531|               92098|      93835|          77903|               69276|               76504|               75718|               79488|               78889|            66985|             66985|             66985|             66985|             66985|            66985|             66985|            66985|            66985|            66985|             64918|            64918|            64918|            64918|             64918|            64918|             64918|             64918|             64918|             64918|            64917|                48706|                48706|                48706|                48706|                48706|              46213|              46213|              46213|              46213|              46213|              46213|              46213|               65539|             47702|               56970|              51872|               67960|               57354|            68217|            68346|            68364|              78334|                 73244|               66270|                 57498|               65999|                 61353|               51620|                  55218|         75398|          76179|            76398|      58981|               74298|               72355|               76055|               54898|               74485|               74413|               74414|               59514|             60479|             60479|             60479|             60479|             60479|             60479|             60479|               63115|               65367|               65553|               69728|               70782|               70426|               64540|              69309|                 76489|               76811|                  76791|                   65740|               75297|                65677|                      76007|               70068|               70052|               69999|               69986|               70045|              72146|        72133|       72024|               71946|               72108|               64469|               59765|               61813|               57473|             64574|     62596|               65941|               65879|\n",
      "|   mean| NULL|      NULL|       NULL|          NULL|              NULL|                NULL|                NULL|                NULL|                NULL|       NULL|           NULL|                NULL|                NULL|                NULL|                NULL|                NULL|6.397088900500112| 6.673523923266403| 5.906874673434351| 4.065790848697469| 3.953243263417183|4.407195640815108|  5.67318056281257|4.225199671568261| 7.64000895722923|6.057803985967007|1.8841769617055362|6.080609384146154|4.450553005329801|7.563218213746572| 7.068101297020857|5.765581194737977|  6.94819618595767| 5.615052835885271| 7.920746172094026| 6.865060537909363| 5.83862470539304|    3.035396049767996|   1.5605880179033385|   3.8499979468648626|    3.005112306492013|     3.54890567897179|  3.709540605457339|  4.224309177071387|  3.796572393049575| 3.0156016705256095| 3.4433384545474217|  4.974249670006276|  4.836388029342393|                NULL| 95780.86178776571|                NULL|               NULL|                NULL|                NULL|             NULL|             NULL|             NULL|               NULL|                  NULL|                NULL|                  NULL|                NULL|                  NULL|                NULL|                   NULL|          NULL|           NULL|1.846374463903974|       NULL|                NULL|                NULL|                NULL|                NULL|                NULL|                NULL|                NULL|                NULL|2.7268804047685973|3.8057838257907703|3.3409447907538152| 3.782469948246499|4.3836042262603545| 5.138808512045504| 4.821458688139685|                NULL|                NULL|                NULL|                NULL|                NULL|                NULL|                NULL|               NULL|     7.728456186777072|                NULL|                   NULL|                    NULL|                NULL|                 NULL|                       NULL|                NULL|                NULL|                NULL|                NULL|                NULL|               NULL|         NULL|        NULL|                NULL|                NULL|                NULL|                NULL|                NULL|                NULL|              NULL|      NULL|                NULL|                NULL|\n",
      "| stddev| NULL|      NULL|       NULL|          NULL|              NULL|                NULL|                NULL|                NULL|                NULL|       NULL|           NULL|                NULL|                NULL|                NULL|                NULL|                NULL| 2.78842821409578|2.5312017274346634|2.6427338538368788|2.5411960474848283|2.5204986610300164| 2.50206928484317|2.9239976342858984|2.507411273515739|2.407457039448611| 2.66340507731197|1.8809726837616576|3.080841474914146|2.808364947197979|2.830098768461414|2.6385128369977475|2.851319280121204|2.7464911054062533|2.7829176020591753|2.7657580424570356|2.6876167964252797|2.706478650757519|   1.3260785373587818|   0.9064631765186589|   1.3150950936039278|   1.1606217959359497|   1.1164605102240885|  2.071172401983127|   1.84250014472547|  2.082178302167932| 1.6513213183172135| 1.9831633662482586| 1.8606300065277968|  1.659844493348259|                NULL|202348.21562529146|                NULL|               NULL|                NULL|                NULL|             NULL|             NULL|             NULL|               NULL|                  NULL|                NULL|                  NULL|                NULL|                  NULL|                NULL|                   NULL|          NULL|           NULL| 0.70266640395843|       NULL|                NULL|                NULL|                NULL|                NULL|                NULL|                NULL|                NULL|                NULL|1.8810778364049954| 1.821323266215126|1.6734846631897846|1.8448635511936224| 1.931746429147132|1.8532493789861681|1.8748948002920018|                NULL|                NULL|                NULL|                NULL|                NULL|                NULL|                NULL|               NULL|    1.4876194763839332|                NULL|                   NULL|                    NULL|                NULL|                 NULL|                       NULL|                NULL|                NULL|                NULL|                NULL|                NULL|               NULL|         NULL|        NULL|                NULL|                NULL|                NULL|                NULL|                NULL|                NULL|              NULL|      NULL|                NULL|                NULL|\n",
      "|    min|   No|        No|Afghanistan|            No|Employed full-time|    Associate degree|A business discip...|1,000 to 4,999 em...|  Back-end developer|  0-2 years|      0-2 years|Extremely dissati...|Extremely dissati...| Doing the same work|I am actively loo...|Between 1 and 2 y...|                1|                 1|                 1|                 1|                 1|                1|                 1|                1|                1|                1|                 1|                1|                1|                1|                 1|                1|                 1|                 1|                 1|                 1|                1|                    1|                    1|                    1|                    1|                    1|                  1|                  1|                  1|                  1|                  1|                  1|                  1|A friend told me ...|                 0|          Confluence|  Less than a month|Completed an indu...|A book or e-book ...|            Agree|            Agree|            Agree|           Assembly|              Assembly|     Amazon DynamoDB|       Amazon DynamoDB|                 AWS|                   AWS|           .NET Core|              .NET Core|Android Studio|       BSD/Unix|                1|      Agile|Copying and pasti...|A few times per week|I'm not sure/I do...|I'm not sure/I ca...|Neither agree nor...|Neither agree nor...|Neither agree nor...|Clicked on an onl...|                 1|                 1|                 1|                 1|                 1|                 1|                 1|\"Artificial intel...|\"Artificial intel...|A governmental or...|I don't care abou...|Depends on what i...|Depends on what i...|The developer who...|                 No|        0 (Not Likely)|A few times per m...|   I'm not sure / I ...|    A few times per m...|No, I didn't know...| No, I have one bu...|               I'm not sure|A little bit inte...|A little bit inte...|A little bit inte...|A little bit inte...|A little bit inte...|     After 12:01 PM|  1 - 4 hours| 1 - 2 hours|1 - 2 times per week|1 - 2 times per week|              Female|             Asexual|    Associate degree|Black or of Afric...| 18 - 24 years old|        No|The survey was an...|Neither easy nor ...|\n",
      "|    max|  Yes|       Yes|   Zimbabwe|Yes, part-time|           Retired|Some college/univ...|Web development o...|Fewer than 10 emp...|System administrator| 9-11 years|     9-11 years|  Slightly satisfied|  Slightly satisfied|Working in a diff...|I’m not actively ...|More than 4 years...|                9|                 9|                 9|                 9|                 9|                9|                 9|                9|                9|                9|                 9|                9|                9|                9|                 9|                9|                 9|                 9|                 9|                 9|                9|                    5|                    5|                    5|                    5|                    5|                  7|                  7|                  7|                  7|                  7|                  7|                  7|My job status or ...|             9e+05|Trello;Other wiki...|Three to six months|Taught yourself a...|The technology’s ...|Strongly disagree|Strongly disagree|Strongly disagree|Visual Basic 6;HTML|        Visual Basic 6|SQLite;Oracle;Neo...|  SQLite;Oracle;Mic...|iOS;WordPress;Fir...|  iOS;WordPress;Fir...|Xamarin;Torch/PyT...|   Xamarin;Torch/PyT...|          Zend|        Windows|      More than 4|      Scrum|Zip file back-ups...|Weekly or a few t...|                 Yes|                 Yes|   Strongly disagree|   Strongly disagree|   Strongly disagree|Stopped going to ...|                 7|                 7|                 7|                 7|                 7|                 7|                 7|Increasing automa...|Increasing automa...|The developers or...|I'm worried about...|                 Yes|Yes, but only wit...|Upper management ...|                Yes|                     9|Multiple times pe...|                    Yes|    Multiple times pe...|                 Yes|                  Yes|                        Yes|     Very interested|     Very interested|     Very interested|     Very interested|     Very interested|I work night shifts|Over 12 hours|Over 4 hours|               Never|I don't typically...|Transgender;Non-b...|Straight or heter...|They never comple...|White or of Europ...|Under 18 years old|       Yes|The survey was to...|           Very easy|\n",
      "+-------+-----+----------+-----------+--------------+------------------+--------------------+--------------------+--------------------+--------------------+-----------+---------------+--------------------+--------------------+--------------------+--------------------+--------------------+-----------------+------------------+------------------+------------------+------------------+-----------------+------------------+-----------------+-----------------+-----------------+------------------+-----------------+-----------------+-----------------+------------------+-----------------+------------------+------------------+------------------+------------------+-----------------+---------------------+---------------------+---------------------+---------------------+---------------------+-------------------+-------------------+-------------------+-------------------+-------------------+-------------------+-------------------+--------------------+------------------+--------------------+-------------------+--------------------+--------------------+-----------------+-----------------+-----------------+-------------------+----------------------+--------------------+----------------------+--------------------+----------------------+--------------------+-----------------------+--------------+---------------+-----------------+-----------+--------------------+--------------------+--------------------+--------------------+--------------------+--------------------+--------------------+--------------------+------------------+------------------+------------------+------------------+------------------+------------------+------------------+--------------------+--------------------+--------------------+--------------------+--------------------+--------------------+--------------------+-------------------+----------------------+--------------------+-----------------------+------------------------+--------------------+---------------------+---------------------------+--------------------+--------------------+--------------------+--------------------+--------------------+-------------------+-------------+------------+--------------------+--------------------+--------------------+--------------------+--------------------+--------------------+------------------+----------+--------------------+--------------------+\n",
      "\n"
     ]
    },
    {
     "name": "stderr",
     "output_type": "stream",
     "text": [
      "\r",
      "[Stage 2940:>                                                       (0 + 1) / 1]\r",
      "\r",
      "                                                                                \r"
     ]
    }
   ],
   "source": [
    "df_cleaned.describe().show()"
   ]
  },
  {
   "cell_type": "code",
   "execution_count": 85,
   "id": "034d105c",
   "metadata": {},
   "outputs": [],
   "source": [
    "def shape(df):\n",
    "    num_rows = df.count()\n",
    "\n",
    "    # Get the number of columns\n",
    "    num_columns = len(df.columns)\n",
    "\n",
    "    # Print the shape\n",
    "    print(f\"Shape: ({num_rows}, {num_columns})\")"
   ]
  },
  {
   "cell_type": "code",
   "execution_count": 134,
   "id": "7fbe50c5",
   "metadata": {},
   "outputs": [
    {
     "name": "stdout",
     "output_type": "stream",
     "text": [
      "+----------+----------+----------+----------+----------+----------+----------+----------+----------+-----------+---------------+---------------+---------------+---------------+---------------+---------------+---------------+---------------+---------------+----------------+----------------+---------------------+---------------------+---------------------+---------------------+---------------------+-------------------+-------------------+-------------------+-------------------+-------------------+-------------------+-------------------+---------------+--------------+--------------+--------------+--------------+--------------+--------------+--------------+\n",
      "|AssessJob1|AssessJob2|AssessJob3|AssessJob4|AssessJob5|AssessJob6|AssessJob7|AssessJob8|AssessJob9|AssessJob10|AssessBenefits1|AssessBenefits2|AssessBenefits3|AssessBenefits4|AssessBenefits5|AssessBenefits6|AssessBenefits7|AssessBenefits8|AssessBenefits9|AssessBenefits10|AssessBenefits11|JobContactPriorities1|JobContactPriorities2|JobContactPriorities3|JobContactPriorities4|JobContactPriorities5|JobEmailPriorities1|JobEmailPriorities2|JobEmailPriorities3|JobEmailPriorities4|JobEmailPriorities5|JobEmailPriorities6|JobEmailPriorities7|ConvertedSalary|AdsPriorities1|AdsPriorities2|AdsPriorities3|AdsPriorities4|AdsPriorities5|AdsPriorities6|AdsPriorities7|\n",
      "+----------+----------+----------+----------+----------+----------+----------+----------+----------+-----------+---------------+---------------+---------------+---------------+---------------+---------------+---------------+---------------+---------------+----------------+----------------+---------------------+---------------------+---------------------+---------------------+---------------------+-------------------+-------------------+-------------------+-------------------+-------------------+-------------------+-------------------+---------------+--------------+--------------+--------------+--------------+--------------+--------------+--------------+\n",
      "|        10|         7|         8|         1|         2|         5|         3|         4|         9|          6|           NULL|           NULL|           NULL|           NULL|           NULL|           NULL|           NULL|           NULL|           NULL|            NULL|            NULL|                    3|                    1|                    4|                    2|                    5|                  5|                  6|                  7|                  2|                  1|                  4|                  3|           NULL|             1|             5|             4|             7|             2|             6|             3|\n",
      "|         1|         7|        10|         8|         2|         5|         4|         3|         6|          9|              1|              5|              3|              7|             10|              4|             11|              9|              6|               2|               8|                    3|                    1|                    5|                    2|                    4|                  1|                  3|                  4|                  5|                  2|                  6|                  7|          70841|             3|             5|             1|             4|             6|             7|             2|\n",
      "|      NULL|      NULL|      NULL|      NULL|      NULL|      NULL|      NULL|      NULL|      NULL|       NULL|           NULL|           NULL|           NULL|           NULL|           NULL|           NULL|           NULL|           NULL|           NULL|            NULL|            NULL|                 NULL|                 NULL|                 NULL|                 NULL|                 NULL|               NULL|               NULL|               NULL|               NULL|               NULL|               NULL|               NULL|           NULL|          NULL|          NULL|          NULL|          NULL|          NULL|          NULL|          NULL|\n",
      "|      NULL|      NULL|      NULL|      NULL|      NULL|      NULL|      NULL|      NULL|      NULL|       NULL|           NULL|           NULL|           NULL|           NULL|           NULL|           NULL|           NULL|           NULL|           NULL|            NULL|            NULL|                 NULL|                 NULL|                 NULL|                 NULL|                 NULL|               NULL|               NULL|               NULL|               NULL|               NULL|               NULL|               NULL|           NULL|          NULL|          NULL|          NULL|          NULL|          NULL|          NULL|          NULL|\n",
      "|         8|         5|         7|         1|         2|         6|         4|         3|        10|          9|              1|             10|              2|              4|              8|              3|             11|              7|              5|               9|               6|                    2|                    1|                    4|                    5|                    3|                  7|                  3|                  6|                  2|                  1|                  4|                  5|          21426|             2|             3|             4|             6|             1|             7|             5|\n",
      "|         8|         5|         4|         9|         1|         3|         6|         2|        10|          7|              1|              3|              4|             10|              9|              2|              6|              5|             11|               7|               8|                    4|                    2|                    5|                    1|                    3|                  2|                  6|                  7|                  3|                  1|                  5|                  4|          41671|             1|             3|             4|             2|             7|             5|             6|\n",
      "|         5|         3|         9|         4|         1|         8|         2|         7|        10|          6|              1|              3|              2|              9|             11|              4|              8|              6|              7|              10|               5|                    3|                    1|                    5|                    4|                    2|                  1|                  5|                  3|                  4|                  2|                  6|                  7|         120000|             1|             4|             2|             5|             3|             7|             6|\n",
      "|         6|         5|         4|         2|         7|         8|        10|         1|         9|          3|              1|              3|              5|              7|              6|              2|             11|              9|              4|              10|               8|                    1|                    3|                    2|                    4|                    5|                  2|                  6|                  1|                  3|                  7|                  5|                  4|           NULL|          NULL|          NULL|          NULL|          NULL|          NULL|          NULL|          NULL|\n",
      "|         6|         3|         7|         4|         1|         5|        10|         8|         9|          2|              1|              3|              2|              9|             11|              5|              8|              4|             10|               7|               6|                    5|                    1|                    2|                    3|                    4|                  3|                  7|                  2|                  4|                  1|                  6|                  5|         250000|             1|             3|             5|             4|             2|             7|             6|\n",
      "|      NULL|      NULL|      NULL|      NULL|      NULL|      NULL|      NULL|      NULL|      NULL|       NULL|           NULL|           NULL|           NULL|           NULL|           NULL|           NULL|           NULL|           NULL|           NULL|            NULL|            NULL|                 NULL|                 NULL|                 NULL|                 NULL|                 NULL|               NULL|               NULL|               NULL|               NULL|               NULL|               NULL|               NULL|           NULL|          NULL|          NULL|          NULL|          NULL|          NULL|          NULL|          NULL|\n",
      "|      NULL|      NULL|      NULL|      NULL|      NULL|      NULL|      NULL|      NULL|      NULL|       NULL|           NULL|           NULL|           NULL|           NULL|           NULL|           NULL|           NULL|           NULL|           NULL|            NULL|            NULL|                 NULL|                 NULL|                 NULL|                 NULL|                 NULL|               NULL|               NULL|               NULL|               NULL|               NULL|               NULL|               NULL|           NULL|          NULL|          NULL|          NULL|          NULL|          NULL|          NULL|          NULL|\n",
      "|      NULL|      NULL|      NULL|      NULL|      NULL|      NULL|      NULL|      NULL|      NULL|       NULL|           NULL|           NULL|           NULL|           NULL|           NULL|           NULL|           NULL|           NULL|           NULL|            NULL|            NULL|                 NULL|                 NULL|                 NULL|                 NULL|                 NULL|               NULL|               NULL|               NULL|               NULL|               NULL|               NULL|               NULL|           NULL|          NULL|          NULL|          NULL|          NULL|          NULL|          NULL|          NULL|\n",
      "|      NULL|      NULL|      NULL|      NULL|      NULL|      NULL|      NULL|      NULL|      NULL|       NULL|           NULL|           NULL|           NULL|           NULL|           NULL|           NULL|           NULL|           NULL|           NULL|            NULL|            NULL|                 NULL|                 NULL|                 NULL|                 NULL|                 NULL|               NULL|               NULL|               NULL|               NULL|               NULL|               NULL|               NULL|           NULL|          NULL|          NULL|          NULL|          NULL|          NULL|          NULL|          NULL|\n",
      "|         6|         9|         2|         4|         3|         5|         8|         7|        10|          1|              5|              2|              1|             11|              6|              8|             10|              4|              7|               3|               9|                 NULL|                 NULL|                 NULL|                 NULL|                 NULL|               NULL|               NULL|               NULL|               NULL|               NULL|               NULL|               NULL|           NULL|          NULL|          NULL|          NULL|          NULL|          NULL|          NULL|          NULL|\n",
      "|         1|         9|         2|        10|         6|         3|         4|         5|         7|          8|              2|              3|              6|             11|              9|              8|             10|              4|              5|               7|               1|                    5|                    3|                    2|                    1|                    4|                  1|                  2|                  6|                  7|                  3|                  4|                  5|              0|             4|             5|             6|             2|             1|             7|             3|\n",
      "|      NULL|      NULL|      NULL|      NULL|      NULL|      NULL|      NULL|      NULL|      NULL|       NULL|           NULL|           NULL|           NULL|           NULL|           NULL|           NULL|           NULL|           NULL|           NULL|            NULL|            NULL|                 NULL|                 NULL|                 NULL|                 NULL|                 NULL|               NULL|               NULL|               NULL|               NULL|               NULL|               NULL|               NULL|           NULL|          NULL|          NULL|          NULL|          NULL|          NULL|          NULL|          NULL|\n",
      "|         5|         7|         4|         8|         2|         6|         9|         1|        10|          3|              1|              2|              4|             10|             11|              5|              6|              7|              9|               8|               3|                 NULL|                 NULL|                 NULL|                 NULL|                 NULL|               NULL|               NULL|               NULL|               NULL|               NULL|               NULL|               NULL|           NULL|          NULL|          NULL|          NULL|          NULL|          NULL|          NULL|          NULL|\n",
      "|         9|         4|        10|         3|         1|         6|         5|         2|         7|          8|              1|              8|              9|              4|             11|              3|              5|              6|             10|               7|               2|                 NULL|                 NULL|                 NULL|                 NULL|                 NULL|                  7|                  6|                  1|                  5|                  3|                  4|                  2|          47904|             3|             2|             4|             7|             5|             6|             1|\n",
      "|      NULL|      NULL|      NULL|      NULL|      NULL|      NULL|      NULL|      NULL|      NULL|       NULL|           NULL|           NULL|           NULL|           NULL|           NULL|           NULL|           NULL|           NULL|           NULL|            NULL|            NULL|                 NULL|                 NULL|                 NULL|                 NULL|                 NULL|               NULL|               NULL|               NULL|               NULL|               NULL|               NULL|               NULL|           NULL|          NULL|          NULL|          NULL|          NULL|          NULL|          NULL|          NULL|\n",
      "|      NULL|      NULL|      NULL|      NULL|      NULL|      NULL|      NULL|      NULL|      NULL|       NULL|           NULL|           NULL|           NULL|           NULL|           NULL|           NULL|           NULL|           NULL|           NULL|            NULL|            NULL|                 NULL|                 NULL|                 NULL|                 NULL|                 NULL|               NULL|               NULL|               NULL|               NULL|               NULL|               NULL|               NULL|           NULL|          NULL|          NULL|          NULL|          NULL|          NULL|          NULL|          NULL|\n",
      "+----------+----------+----------+----------+----------+----------+----------+----------+----------+-----------+---------------+---------------+---------------+---------------+---------------+---------------+---------------+---------------+---------------+----------------+----------------+---------------------+---------------------+---------------------+---------------------+---------------------+-------------------+-------------------+-------------------+-------------------+-------------------+-------------------+-------------------+---------------+--------------+--------------+--------------+--------------+--------------+--------------+--------------+\n",
      "only showing top 20 rows\n",
      "\n"
     ]
    }
   ],
   "source": [
    "df_num = df_cleaned.select('AssessJob1', 'AssessJob2', 'AssessJob3', 'AssessJob4', 'AssessJob5', 'AssessJob6', 'AssessJob7', 'AssessJob8', 'AssessJob9',\n",
    "                    'AssessJob10', 'AssessBenefits1', 'AssessBenefits2', 'AssessBenefits3', 'AssessBenefits4', 'AssessBenefits5', 'AssessBenefits6',\n",
    "                    'AssessBenefits7', 'AssessBenefits8', 'AssessBenefits9', 'AssessBenefits10', 'AssessBenefits11', 'JobContactPriorities1',\n",
    "                    'JobContactPriorities2', 'JobContactPriorities3', 'JobContactPriorities4', 'JobContactPriorities5', 'JobEmailPriorities1',\n",
    "                    'JobEmailPriorities2', 'JobEmailPriorities3', 'JobEmailPriorities4', 'JobEmailPriorities5', 'JobEmailPriorities6', 'JobEmailPriorities7',\n",
    "                    'ConvertedSalary', 'AdsPriorities1', 'AdsPriorities2', 'AdsPriorities3', 'AdsPriorities4', 'AdsPriorities5', 'AdsPriorities6', 'AdsPriorities7')\n",
    "df_num.show()"
   ]
  },
  {
   "cell_type": "code",
   "execution_count": 135,
   "id": "939bd9d2",
   "metadata": {},
   "outputs": [
    {
     "name": "stderr",
     "output_type": "stream",
     "text": [
      "\r",
      "[Stage 2942:>                                                       (0 + 4) / 4]\r"
     ]
    },
    {
     "name": "stdout",
     "output_type": "stream",
     "text": [
      "Shape: (98855, 41)\n"
     ]
    },
    {
     "name": "stderr",
     "output_type": "stream",
     "text": [
      "\r",
      "                                                                                \r"
     ]
    }
   ],
   "source": [
    "shape(df_num)"
   ]
  },
  {
   "cell_type": "code",
   "execution_count": 153,
   "id": "6dc5cbab",
   "metadata": {},
   "outputs": [
    {
     "name": "stderr",
     "output_type": "stream",
     "text": [
      "\r",
      "[Stage 2966:>                                                       (0 + 4) / 4]\r"
     ]
    },
    {
     "name": "stdout",
     "output_type": "stream",
     "text": [
      "Shape: (98855, 33)\n"
     ]
    },
    {
     "name": "stderr",
     "output_type": "stream",
     "text": [
      "\r",
      "                                                                                \r"
     ]
    }
   ],
   "source": [
    "df_ord = df_cleaned.select('FormalEducation', 'CompanySize', 'YearsCoding', 'YearsCodingProf', 'JobSatisfaction', 'CareerSatisfaction', 'LastNewJob',\n",
    "                  'TimeFullyProductive', 'AgreeDisagree1', 'AgreeDisagree2', 'AgreeDisagree3', 'NumberMonitors',\n",
    "                  'CheckInCode', 'AdsAgreeDisagree1', 'AdsAgreeDisagree2', 'AdsAgreeDisagree3','StackOverflowRecommend',\n",
    "                  'StackOverflowVisit', 'StackOverflowParticipate', 'HypotheticalTools1', 'HypotheticalTools2',\n",
    "                  'HypotheticalTools3', 'HypotheticalTools4', 'HypotheticalTools5', 'WakeTime', 'HoursComputer', 'HoursOutside', 'SkipMeals', 'Exercise',\n",
    "                  'EducationParents', 'Age', 'SurveyTooLong', 'SurveyEasy')\n",
    "shape(df_ord)"
   ]
  },
  {
   "cell_type": "code",
   "execution_count": 137,
   "id": "f0fe8272",
   "metadata": {},
   "outputs": [
    {
     "name": "stdout",
     "output_type": "stream",
     "text": [
      "+--------------------+\n",
      "|              Gender|\n",
      "+--------------------+\n",
      "|                Male|\n",
      "|                Male|\n",
      "|                NULL|\n",
      "|                Male|\n",
      "|                Male|\n",
      "|                Male|\n",
      "|                Male|\n",
      "|              Female|\n",
      "|                Male|\n",
      "|                NULL|\n",
      "|                NULL|\n",
      "|                NULL|\n",
      "|                NULL|\n",
      "|                NULL|\n",
      "|                Male|\n",
      "|                NULL|\n",
      "|                NULL|\n",
      "|                Male|\n",
      "|              Female|\n",
      "|                NULL|\n",
      "|                Male|\n",
      "|                Male|\n",
      "|                Male|\n",
      "|Female;Male;Trans...|\n",
      "|         Female;Male|\n",
      "|                Male|\n",
      "|                Male|\n",
      "|                Male|\n",
      "|                NULL|\n",
      "|                NULL|\n",
      "|                Male|\n",
      "|                Male|\n",
      "|              Female|\n",
      "|              Female|\n",
      "|                Male|\n",
      "|                Male|\n",
      "|                Male|\n",
      "|                Male|\n",
      "|                NULL|\n",
      "|                Male|\n",
      "+--------------------+\n",
      "only showing top 40 rows\n",
      "\n"
     ]
    }
   ],
   "source": [
    "df_cleaned.select('Gender').show(40)"
   ]
  },
  {
   "cell_type": "code",
   "execution_count": 138,
   "id": "943ed1dd",
   "metadata": {},
   "outputs": [
    {
     "name": "stderr",
     "output_type": "stream",
     "text": [
      "                                                                                \r"
     ]
    },
    {
     "data": {
      "text/plain": [
       "[Row(Gender='Male;Transgender'),\n",
       " Row(Gender='Female;Male;Transgender;Non-binary, genderqueer, or gender non-conforming'),\n",
       " Row(Gender='Female;Male;Non-binary, genderqueer, or gender non-conforming'),\n",
       " Row(Gender='Female'),\n",
       " Row(Gender='Non-binary, genderqueer, or gender non-conforming'),\n",
       " Row(Gender='Transgender;Non-binary, genderqueer, or gender non-conforming'),\n",
       " Row(Gender='Transgender'),\n",
       " Row(Gender='Female;Transgender;Non-binary, genderqueer, or gender non-conforming'),\n",
       " Row(Gender='Female;Male'),\n",
       " Row(Gender='Female;Male;Transgender'),\n",
       " Row(Gender='Male;Non-binary, genderqueer, or gender non-conforming'),\n",
       " Row(Gender='Male'),\n",
       " Row(Gender='Female;Non-binary, genderqueer, or gender non-conforming'),\n",
       " Row(Gender='Female;Transgender'),\n",
       " Row(Gender='Male;Transgender;Non-binary, genderqueer, or gender non-conforming'),\n",
       " Row(Gender=None)]"
      ]
     },
     "execution_count": 138,
     "metadata": {},
     "output_type": "execute_result"
    }
   ],
   "source": [
    "df_cleaned.select(\"Gender\").distinct().collect()"
   ]
  },
  {
   "cell_type": "code",
   "execution_count": 139,
   "id": "8d2210fa",
   "metadata": {},
   "outputs": [
    {
     "name": "stdout",
     "output_type": "stream",
     "text": [
      "+------+\n",
      "|Gender|\n",
      "+------+\n",
      "|     M|\n",
      "|     M|\n",
      "|     O|\n",
      "|     M|\n",
      "|     M|\n",
      "|     M|\n",
      "|     M|\n",
      "|     F|\n",
      "|     M|\n",
      "|     O|\n",
      "|     O|\n",
      "|     O|\n",
      "|     O|\n",
      "|     O|\n",
      "|     M|\n",
      "|     O|\n",
      "|     O|\n",
      "|     M|\n",
      "|     F|\n",
      "|     O|\n",
      "|     M|\n",
      "|     M|\n",
      "|     M|\n",
      "|     O|\n",
      "|     O|\n",
      "|     M|\n",
      "|     M|\n",
      "|     M|\n",
      "|     O|\n",
      "|     O|\n",
      "|     M|\n",
      "|     M|\n",
      "|     F|\n",
      "|     F|\n",
      "|     M|\n",
      "|     M|\n",
      "|     M|\n",
      "|     M|\n",
      "|     O|\n",
      "|     M|\n",
      "+------+\n",
      "only showing top 40 rows\n",
      "\n"
     ]
    }
   ],
   "source": [
    "# df_cleaned.select(\"Gender\").replace({ 'Male': 'M', 'Female': 'F',\n",
    "#                     'Female;Male;Transgender;Non-binary, genderqueer, or gender non-conforming': 'O',\n",
    "#                     'Female;Male': 'O',\n",
    "#                     'Male;Non-binary, genderqueer, or gender non-conforming': 'O',\n",
    "#                     'Non-binary, genderqueer, or gender non-conforming': 'O', 'Transgender': 'O',\n",
    "#                     'Female;Transgender': 'O',\n",
    "#                     'Transgender;Non-binary, genderqueer, or gender non-conforming': 'O',\n",
    "#                     'Female;Non-binary, genderqueer, or gender non-conforming': 'O',\n",
    "#                     'Female;Transgender;Non-binary, genderqueer, or gender non-conforming': 'O',\n",
    "#                     'Male;Transgender': 'O', 'Female;Male;Transgender': 'O',\n",
    "#                     'Female;Male;Non-binary, genderqueer, or gender non-conforming': 'O',\n",
    "#                     'Male;Transgender;Non-binary, genderqueer, or gender non-conforming': 'O'}, inplace=True)\n",
    "condition_female = (df_cleaned[\"Gender\"] == 'Female')\n",
    "condition_male = (df_cleaned[\"Gender\"] == 'Male')\n",
    "\n",
    "# Replace values based on conditions\n",
    "df_cleaned = df_cleaned.withColumn(\"Gender\", when(condition_female, 'F').when(condition_male, 'M').otherwise('O'))\n",
    "df_cleaned.select('Gender').show(40)"
   ]
  },
  {
   "cell_type": "code",
   "execution_count": 140,
   "id": "9dd70268",
   "metadata": {},
   "outputs": [
    {
     "name": "stderr",
     "output_type": "stream",
     "text": [
      "                                                                                \r"
     ]
    },
    {
     "data": {
      "text/plain": [
       "[Row(Gender='F'), Row(Gender='M'), Row(Gender='O')]"
      ]
     },
     "execution_count": 140,
     "metadata": {},
     "output_type": "execute_result"
    }
   ],
   "source": [
    "df_cleaned.select(\"Gender\").distinct().collect()"
   ]
  },
  {
   "cell_type": "code",
   "execution_count": 141,
   "id": "2e137157",
   "metadata": {},
   "outputs": [
    {
     "name": "stdout",
     "output_type": "stream",
     "text": [
      "+-----+----------+--------------+--------------+------------------+--------------------+--------------------+--------------------+--------------------+----------------+---------------+--------------------+--------------------+--------------------+--------------------+--------------------+----------+----------+----------+----------+----------+----------+----------+----------+----------+-----------+---------------+---------------+---------------+---------------+---------------+---------------+---------------+---------------+---------------+----------------+----------------+---------------------+---------------------+---------------------+---------------------+---------------------+-------------------+-------------------+-------------------+-------------------+-------------------+-------------------+-------------------+--------------------+---------------+--------------------+-------------------+--------------------+--------------------+--------------------+--------------------+--------------------+--------------------+----------------------+--------------------+----------------------+--------------------+----------------------+--------------------+-----------------------+--------------------+---------------+--------------+--------------------+--------------------+--------------------+--------------------+----------------+--------------------+--------------------+--------------------+--------------------+--------------+--------------+--------------+--------------+--------------+--------------+--------------+--------------------+--------------------+--------------------+--------------------+--------------------+--------------------+--------------------+--------------------+----------------------+--------------------+-----------------------+------------------------+--------------------+---------------------+---------------------------+--------------------+--------------------+--------------------+--------------------+--------------------+--------------------+-------------+--------------------+--------------------+--------------------+------+--------------------+--------------------+--------------------+-----------------+----------+--------------------+--------------------+\n",
      "|Hobby|OpenSource|       Country|       Student|        Employment|     FormalEducation|      UndergradMajor|         CompanySize|             DevType|     YearsCoding|YearsCodingProf|     JobSatisfaction|  CareerSatisfaction|       HopeFiveYears|     JobSearchStatus|          LastNewJob|AssessJob1|AssessJob2|AssessJob3|AssessJob4|AssessJob5|AssessJob6|AssessJob7|AssessJob8|AssessJob9|AssessJob10|AssessBenefits1|AssessBenefits2|AssessBenefits3|AssessBenefits4|AssessBenefits5|AssessBenefits6|AssessBenefits7|AssessBenefits8|AssessBenefits9|AssessBenefits10|AssessBenefits11|JobContactPriorities1|JobContactPriorities2|JobContactPriorities3|JobContactPriorities4|JobContactPriorities5|JobEmailPriorities1|JobEmailPriorities2|JobEmailPriorities3|JobEmailPriorities4|JobEmailPriorities5|JobEmailPriorities6|JobEmailPriorities7|            UpdateCV|ConvertedSalary|  CommunicationTools|TimeFullyProductive|      EducationTypes|     SelfTaughtTypes|      AgreeDisagree1|      AgreeDisagree2|      AgreeDisagree3|  LanguageWorkedWith|LanguageDesireNextYear|  DatabaseWorkedWith|DatabaseDesireNextYear|  PlatformWorkedWith|PlatformDesireNextYear| FrameworkWorkedWith|FrameworkDesireNextYear|                 IDE|OperatingSystem|NumberMonitors|         Methodology|      VersionControl|         CheckInCode|           AdBlocker|AdBlockerDisable|   AdsAgreeDisagree1|   AdsAgreeDisagree2|   AdsAgreeDisagree3|          AdsActions|AdsPriorities1|AdsPriorities2|AdsPriorities3|AdsPriorities4|AdsPriorities5|AdsPriorities6|AdsPriorities7|         AIDangerous|       AIInteresting|       AIResponsible|            AIFuture|        EthicsChoice|        EthicsReport|   EthicsResponsible| EthicalImplications|StackOverflowRecommend|  StackOverflowVisit|StackOverflowHasAccount|StackOverflowParticipate|   StackOverflowJobs|StackOverflowDevStory|StackOverflowConsiderMember|  HypotheticalTools1|  HypotheticalTools2|  HypotheticalTools3|  HypotheticalTools4|  HypotheticalTools5|            WakeTime|HoursComputer|        HoursOutside|           SkipMeals|            Exercise|Gender|   SexualOrientation|    EducationParents|       RaceEthnicity|              Age|Dependents|       SurveyTooLong|          SurveyEasy|\n",
      "+-----+----------+--------------+--------------+------------------+--------------------+--------------------+--------------------+--------------------+----------------+---------------+--------------------+--------------------+--------------------+--------------------+--------------------+----------+----------+----------+----------+----------+----------+----------+----------+----------+-----------+---------------+---------------+---------------+---------------+---------------+---------------+---------------+---------------+---------------+----------------+----------------+---------------------+---------------------+---------------------+---------------------+---------------------+-------------------+-------------------+-------------------+-------------------+-------------------+-------------------+-------------------+--------------------+---------------+--------------------+-------------------+--------------------+--------------------+--------------------+--------------------+--------------------+--------------------+----------------------+--------------------+----------------------+--------------------+----------------------+--------------------+-----------------------+--------------------+---------------+--------------+--------------------+--------------------+--------------------+--------------------+----------------+--------------------+--------------------+--------------------+--------------------+--------------+--------------+--------------+--------------+--------------+--------------+--------------+--------------------+--------------------+--------------------+--------------------+--------------------+--------------------+--------------------+--------------------+----------------------+--------------------+-----------------------+------------------------+--------------------+---------------------+---------------------------+--------------------+--------------------+--------------------+--------------------+--------------------+--------------------+-------------+--------------------+--------------------+--------------------+------+--------------------+--------------------+--------------------+-----------------+----------+--------------------+--------------------+\n",
      "|  Yes|        No|         Kenya|            No|Employed part-time|Bachelor’s degree...|Mathematics or st...|  20 to 99 employees|Full-stack developer|       3-5 years|      3-5 years| Extremely satisfied| Extremely satisfied|Working as a foun...|I’m not actively ...|Less than a year ago|        10|         7|         8|         1|         2|         5|         3|         4|         9|          6|           NULL|           NULL|           NULL|           NULL|           NULL|           NULL|           NULL|           NULL|           NULL|            NULL|            NULL|                    3|                    1|                    4|                    2|                    5|                  5|                  6|                  7|                  2|                  1|                  4|                  3|My job status or ...|           NULL|               Slack|One to three months|Taught yourself a...|The official docu...|      Strongly agree|      Strongly agree|Neither Agree nor...|JavaScript;Python...|  JavaScript;Python...|Redis;SQL Server;...|  Redis;SQL Server;...|AWS;Azure;Linux;F...|  AWS;Azure;Linux;F...|        Django;React|           Django;React|Komodo;Vim;Visual...|    Linux-based|             1|         Agile;Scrum|                 Git|Multiple times pe...|                 Yes|              No|      Strongly agree|      Strongly agree|      Strongly agree|Saw an online adv...|             1|             5|             4|             7|             2|             6|             3|\"Artificial intel...|Algorithms making...|The developers or...|I'm excited about...|                  No|   Yes, and publicly|Upper management ...|                 Yes|      10 (Very Likely)|Multiple times pe...|                    Yes|    I have never part...|No, I knew that S...|                  Yes|                        Yes|Extremely interested|Extremely interested|Extremely interested|Extremely interested|Extremely interested|Between 5:00 - 6:...| 9 - 12 hours|         1 - 2 hours|               Never|3 - 4 times per week|     M|Straight or heter...|Bachelor’s degree...|Black or of Afric...|25 - 34 years old|       Yes|The survey was an...|           Very easy|\n",
      "|  Yes|       Yes|United Kingdom|            No|Employed full-time|Bachelor’s degree...|A natural science...|10,000 or more em...|Database administ...|30 or more years|    18-20 years|Moderately dissat...|Neither satisfied...|Working in a diff...|I am actively loo...|More than 4 years...|         1|         7|        10|         8|         2|         5|         4|         3|         6|          9|              1|              5|              3|              7|             10|              4|             11|              9|              6|               2|               8|                    3|                    1|                    5|                    2|                    4|                  1|                  3|                  4|                  5|                  2|                  6|                  7|I saw an employer...|          70841|Confluence;Office...|One to three months|Taught yourself a...|The official docu...|               Agree|               Agree|Neither Agree nor...|JavaScript;Python...|             Go;Python|Redis;PostgreSQL;...|            PostgreSQL|               Linux|                 Linux|              Django|                  React|IPython / Jupyter...|    Linux-based|             2|                NULL|      Git;Subversion|A few times per week|                 Yes|             Yes|      Somewhat agree|Neither agree nor...|Neither agree nor...|                NULL|             3|             5|             1|             4|             6|             7|             2|Increasing automa...|Increasing automa...|The developers or...|I'm excited about...|Depends on what i...|Depends on what i...|Upper management ...|                 Yes|      10 (Very Likely)|A few times per m...|                    Yes|    A few times per m...|                 Yes| No, I have one bu...|                        Yes|A little bit inte...|A little bit inte...|A little bit inte...|A little bit inte...|A little bit inte...|Between 6:01 - 7:...|  5 - 8 hours|     30 - 59 minutes|               Never|Daily or almost e...|     M|Straight or heter...|Bachelor’s degree...|White or of Europ...|35 - 44 years old|       Yes|The survey was an...|       Somewhat easy|\n",
      "|  Yes|       Yes| United States|            No|Employed full-time|    Associate degree|Computer science,...|  20 to 99 employees|Engineering manag...|     24-26 years|      6-8 years|Moderately satisfied|Moderately satisfied|Working as a foun...|I’m not actively ...|Less than a year ago|      NULL|      NULL|      NULL|      NULL|      NULL|      NULL|      NULL|      NULL|      NULL|       NULL|           NULL|           NULL|           NULL|           NULL|           NULL|           NULL|           NULL|           NULL|           NULL|            NULL|            NULL|                 NULL|                 NULL|                 NULL|                 NULL|                 NULL|               NULL|               NULL|               NULL|               NULL|               NULL|               NULL|               NULL|                NULL|           NULL|                NULL|               NULL|                NULL|                NULL|                NULL|                NULL|                NULL|                NULL|                  NULL|                NULL|                  NULL|                NULL|                  NULL|                NULL|                   NULL|                NULL|           NULL|          NULL|                NULL|                NULL|                NULL|                NULL|            NULL|                NULL|                NULL|                NULL|                NULL|          NULL|          NULL|          NULL|          NULL|          NULL|          NULL|          NULL|                NULL|                NULL|                NULL|                NULL|                NULL|                NULL|                NULL|                NULL|                  NULL|                NULL|                   NULL|                    NULL|                NULL|                 NULL|                       NULL|                NULL|                NULL|                NULL|                NULL|                NULL|                NULL|         NULL|                NULL|                NULL|                NULL|     O|                NULL|                NULL|                NULL|             NULL|      NULL|                NULL|                NULL|\n",
      "|   No|        No| United States|            No|Employed full-time|Bachelor’s degree...|Computer science,...|100 to 499 employees|Full-stack developer|     18-20 years|    12-14 years|Neither satisfied...|Slightly dissatis...|Working as a foun...|I’m not actively ...|Less than a year ago|      NULL|      NULL|      NULL|      NULL|      NULL|      NULL|      NULL|      NULL|      NULL|       NULL|           NULL|           NULL|           NULL|           NULL|           NULL|           NULL|           NULL|           NULL|           NULL|            NULL|            NULL|                 NULL|                 NULL|                 NULL|                 NULL|                 NULL|               NULL|               NULL|               NULL|               NULL|               NULL|               NULL|               NULL|A recruiter conta...|           NULL|                NULL|Three to six months|Completed an indu...|The official docu...|            Disagree|            Disagree|   Strongly disagree|C#;JavaScript;SQL...|  C#;JavaScript;SQL...|SQL Server;Micros...|  SQL Server;Micros...|               Azure|                 Azure|                NULL|   Angular;.NET Core...|Visual Studio;Vis...|        Windows|             2|  Agile;Kanban;Scrum|                 Git|Multiple times pe...|                 Yes|             Yes|Neither agree nor...|      Somewhat agree|      Somewhat agree|Stopped going to ...|          NULL|          NULL|          NULL|          NULL|          NULL|          NULL|          NULL|\"Artificial intel...|\"Artificial intel...|A governmental or...|I don't care abou...|                  No|Yes, but only wit...|Upper management ...|                 Yes|      10 (Very Likely)|A few times per week|                    Yes|    A few times per m...|                 Yes| No, I have one bu...|                        Yes| Somewhat interested| Somewhat interested| Somewhat interested| Somewhat interested| Somewhat interested|Between 6:01 - 7:...| 9 - 12 hours|Less than 30 minutes|3 - 4 times per week|I don't typically...|     M|Straight or heter...|Some college/univ...|White or of Europ...|35 - 44 years old|        No|The survey was an...|       Somewhat easy|\n",
      "|  Yes|        No|  South Africa|Yes, part-time|Employed full-time|Some college/univ...|Computer science,...|10,000 or more em...|Data or business ...|       6-8 years|      0-2 years|  Slightly satisfied|Moderately satisfied|Working in a diff...|I’m not actively ...|Between 1 and 2 y...|         8|         5|         7|         1|         2|         6|         4|         3|        10|          9|              1|             10|              2|              4|              8|              3|             11|              7|              5|               9|               6|                    2|                    1|                    4|                    5|                    3|                  7|                  3|                  6|                  2|                  1|                  4|                  5|My job status or ...|          21426|Office / producti...|Three to six months|Taken a part-time...|The official docu...|      Strongly agree|               Agree|   Strongly disagree|C;C++;Java;Matlab...|  Assembly;C;C++;Ma...|SQL Server;Postgr...|  PostgreSQL;Oracle...|Arduino;Windows D...|  Arduino;Windows D...|                NULL|                   NULL|Notepad++;Visual ...|        Windows|             2|Evidence-based so...|   Zip file back-ups|Weekly or a few t...|                  No|            NULL|      Somewhat agree|      Somewhat agree|   Somewhat disagree|Clicked on an onl...|             2|             3|             4|             6|             1|             7|             5|Algorithms making...|Algorithms making...|The developers or...|I'm excited about...|                  No|Yes, but only wit...|Upper management ...|                 Yes|      10 (Very Likely)|Daily or almost d...|                    Yes|    Less than once pe...|No, I knew that S...| No, I know what i...|                        Yes|Extremely interested|Extremely interested|Extremely interested|Extremely interested|Extremely interested|      Before 5:00 AM|Over 12 hours|         1 - 2 hours|               Never|3 - 4 times per week|     M|Straight or heter...|Some college/univ...|White or of Europ...|18 - 24 years old|       Yes|The survey was an...|       Somewhat easy|\n",
      "|  Yes|        No|United Kingdom|            No|Employed full-time|Bachelor’s degree...|Computer science,...|  10 to 19 employees|Back-end develope...|       6-8 years|      3-5 years|Moderately satisfied|  Slightly satisfied|Working in a diff...|I am actively loo...|Between 2 and 4 y...|         8|         5|         4|         9|         1|         3|         6|         2|        10|          7|              1|              3|              4|             10|              9|              2|              6|              5|             11|               7|               8|                    4|                    2|                    5|                    1|                    3|                  2|                  6|                  7|                  3|                  1|                  5|                  4|I did not receive...|          41671|Confluence;Jira;O...|  Less than a month|Received on-the-j...|The official docu...|            Disagree|Neither Agree nor...|   Strongly disagree|Java;JavaScript;P...|  C#;Go;Java;JavaSc...|             MongoDB|            PostgreSQL|               Linux|                 Linux|     Angular;Node.js|                Node.js|IntelliJ;PyCharm;...|    Linux-based|             2|               Agile|                 Git|A few times per week|                 Yes|             Yes|      Somewhat agree|      Somewhat agree|   Somewhat disagree|Saw an online adv...|             1|             3|             4|             2|             7|             5|             6|Increasing automa...|Algorithms making...|A governmental or...|I'm excited about...|Depends on what i...|Depends on what i...|Upper management ...|Unsure / I don't ...|                     7|A few times per m...|                    Yes|    Less than once pe...|                 Yes| No, I have one bu...|                         No|A little bit inte...|Not at all intere...|     Very interested|     Very interested|Extremely interested|Between 7:01 - 8:...| 9 - 12 hours|     30 - 59 minutes|1 - 2 times per week|1 - 2 times per week|     M|Straight or heter...|Secondary school ...|White or of Europ...|18 - 24 years old|        No|The survey was an...|       Somewhat easy|\n",
      "|  Yes|       Yes| United States|            No|Employed full-time|Some college/univ...|Computer science,...|10,000 or more em...|Back-end develope...|      9-11 years|      0-2 years|  Slightly satisfied|Moderately satisfied|Working as a foun...|I’m not actively ...|Less than a year ago|         5|         3|         9|         4|         1|         8|         2|         7|        10|          6|              1|              3|              2|              9|             11|              4|              8|              6|              7|              10|               5|                    3|                    1|                    5|                    4|                    2|                  1|                  5|                  3|                  4|                  2|                  6|                  7|My job status or ...|         120000|Confluence;Office...| Six to nine months|Received on-the-j...|The official docu...|            Disagree|               Agree|   Strongly disagree| JavaScript;HTML;CSS|  C;Go;JavaScript;P...|             MongoDB|                  NULL|               Linux|                 Linux|       Node.js;React|       React;TensorFlow|Atom;Visual Studi...|          MacOS|             2|         Agile;Scrum|                 Git|Multiple times pe...|                 Yes|             Yes|   Somewhat disagree|Neither agree nor...|   Somewhat disagree|Clicked on an onl...|             1|             4|             2|             5|             3|             7|             6|Algorithms making...|\"Artificial intel...|The developers or...|I'm excited about...|Depends on what i...|Yes, but only wit...|Upper management ...|                 Yes|      10 (Very Likely)|Multiple times pe...|                    Yes|    I have never part...|                 Yes| No, I have one bu...|                         No|     Very interested|A little bit inte...|Extremely interested|     Very interested|     Very interested|Between 9:01 - 10...|Over 12 hours|Less than 30 minutes|1 - 2 times per week|I don't typically...|     M|Straight or heter...|Master’s degree (...|White or of Europ...|18 - 24 years old|        No|The survey was an...|       Somewhat easy|\n",
      "|  Yes|       Yes|       Nigeria|            No|Employed full-time|Bachelor’s degree...|Computer science,...|  10 to 19 employees|Designer;Front-en...|       0-2 years|      3-5 years|  Slightly satisfied|Moderately satisfied|Working as a foun...|I’m not actively ...|Less than a year ago|         6|         5|         4|         2|         7|         8|        10|         1|         9|          3|              1|              3|              5|              7|              6|              2|             11|              9|              4|              10|               8|                    1|                    3|                    2|                    4|                    5|                  2|                  6|                  1|                  3|                  7|                  5|                  4|I saw an employer...|           NULL|Facebook;Google H...|One to three months|Taken an online c...|                NULL|      Strongly agree|   Strongly disagree|Neither Agree nor...|JavaScript;TypeSc...|  Matlab;SQL;Kotlin...|MongoDB;MySQL;Mic...|                  NULL|        Azure;Heroku|  Amazon Echo;Andro...|     Angular;Node.js|       .NET Core;Django|Atom;Notepad++;Su...|        Windows|             1|Agile;Extreme pro...|                 Git|Multiple times pe...|                 Yes|              No|      Strongly agree|Neither agree nor...|   Strongly disagree|Saw an online adv...|          NULL|          NULL|          NULL|          NULL|          NULL|          NULL|          NULL|\"Artificial intel...|\"Evolving definit...|                NULL|I'm excited about...|Depends on what i...|Yes, but only wit...|The developer who...|                 Yes|      10 (Very Likely)|Daily or almost d...|                    Yes|    A few times per m...|No, I knew that S...| No, and I don't k...|                        Yes|     Very interested|     Very interested|     Very interested|A little bit inte...|Extremely interested|I do not have a s...|Over 12 hours|         1 - 2 hours|Daily or almost e...|1 - 2 times per week|     F|                NULL|Primary/elementar...|Black or of Afric...|25 - 34 years old|        No|The survey was to...|  Somewhat difficult|\n",
      "|  Yes|       Yes| United States|            No|Employed full-time|Some college/univ...|Fine arts or perf...|100 to 499 employees|Back-end develope...|30 or more years|    21-23 years|Moderately satisfied|Moderately satisfied| Doing the same work|I’m not actively ...|Between 2 and 4 y...|         6|         3|         7|         4|         1|         5|        10|         8|         9|          2|              1|              3|              2|              9|             11|              5|              8|              4|             10|               7|               6|                    5|                    1|                    2|                    3|                    4|                  3|                  7|                  2|                  4|                  1|                  6|                  5|My job status or ...|         250000|Confluence;HipCha...|Three to six months|Taken an online c...|The official docu...|      Strongly agree|   Strongly disagree|   Strongly disagree|Assembly;CoffeeSc...|  Erlang;Go;Python;...|Redis;PostgreSQL;...|  Redis;PostgreSQL;...|Amazon Echo;AWS;i...|  AWS;Linux;Mac OS;...|Hadoop;Node.js;Re...|                   NULL|IntelliJ;PyCharm;...|          MacOS|             1|Agile;Evidence-ba...|                 Git|Multiple times pe...|                  No|            NULL|Neither agree nor...|      Somewhat agree|Neither agree nor...|Clicked on an onl...|             1|             3|             5|             4|             2|             7|             6|Algorithms making...|\"Artificial intel...|The developers or...|I'm worried about...|                  No|   Yes, and publicly|The person who ca...|                 Yes|                     7|A few times per m...|                    Yes|    Less than once pe...|                 Yes|                  Yes|                         No|Not at all intere...|Not at all intere...|Not at all intere...|Not at all intere...|Not at all intere...|Between 8:01 - 9:...| 9 - 12 hours|Less than 30 minutes|1 - 2 times per week|I don't typically...|     M|Straight or heter...|Some college/univ...|White or of Europ...|35 - 44 years old|       Yes|The survey was an...|           Very easy|\n",
      "|   No|       Yes|         India|            No|Employed full-time|Bachelor’s degree...|Computer science,...|500 to 999 employees|            Designer|       0-2 years|           NULL|                NULL|                NULL|                NULL|                NULL|                NULL|      NULL|      NULL|      NULL|      NULL|      NULL|      NULL|      NULL|      NULL|      NULL|       NULL|           NULL|           NULL|           NULL|           NULL|           NULL|           NULL|           NULL|           NULL|           NULL|            NULL|            NULL|                 NULL|                 NULL|                 NULL|                 NULL|                 NULL|               NULL|               NULL|               NULL|               NULL|               NULL|               NULL|               NULL|                NULL|           NULL|                NULL|               NULL|                NULL|                NULL|                NULL|                NULL|                NULL|                NULL|                  NULL|                NULL|                  NULL|                NULL|                  NULL|                NULL|                   NULL|                NULL|           NULL|          NULL|                NULL|                NULL|                NULL|                NULL|            NULL|                NULL|                NULL|                NULL|                NULL|          NULL|          NULL|          NULL|          NULL|          NULL|          NULL|          NULL|                NULL|                NULL|                NULL|                NULL|                NULL|                NULL|                NULL|                NULL|                  NULL|                NULL|                   NULL|                    NULL|                NULL|                 NULL|                       NULL|                NULL|                NULL|                NULL|                NULL|                NULL|                NULL|         NULL|                NULL|                NULL|                NULL|     O|                NULL|                NULL|                NULL|             NULL|      NULL|                NULL|                NULL|\n",
      "|  Yes|        No|         Spain|            No|Employed full-time|Master’s degree (...|Information syste...|1,000 to 4,999 em...|Back-end develope...|       6-8 years|      0-2 years|Moderately dissat...|Moderately dissat...| Doing the same work|                NULL|                NULL|      NULL|      NULL|      NULL|      NULL|      NULL|      NULL|      NULL|      NULL|      NULL|       NULL|           NULL|           NULL|           NULL|           NULL|           NULL|           NULL|           NULL|           NULL|           NULL|            NULL|            NULL|                 NULL|                 NULL|                 NULL|                 NULL|                 NULL|               NULL|               NULL|               NULL|               NULL|               NULL|               NULL|               NULL|                NULL|           NULL|                NULL|               NULL|                NULL|                NULL|                NULL|                NULL|                NULL|                NULL|                  NULL|                NULL|                  NULL|                NULL|                  NULL|                NULL|                   NULL|                NULL|           NULL|          NULL|                NULL|                NULL|                NULL|                NULL|            NULL|                NULL|                NULL|                NULL|                NULL|          NULL|          NULL|          NULL|          NULL|          NULL|          NULL|          NULL|                NULL|                NULL|                NULL|                NULL|                NULL|                NULL|                NULL|                NULL|                  NULL|                NULL|                   NULL|                    NULL|                NULL|                 NULL|                       NULL|                NULL|                NULL|                NULL|                NULL|                NULL|                NULL|         NULL|                NULL|                NULL|                NULL|     O|                NULL|                NULL|                NULL|             NULL|      NULL|                NULL|                NULL|\n",
      "|  Yes|       Yes|         India|            No|Employed full-time|Bachelor’s degree...|Another engineeri...|100 to 499 employees|Back-end develope...|       0-2 years|           NULL|                NULL|                NULL|                NULL|                NULL|                NULL|      NULL|      NULL|      NULL|      NULL|      NULL|      NULL|      NULL|      NULL|      NULL|       NULL|           NULL|           NULL|           NULL|           NULL|           NULL|           NULL|           NULL|           NULL|           NULL|            NULL|            NULL|                 NULL|                 NULL|                 NULL|                 NULL|                 NULL|               NULL|               NULL|               NULL|               NULL|               NULL|               NULL|               NULL|                NULL|           NULL|                NULL|               NULL|                NULL|                NULL|                NULL|                NULL|                NULL|                NULL|                  NULL|                NULL|                  NULL|                NULL|                  NULL|                NULL|                   NULL|                NULL|           NULL|          NULL|                NULL|                NULL|                NULL|                NULL|            NULL|                NULL|                NULL|                NULL|                NULL|          NULL|          NULL|          NULL|          NULL|          NULL|          NULL|          NULL|                NULL|                NULL|                NULL|                NULL|                NULL|                NULL|                NULL|                NULL|                     7|A few times per week|                    Yes|                    NULL|                NULL|                 NULL|                       NULL|                NULL|                NULL|                NULL|                NULL|                NULL|                NULL|         NULL|                NULL|                NULL|                NULL|     O|                NULL|                NULL|                NULL|             NULL|      NULL|                NULL|                NULL|\n",
      "|  Yes|        No|       Croatia|          NULL|Employed full-time|Some college/univ...|Computer science,...|  20 to 99 employees|Back-end develope...|       0-2 years|           NULL|                NULL|                NULL|                NULL|                NULL|                NULL|      NULL|      NULL|      NULL|      NULL|      NULL|      NULL|      NULL|      NULL|      NULL|       NULL|           NULL|           NULL|           NULL|           NULL|           NULL|           NULL|           NULL|           NULL|           NULL|            NULL|            NULL|                 NULL|                 NULL|                 NULL|                 NULL|                 NULL|               NULL|               NULL|               NULL|               NULL|               NULL|               NULL|               NULL|                NULL|           NULL|                NULL|               NULL|                NULL|                NULL|                NULL|                NULL|                NULL|                NULL|                  NULL|                NULL|                  NULL|                NULL|                  NULL|                NULL|                   NULL|                NULL|           NULL|          NULL|                NULL|                NULL|                NULL|                NULL|            NULL|                NULL|                NULL|                NULL|                NULL|          NULL|          NULL|          NULL|          NULL|          NULL|          NULL|          NULL|                NULL|                NULL|                NULL|                NULL|                NULL|                NULL|                NULL|                NULL|      10 (Very Likely)|A few times per week|   I'm not sure / I ...|                    NULL|No, I knew that S...|                 NULL|                        Yes|                NULL|                NULL|                NULL|                NULL|                NULL|                NULL|         NULL|                NULL|                NULL|                NULL|     O|                NULL|                NULL|                NULL|             NULL|      NULL|                NULL|                NULL|\n",
      "|   No|        No|         India|            No|Employed full-time|Bachelor’s degree...|Another engineeri...|  20 to 99 employees|Back-end develope...|       3-5 years|      3-5 years| Extremely satisfied|Moderately satisfied|Working as an eng...|I’m not actively ...|Less than a year ago|         6|         9|         2|         4|         3|         5|         8|         7|        10|          1|              5|              2|              1|             11|              6|              8|             10|              4|              7|               3|               9|                 NULL|                 NULL|                 NULL|                 NULL|                 NULL|               NULL|               NULL|               NULL|               NULL|               NULL|               NULL|               NULL|                NULL|           NULL|                NULL|               NULL|                NULL|                NULL|                NULL|                NULL|                NULL|                Java|           Java;Python|MongoDB;MySQL;Ora...|  MongoDB;MySQL;Ora...|               Linux|                 Linux|              Spring|    Hadoop;Spark;Spring|    Eclipse;NetBeans|    Linux-based|   More than 4|               Agile|                 Git|Multiple times pe...|                 Yes|              No|      Strongly agree|                NULL|                NULL|Stopped going to ...|          NULL|          NULL|          NULL|          NULL|          NULL|          NULL|          NULL|Increasing automa...|Algorithms making...|The developers or...|I'm excited about...|Depends on what i...|Yes, but only wit...|The developer who...|                 Yes|      10 (Very Likely)|Multiple times pe...|                    Yes|    Daily or almost d...|                 Yes| No, and I don't k...|                        Yes| Somewhat interested|Extremely interested|Extremely interested|A little bit inte...| Somewhat interested|Between 6:01 - 7:...|  5 - 8 hours|         1 - 2 hours|               Never|I don't typically...|     O|                NULL|                NULL|                NULL|             NULL|      NULL|                NULL|                NULL|\n",
      "|   No|        No|   Netherlands|Yes, full-time|Employed full-time|Secondary school ...|                NULL|  20 to 99 employees|Back-end develope...|       0-2 years|      0-2 years|Neither satisfied...|Moderately dissat...|Working in a care...|I’m not actively ...|Between 2 and 4 y...|         1|         9|         2|        10|         6|         3|         4|         5|         7|          8|              2|              3|              6|             11|              9|              8|             10|              4|              5|               7|               1|                    5|                    3|                    2|                    1|                    4|                  1|                  2|                  6|                  7|                  3|                  4|                  5|My job status or ...|              0|                NULL|  Less than a month|Received on-the-j...|                NULL|            Disagree|   Strongly disagree|      Strongly agree|Java;JavaScript;P...|                  NULL|    SQL Server;MySQL|                  NULL|Windows Desktop o...|                  NULL|                NULL|                   NULL|Notepad++;Visual ...|        Windows|             2|         Agile;Scrum|Copying and pasti...|               Never|                  No|            NULL|      Strongly agree|      Somewhat agree|Neither agree nor...|Clicked on an onl...|             4|             5|             6|             2|             1|             7|             3|\"Artificial intel...|                NULL|The developers or...|I'm worried about...|                  No|   Yes, and publicly|The person who ca...|                 Yes|                     8|Daily or almost d...|                    Yes|    Less than once pe...|No, I knew that S...| No, and I don't k...|                         No|Not at all intere...|Not at all intere...|Not at all intere...|Not at all intere...|Not at all intere...|Between 6:01 - 7:...| 9 - 12 hours|         1 - 2 hours|               Never|Daily or almost e...|     M|                NULL|    Associate degree|White or of Europ...|18 - 24 years old|        No|The survey was an...|Neither easy nor ...|\n",
      "|  Yes|        No|        Israel|            No|Employed full-time|Master’s degree (...|Fine arts or perf...|5,000 to 9,999 em...|Full-stack developer|       3-5 years|      3-5 years|Moderately dissat...|Extremely dissati...|Working in a diff...|I’m not actively ...|Between 2 and 4 y...|      NULL|      NULL|      NULL|      NULL|      NULL|      NULL|      NULL|      NULL|      NULL|       NULL|           NULL|           NULL|           NULL|           NULL|           NULL|           NULL|           NULL|           NULL|           NULL|            NULL|            NULL|                 NULL|                 NULL|                 NULL|                 NULL|                 NULL|               NULL|               NULL|               NULL|               NULL|               NULL|               NULL|               NULL|                NULL|           NULL|                NULL|               NULL|                NULL|                NULL|                NULL|                NULL|                NULL|                NULL|                  NULL|                NULL|                  NULL|                NULL|                  NULL|                NULL|                   NULL|                NULL|           NULL|          NULL|                NULL|                NULL|                NULL|                NULL|            NULL|                NULL|                NULL|                NULL|                NULL|          NULL|          NULL|          NULL|          NULL|          NULL|          NULL|          NULL|                NULL|                NULL|                NULL|                NULL|                NULL|                NULL|                NULL|                NULL|      10 (Very Likely)|Multiple times pe...|                     No|                    NULL|No, I knew that S...|                 NULL|                         No|A little bit inte...|A little bit inte...|Not at all intere...|Not at all intere...|Not at all intere...|Between 5:00 - 6:...| 9 - 12 hours|         1 - 2 hours|               Never|3 - 4 times per week|     O|                NULL|                NULL|                NULL|             NULL|      NULL|                NULL|                NULL|\n",
      "|   No|        No| United States|Yes, full-time|Employed part-time|Bachelor’s degree...|Computer science,...|1,000 to 4,999 em...|             Student|       0-2 years|           NULL|                NULL|                NULL|                NULL|I am actively loo...|Less than a year ago|         5|         7|         4|         8|         2|         6|         9|         1|        10|          3|              1|              2|              4|             10|             11|              5|              6|              7|              9|               8|               3|                 NULL|                 NULL|                 NULL|                 NULL|                 NULL|               NULL|               NULL|               NULL|               NULL|               NULL|               NULL|               NULL|                NULL|           NULL|                NULL|               NULL|                NULL|                NULL|                NULL|                NULL|                NULL|                NULL|                  NULL|                NULL|                  NULL|                NULL|                  NULL|                NULL|                   NULL|                NULL|           NULL|          NULL|                NULL|                NULL|                NULL|                NULL|            NULL|                NULL|                NULL|                NULL|                NULL|          NULL|          NULL|          NULL|          NULL|          NULL|          NULL|          NULL|                NULL|                NULL|                NULL|                NULL|                NULL|                NULL|                NULL|                NULL|      10 (Very Likely)|Daily or almost d...|                    Yes|    I have never part...|No, I knew that S...| No, I know what i...|                        Yes|     Very interested|     Very interested|     Very interested|     Very interested|     Very interested|Between 9:01 - 10...|  5 - 8 hours|     30 - 59 minutes|               Never|3 - 4 times per week|     O|                NULL|                NULL|                NULL|             NULL|      NULL|                NULL|                NULL|\n",
      "|  Yes|        No|        Sweden|            No|Employed full-time|Master’s degree (...|A business discip...|  10 to 19 employees|  Back-end developer|       6-8 years|      0-2 years|Moderately satisfied|Moderately satisfied|Working in a diff...|I’m not actively ...|Between 1 and 2 y...|         9|         4|        10|         3|         1|         6|         5|         2|         7|          8|              1|              8|              9|              4|             11|              3|              5|              6|             10|               7|               2|                 NULL|                 NULL|                 NULL|                 NULL|                 NULL|                  7|                  6|                  1|                  5|                  3|                  4|                  2|A friend told me ...|          47904|     Confluence;Jira|Three to six months|Taken an online c...|A book or e-book ...|Neither Agree nor...|               Agree|            Disagree|C#;SQL;HTML;CSS;B...|  C#;F#;Haskell;SQL...|          SQL Server|  Redis;SQL Server;...|Linux;Windows Des...|  Linux;Windows Des...|           .NET Core|              .NET Core|Visual Studio;Vis...|        Windows|             1|               Agile|                 Git|Multiple times pe...|                 Yes|             Yes|   Strongly disagree|   Strongly disagree|      Strongly agree|                NULL|             3|             2|             4|             7|             5|             6|             1|                NULL|                NULL|A governmental or...|I don't care abou...|                  No|   Yes, and publicly|                NULL|                 Yes|      10 (Very Likely)|Multiple times pe...|                    Yes|    Less than once pe...|                 Yes|                  Yes|                         No|Not at all intere...|Not at all intere...|Not at all intere...|     Very interested| Somewhat interested|Between 7:01 - 8:...| 9 - 12 hours|     30 - 59 minutes|               Never|3 - 4 times per week|     M|                NULL|Bachelor’s degree...|White or of Europ...|35 - 44 years old|       Yes|The survey was to...|  Somewhat difficult|\n",
      "|  Yes|       Yes|         India|Yes, full-time|Employed full-time|Bachelor’s degree...|                NULL|10,000 or more em...|Data or business ...|       0-2 years|      3-5 years|  Slightly satisfied| Extremely satisfied| Doing the same work|I’m not actively ...|Between 1 and 2 y...|      NULL|      NULL|      NULL|      NULL|      NULL|      NULL|      NULL|      NULL|      NULL|       NULL|           NULL|           NULL|           NULL|           NULL|           NULL|           NULL|           NULL|           NULL|           NULL|            NULL|            NULL|                 NULL|                 NULL|                 NULL|                 NULL|                 NULL|               NULL|               NULL|               NULL|               NULL|               NULL|               NULL|               NULL|A recruiter conta...|           NULL|                NULL|               NULL|Contributed to op...|                NULL|      Strongly agree|      Strongly agree|      Strongly agree|            C;C++;C#|              Python;R|                NULL|  Redis;PostgreSQL;...|                NULL|  Azure;ESP8266;Gam...|             Angular|                 Django|Android Studio;Co...|        Windows|   More than 4|               Agile|                 Git|               Never|I'm not sure/I do...|            NULL|   Strongly disagree|   Strongly disagree|   Strongly disagree|Clicked on an onl...|          NULL|          NULL|          NULL|          NULL|          NULL|          NULL|          NULL|Increasing automa...|\"Evolving definit...|The developers or...|I'm worried about...|                  No|                  No|The developer who...|                  No|      10 (Very Likely)|Multiple times pe...|   I'm not sure / I ...|                    NULL|                 Yes|                 NULL|               I'm not sure|                NULL|                NULL|                NULL|                NULL|Extremely interested|I do not have a s...| 9 - 12 hours|         1 - 2 hours|3 - 4 times per week|Daily or almost e...|     F|                NULL|Some college/univ...|                NULL|             NULL|      NULL|The survey was to...|      Very difficult|\n",
      "|  Yes|       Yes|         Chile|Yes, full-time|Employed part-time|Bachelor’s degree...|A business discip...|Fewer than 10 emp...|Back-end develope...|       3-5 years|           NULL|                NULL|                NULL|                NULL|                NULL|                NULL|      NULL|      NULL|      NULL|      NULL|      NULL|      NULL|      NULL|      NULL|      NULL|       NULL|           NULL|           NULL|           NULL|           NULL|           NULL|           NULL|           NULL|           NULL|           NULL|            NULL|            NULL|                 NULL|                 NULL|                 NULL|                 NULL|                 NULL|               NULL|               NULL|               NULL|               NULL|               NULL|               NULL|               NULL|                NULL|           NULL|                NULL|               NULL|                NULL|                NULL|                NULL|                NULL|                NULL|                NULL|                  NULL|                NULL|                  NULL|                NULL|                  NULL|                NULL|                   NULL|                NULL|           NULL|          NULL|                NULL|                NULL|                NULL|                NULL|            NULL|                NULL|                NULL|                NULL|                NULL|          NULL|          NULL|          NULL|          NULL|          NULL|          NULL|          NULL|                NULL|                NULL|                NULL|                NULL|                NULL|                NULL|                NULL|                NULL|      10 (Very Likely)|Daily or almost d...|                    Yes|    I have never part...|No, I knew that S...| No, I have one bu...|                         No|                NULL|                NULL|                NULL|                NULL|                NULL|Between 7:01 - 8:...| 9 - 12 hours|     30 - 59 minutes|1 - 2 times per week|1 - 2 times per week|     O|                NULL|                NULL|                NULL|             NULL|      NULL|                NULL|                NULL|\n",
      "+-----+----------+--------------+--------------+------------------+--------------------+--------------------+--------------------+--------------------+----------------+---------------+--------------------+--------------------+--------------------+--------------------+--------------------+----------+----------+----------+----------+----------+----------+----------+----------+----------+-----------+---------------+---------------+---------------+---------------+---------------+---------------+---------------+---------------+---------------+----------------+----------------+---------------------+---------------------+---------------------+---------------------+---------------------+-------------------+-------------------+-------------------+-------------------+-------------------+-------------------+-------------------+--------------------+---------------+--------------------+-------------------+--------------------+--------------------+--------------------+--------------------+--------------------+--------------------+----------------------+--------------------+----------------------+--------------------+----------------------+--------------------+-----------------------+--------------------+---------------+--------------+--------------------+--------------------+--------------------+--------------------+----------------+--------------------+--------------------+--------------------+--------------------+--------------+--------------+--------------+--------------+--------------+--------------+--------------+--------------------+--------------------+--------------------+--------------------+--------------------+--------------------+--------------------+--------------------+----------------------+--------------------+-----------------------+------------------------+--------------------+---------------------+---------------------------+--------------------+--------------------+--------------------+--------------------+--------------------+--------------------+-------------+--------------------+--------------------+--------------------+------+--------------------+--------------------+--------------------+-----------------+----------+--------------------+--------------------+\n",
      "only showing top 20 rows\n",
      "\n"
     ]
    }
   ],
   "source": [
    "df_cleaned.show()"
   ]
  },
  {
   "cell_type": "code",
   "execution_count": 142,
   "id": "a19f760b",
   "metadata": {},
   "outputs": [
    {
     "name": "stderr",
     "output_type": "stream",
     "text": [
      "\r",
      "[Stage 2957:>                                                       (0 + 4) / 4]\r"
     ]
    },
    {
     "name": "stdout",
     "output_type": "stream",
     "text": [
      "Shape: (98855, 44)\n"
     ]
    },
    {
     "name": "stderr",
     "output_type": "stream",
     "text": [
      "\r",
      "[Stage 2957:============================>                           (2 + 2) / 4]\r",
      "\r",
      "                                                                                \r"
     ]
    }
   ],
   "source": [
    "df_cat = df_cleaned.select('Hobby', 'OpenSource', 'Country', 'Student', 'Employment', 'UndergradMajor', 'UpdateCV','DevType', 'HopeFiveYears', 'JobSearchStatus',\n",
    "                      'CommunicationTools', 'EducationTypes', 'SelfTaughtTypes','LanguageWorkedWith', 'LanguageDesireNextYear', 'DatabaseWorkedWith', \n",
    "                      'DatabaseDesireNextYear', 'PlatformWorkedWith', 'PlatformDesireNextYear', 'FrameworkWorkedWith', 'FrameworkDesireNextYear', 'IDE', \n",
    "                      'OperatingSystem', 'Methodology', 'VersionControl', 'AdBlocker',   'AdBlockerDisable', 'AdsActions', 'AIDangerous', 'AIInteresting',\n",
    "                      'AIResponsible', 'EthicsReport', 'EthicsResponsible', 'EthicalImplications', 'StackOverflowHasAccount', 'StackOverflowJobs',\n",
    "                      'StackOverflowDevStory', 'StackOverflowConsiderMember', 'Gender', 'SexualOrientation', 'RaceEthnicity',\n",
    "                      'Dependents', 'EthicsChoice','AIFuture')\n",
    "shape(df_cat)"
   ]
  },
  {
   "cell_type": "markdown",
   "id": "770a7a36",
   "metadata": {
    "slideshow": {
     "slide_type": "notes"
    }
   },
   "source": [
    "#### Handle with Ordinal Feature"
   ]
  },
  {
   "cell_type": "code",
   "execution_count": 167,
   "id": "8f26ae07",
   "metadata": {},
   "outputs": [
    {
     "name": "stderr",
     "output_type": "stream",
     "text": [
      "                                                                                \r"
     ]
    },
    {
     "data": {
      "text/plain": [
       "[Row(FormalEducation='Primary/elementary school'),\n",
       " Row(FormalEducation='I never completed any formal education'),\n",
       " Row(FormalEducation='Secondary school (e.g. American high school, German Realschule or Gymnasium, etc.)'),\n",
       " Row(FormalEducation='Associate degree'),\n",
       " Row(FormalEducation='Professional degree (JD, MD, etc.)'),\n",
       " Row(FormalEducation='Other doctoral degree (Ph.D, Ed.D., etc.)'),\n",
       " Row(FormalEducation='Some college/university study without earning a degree'),\n",
       " Row(FormalEducation='Master’s degree (MA, MS, M.Eng., MBA, etc.)'),\n",
       " Row(FormalEducation='Bachelor’s degree (BA, BS, B.Eng., etc.)'),\n",
       " Row(FormalEducation=None)]"
      ]
     },
     "execution_count": 167,
     "metadata": {},
     "output_type": "execute_result"
    }
   ],
   "source": [
    "df_ord.select(\"FormalEducation\").distinct().collect()\n",
    "#df_edu.select('FormalEducation')"
   ]
  },
  {
   "cell_type": "code",
   "execution_count": 177,
   "id": "9f959ae9",
   "metadata": {},
   "outputs": [
    {
     "name": "stderr",
     "output_type": "stream",
     "text": [
      "                                                                                \r"
     ]
    },
    {
     "data": {
      "text/plain": [
       "[Row(FormalEducation='7'),\n",
       " Row(FormalEducation='3'),\n",
       " Row(FormalEducation='8'),\n",
       " Row(FormalEducation='0'),\n",
       " Row(FormalEducation='5'),\n",
       " Row(FormalEducation='6'),\n",
       " Row(FormalEducation='1'),\n",
       " Row(FormalEducation='4'),\n",
       " Row(FormalEducation='2'),\n",
       " Row(FormalEducation=None)]"
      ]
     },
     "execution_count": 177,
     "metadata": {},
     "output_type": "execute_result"
    }
   ],
   "source": [
    "df_edu.select(\"FormalEducation\").distinct().collect()"
   ]
  },
  {
   "cell_type": "code",
   "execution_count": 178,
   "id": "dd51f998",
   "metadata": {},
   "outputs": [
    {
     "name": "stderr",
     "output_type": "stream",
     "text": [
      "                                                                                \r"
     ]
    },
    {
     "data": {
      "text/plain": [
       "[Row(FormalEducation='7'),\n",
       " Row(FormalEducation='3'),\n",
       " Row(FormalEducation='8'),\n",
       " Row(FormalEducation='0'),\n",
       " Row(FormalEducation='5'),\n",
       " Row(FormalEducation='6'),\n",
       " Row(FormalEducation='1'),\n",
       " Row(FormalEducation='4'),\n",
       " Row(FormalEducation='2'),\n",
       " Row(FormalEducation=None)]"
      ]
     },
     "execution_count": 178,
     "metadata": {},
     "output_type": "execute_result"
    }
   ],
   "source": [
    "# FormalaEducation\n",
    "df_edu = df_ord.select(\"*\")\n",
    "conditions = {\n",
    "    'Bachelor’s degree (BA, BS, B.Eng., etc.)': 5,\n",
    "     'Associate degree': 4,\n",
    "     'Some college/university study without earning a degree': 3,\n",
    "     'Master’s degree (MA, MS, M.Eng., MBA, etc.)': 7,\n",
    "     'Secondary school (e.g. American high school, German Realschule or Gymnasium, etc.)':2,\n",
    "     'Primary/elementary school': 1,\n",
    "     'Professional degree (JD, MD, etc.)':6,\n",
    "     'I never completed any formal education':0,\n",
    "     'Other doctoral degree (Ph.D, Ed.D., etc.)': 8,\n",
    "    }\n",
    "\n",
    "# Replace values based on conditions\n",
    "for condition, value in conditions.items():\n",
    "    df_edu = df_edu.withColumn(\"FormalEducation\", when(df_edu[\"FormalEducation\"]==condition, value).otherwise(df_edu['FormalEducation']))\n",
    "df_edu.select(\"FormalEducation\").distinct().collect()"
   ]
  },
  {
   "cell_type": "code",
   "execution_count": 180,
   "id": "e822f281",
   "metadata": {},
   "outputs": [
    {
     "name": "stderr",
     "output_type": "stream",
     "text": [
      "                                                                                \r"
     ]
    },
    {
     "data": {
      "text/plain": [
       "[Row(CompanySize='7'),\n",
       " Row(CompanySize='3'),\n",
       " Row(CompanySize='0'),\n",
       " Row(CompanySize='5'),\n",
       " Row(CompanySize='6'),\n",
       " Row(CompanySize='1'),\n",
       " Row(CompanySize='4'),\n",
       " Row(CompanySize='2'),\n",
       " Row(CompanySize=None)]"
      ]
     },
     "execution_count": 180,
     "metadata": {},
     "output_type": "execute_result"
    }
   ],
   "source": [
    "# Company size\n",
    "df_con_size = df_edu.select('*')\n",
    "conditions = {'20 to 99 employees': 2, '10,000 or more employees': 7,\n",
    "            '100 to 499 employees': 3, '10 to 19 employees': 1,\n",
    "            '500 to 999 employees': 4, '1,000 to 4,999 employees': 5,\n",
    "            '5,000 to 9,999 employees': 6, 'Fewer than 10 employees': 0}\n",
    "\n",
    "# Replace values based on conditions\n",
    "for condition, value in conditions.items():\n",
    "    df_con_size = df_con_size.withColumn(\"CompanySize\", \n",
    "            when(df_con_size[\"CompanySize\"]==condition, value).otherwise(df_con_size['CompanySize']))\n",
    "df_con_size.select(\"CompanySize\").distinct().collect()"
   ]
  },
  {
   "cell_type": "code",
   "execution_count": 182,
   "id": "86f6f16b",
   "metadata": {},
   "outputs": [
    {
     "name": "stderr",
     "output_type": "stream",
     "text": [
      "                                                                                \r"
     ]
    },
    {
     "data": {
      "text/plain": [
       "[Row(YearsCoding='7'),\n",
       " Row(YearsCoding='3'),\n",
       " Row(YearsCoding='8'),\n",
       " Row(YearsCoding='0'),\n",
       " Row(YearsCoding='5'),\n",
       " Row(YearsCoding='6'),\n",
       " Row(YearsCoding='9'),\n",
       " Row(YearsCoding='1'),\n",
       " Row(YearsCoding='10'),\n",
       " Row(YearsCoding='4'),\n",
       " Row(YearsCoding='2'),\n",
       " Row(YearsCoding=None)]"
      ]
     },
     "execution_count": 182,
     "metadata": {},
     "output_type": "execute_result"
    }
   ],
   "source": [
    "# YearsCoding\n",
    "df_year_code = df_con_size.select('*')\n",
    "conditions = {'3-5 years':1, '30 or more years':10, '24-26 years':8, '18-20 years':6,\n",
    "                        '6-8 years':2, '9-11 years':3, '0-2 years':0, '15-17 years':5,\n",
    "                        '12-14 years':4, '21-23 years':7, '27-29 years':9}\n",
    "\n",
    "# Replace values based on conditions\n",
    "for condition, value in conditions.items():\n",
    "    df_year_code = df_year_code.withColumn(\"YearsCoding\", \n",
    "            when(df_year_code[\"YearsCoding\"]==condition, value).otherwise(df_year_code['YearsCoding']))\n",
    "df_year_code.select(\"YearsCoding\").distinct().collect()"
   ]
  },
  {
   "cell_type": "code",
   "execution_count": 183,
   "id": "01dab3c3",
   "metadata": {},
   "outputs": [
    {
     "name": "stderr",
     "output_type": "stream",
     "text": [
      "                                                                                \r"
     ]
    },
    {
     "data": {
      "text/plain": [
       "[Row(YearsCodingProf='7'),\n",
       " Row(YearsCodingProf='11'),\n",
       " Row(YearsCodingProf='3'),\n",
       " Row(YearsCodingProf='8'),\n",
       " Row(YearsCodingProf='5'),\n",
       " Row(YearsCodingProf='6'),\n",
       " Row(YearsCodingProf='9'),\n",
       " Row(YearsCodingProf='1'),\n",
       " Row(YearsCodingProf='10'),\n",
       " Row(YearsCodingProf='4'),\n",
       " Row(YearsCodingProf='2'),\n",
       " Row(YearsCodingProf=None)]"
      ]
     },
     "execution_count": 183,
     "metadata": {},
     "output_type": "execute_result"
    }
   ],
   "source": [
    "# YearsCodingProf\n",
    "df_year_pro = df_year_code.select('*')\n",
    "conditions = {'3-5 years':2, '30 or more years':11, '24-26 years':9, '18-20 years':7,\n",
    "                            '6-8 years':3, '9-11 years':4, '0-2 years':1, '15-17 years':6,\n",
    "                            '12-14 years':5, '21-23 years':8, '27-29 years':10}\n",
    "\n",
    "# Replace values based on conditions\n",
    "for condition, value in conditions.items():\n",
    "    df_year_pro = df_year_pro.withColumn(\"YearsCodingProf\", \n",
    "            when(df_year_pro[\"YearsCodingProf\"]==condition, value).otherwise(df_year_pro['YearsCodingProf']))\n",
    "df_year_pro.select(\"YearsCodingProf\").distinct().collect()"
   ]
  },
  {
   "cell_type": "code",
   "execution_count": 184,
   "id": "579be9b9",
   "metadata": {},
   "outputs": [
    {
     "name": "stderr",
     "output_type": "stream",
     "text": [
      "                                                                                \r"
     ]
    },
    {
     "data": {
      "text/plain": [
       "[Row(JobSatisfaction='Extremely dissatisfied'),\n",
       " Row(JobSatisfaction='Slightly satisfied'),\n",
       " Row(JobSatisfaction='Extremely satisfied'),\n",
       " Row(JobSatisfaction='Slightly dissatisfied'),\n",
       " Row(JobSatisfaction='Moderately satisfied'),\n",
       " Row(JobSatisfaction='Moderately dissatisfied'),\n",
       " Row(JobSatisfaction='Neither satisfied nor dissatisfied'),\n",
       " Row(JobSatisfaction=None)]"
      ]
     },
     "execution_count": 184,
     "metadata": {},
     "output_type": "execute_result"
    }
   ],
   "source": [
    "df_year_pro.select(\"JobSatisfaction\").distinct().collect()"
   ]
  },
  {
   "cell_type": "code",
   "execution_count": 185,
   "id": "12daf3d9",
   "metadata": {},
   "outputs": [
    {
     "name": "stderr",
     "output_type": "stream",
     "text": [
      "                                                                                \r"
     ]
    },
    {
     "data": {
      "text/plain": [
       "[Row(JobSatisfaction='-1'),\n",
       " Row(JobSatisfaction='3'),\n",
       " Row(JobSatisfaction='0'),\n",
       " Row(JobSatisfaction='1'),\n",
       " Row(JobSatisfaction='-3'),\n",
       " Row(JobSatisfaction='-2'),\n",
       " Row(JobSatisfaction='2'),\n",
       " Row(JobSatisfaction=None)]"
      ]
     },
     "execution_count": 185,
     "metadata": {},
     "output_type": "execute_result"
    }
   ],
   "source": [
    "# JobSatisfaction\n",
    "df_job_satis = df_year_pro.select('*')\n",
    "conditions = {'Moderately dissatisfied':-2, 'Slightly satisfied':1,\n",
    "                            'Moderately satisfied':2, 'Neither satisfied nor dissatisfied':0,\n",
    "                            'Slightly dissatisfied':-1, 'Extremely dissatisfied':-3,\n",
    "                            'Extremely satisfied':3}\n",
    "\n",
    "# Replace values based on conditions\n",
    "for condition, value in conditions.items():\n",
    "    df_job_satis = df_job_satis.withColumn(\"JobSatisfaction\", \n",
    "            when(df_job_satis[\"JobSatisfaction\"]==condition, value).otherwise(df_job_satis['JobSatisfaction']))\n",
    "df_job_satis.select(\"JobSatisfaction\").distinct().collect()"
   ]
  },
  {
   "cell_type": "code",
   "execution_count": 186,
   "id": "e5b2a7dd",
   "metadata": {},
   "outputs": [
    {
     "name": "stderr",
     "output_type": "stream",
     "text": [
      "                                                                                \r"
     ]
    },
    {
     "data": {
      "text/plain": [
       "[Row(CareerSatisfaction='Extremely dissatisfied'),\n",
       " Row(CareerSatisfaction='Slightly satisfied'),\n",
       " Row(CareerSatisfaction='Extremely satisfied'),\n",
       " Row(CareerSatisfaction='Slightly dissatisfied'),\n",
       " Row(CareerSatisfaction='Moderately satisfied'),\n",
       " Row(CareerSatisfaction='Neither satisfied nor dissatisfied'),\n",
       " Row(CareerSatisfaction='Moderately dissatisfied'),\n",
       " Row(CareerSatisfaction=None)]"
      ]
     },
     "execution_count": 186,
     "metadata": {},
     "output_type": "execute_result"
    }
   ],
   "source": [
    "df_job_satis.select(\"CareerSatisfaction\").distinct().collect()"
   ]
  },
  {
   "cell_type": "code",
   "execution_count": 188,
   "id": "0bab73d8",
   "metadata": {},
   "outputs": [
    {
     "name": "stderr",
     "output_type": "stream",
     "text": [
      "                                                                                \r"
     ]
    },
    {
     "data": {
      "text/plain": [
       "[Row(CareerSatisfaction='-1'),\n",
       " Row(CareerSatisfaction='3'),\n",
       " Row(CareerSatisfaction='0'),\n",
       " Row(CareerSatisfaction='1'),\n",
       " Row(CareerSatisfaction='-3'),\n",
       " Row(CareerSatisfaction='-2'),\n",
       " Row(CareerSatisfaction='2'),\n",
       " Row(CareerSatisfaction=None)]"
      ]
     },
     "execution_count": 188,
     "metadata": {},
     "output_type": "execute_result"
    }
   ],
   "source": [
    "# CareerSatisfaction\n",
    "df_car_satis = df_job_satis.select('*')\n",
    "conditions = {    'Moderately dissatisfied':-2, 'Slightly satisfied':1,\n",
    "                   'Moderately satisfied':2, 'Neither satisfied nor dissatisfied':0,\n",
    "                   'Slightly dissatisfied':-1,'Extremely dissatisfied':-3,\n",
    "                   'Extremely satisfied':3}\n",
    "\n",
    "# Replace values based on conditions\n",
    "for condition, value in conditions.items():\n",
    "    df_car_satis = df_car_satis.withColumn(\"CareerSatisfaction\", \n",
    "            when(df_car_satis[\"CareerSatisfaction\"]==condition, value).otherwise(df_car_satis['CareerSatisfaction']))\n",
    "df_car_satis.select(\"CareerSatisfaction\").distinct().collect()\n"
   ]
  },
  {
   "cell_type": "code",
   "execution_count": 189,
   "id": "6005dc9a",
   "metadata": {},
   "outputs": [
    {
     "name": "stderr",
     "output_type": "stream",
     "text": [
      "                                                                                \r"
     ]
    },
    {
     "data": {
      "text/plain": [
       "[Row(LastNewJob='Less than a year ago'),\n",
       " Row(LastNewJob='Between 2 and 4 years ago'),\n",
       " Row(LastNewJob=\"I've never had a job\"),\n",
       " Row(LastNewJob='More than 4 years ago'),\n",
       " Row(LastNewJob='Between 1 and 2 years ago'),\n",
       " Row(LastNewJob=None)]"
      ]
     },
     "execution_count": 189,
     "metadata": {},
     "output_type": "execute_result"
    }
   ],
   "source": [
    "df_car_satis.select(\"LastNewJob\").distinct().collect()"
   ]
  },
  {
   "cell_type": "code",
   "execution_count": 190,
   "id": "55500035",
   "metadata": {},
   "outputs": [
    {
     "name": "stderr",
     "output_type": "stream",
     "text": [
      "                                                                                \r"
     ]
    },
    {
     "data": {
      "text/plain": [
       "[Row(LastNewJob='3'),\n",
       " Row(LastNewJob='0'),\n",
       " Row(LastNewJob='1'),\n",
       " Row(LastNewJob='4'),\n",
       " Row(LastNewJob='2'),\n",
       " Row(LastNewJob=None)]"
      ]
     },
     "execution_count": 190,
     "metadata": {},
     "output_type": "execute_result"
    }
   ],
   "source": [
    "# LastNewJob\n",
    "df_last_newj = df_car_satis.select('*')\n",
    "conditions = {'Less than a year ago': 1, 'More than 4 years ago': 4,\n",
    "                       'Between 1 and 2 years ago': 2, 'Between 2 and 4 years ago': 3, \"I've never had a job\": 0}\n",
    "\n",
    "# Replace values based on conditions\n",
    "for condition, value in conditions.items():\n",
    "    df_last_newj = df_last_newj.withColumn(\"LastNewJob\", \n",
    "            when(df_last_newj[\"LastNewJob\"]==condition, value).otherwise(df_last_newj['LastNewJob']))\n",
    "df_last_newj.select(\"LastNewJob\").distinct().collect()\n"
   ]
  },
  {
   "cell_type": "code",
   "execution_count": 191,
   "id": "ea9bcfd8",
   "metadata": {},
   "outputs": [
    {
     "name": "stderr",
     "output_type": "stream",
     "text": [
      "                                                                                \r"
     ]
    },
    {
     "data": {
      "text/plain": [
       "[Row(TimeFullyProductive='Three to six months'),\n",
       " Row(TimeFullyProductive='Nine months to a year'),\n",
       " Row(TimeFullyProductive='Six to nine months'),\n",
       " Row(TimeFullyProductive='More than a year'),\n",
       " Row(TimeFullyProductive='Less than a month'),\n",
       " Row(TimeFullyProductive='One to three months'),\n",
       " Row(TimeFullyProductive=None)]"
      ]
     },
     "execution_count": 191,
     "metadata": {},
     "output_type": "execute_result"
    }
   ],
   "source": [
    "df_last_newj.select(\"TimeFullyProductive\").distinct().collect()"
   ]
  },
  {
   "cell_type": "code",
   "execution_count": 192,
   "id": "65395d45",
   "metadata": {},
   "outputs": [
    {
     "name": "stderr",
     "output_type": "stream",
     "text": [
      "                                                                                \r"
     ]
    },
    {
     "data": {
      "text/plain": [
       "[Row(TimeFullyProductive='3'),\n",
       " Row(TimeFullyProductive='0'),\n",
       " Row(TimeFullyProductive='5'),\n",
       " Row(TimeFullyProductive='1'),\n",
       " Row(TimeFullyProductive='4'),\n",
       " Row(TimeFullyProductive='2'),\n",
       " Row(TimeFullyProductive=None)]"
      ]
     },
     "execution_count": 192,
     "metadata": {},
     "output_type": "execute_result"
    }
   ],
   "source": [
    "# TimeFullyProductive\n",
    "df_time_pro = df_last_newj.select('*')\n",
    "conditions = {'One to three months':1, 'Three to six months':2,\n",
    "                                'Less than a month':0, 'Six to nine months':3, 'More than a year':5,\n",
    "                                'Nine months to a year':4}\n",
    "# Replace values based on conditions\n",
    "for condition, value in conditions.items():\n",
    "    df_time_pro = df_time_pro.withColumn(\"TimeFullyProductive\", \n",
    "            when(df_time_pro[\"TimeFullyProductive\"]==condition, value).otherwise(df_time_pro['TimeFullyProductive']))\n",
    "df_time_pro.select(\"TimeFullyProductive\").distinct().collect()\n"
   ]
  },
  {
   "cell_type": "code",
   "execution_count": 193,
   "id": "69ef126d",
   "metadata": {},
   "outputs": [
    {
     "name": "stderr",
     "output_type": "stream",
     "text": [
      "                                                                                \r"
     ]
    },
    {
     "data": {
      "text/plain": [
       "[Row(HoursOutside='Less than 30 minutes'),\n",
       " Row(HoursOutside='30 - 59 minutes'),\n",
       " Row(HoursOutside='3 - 4 hours'),\n",
       " Row(HoursOutside='1 - 2 hours'),\n",
       " Row(HoursOutside='Over 4 hours'),\n",
       " Row(HoursOutside=None)]"
      ]
     },
     "execution_count": 193,
     "metadata": {},
     "output_type": "execute_result"
    }
   ],
   "source": [
    "df_time_pro.select(\"HoursOutside\").distinct().collect()"
   ]
  },
  {
   "cell_type": "code",
   "execution_count": 194,
   "id": "4066ab92",
   "metadata": {},
   "outputs": [
    {
     "name": "stderr",
     "output_type": "stream",
     "text": [
      "                                                                                \r"
     ]
    },
    {
     "data": {
      "text/plain": [
       "[Row(HoursOutside='3'),\n",
       " Row(HoursOutside='5'),\n",
       " Row(HoursOutside='1'),\n",
       " Row(HoursOutside='4'),\n",
       " Row(HoursOutside='2'),\n",
       " Row(HoursOutside=None)]"
      ]
     },
     "execution_count": 194,
     "metadata": {},
     "output_type": "execute_result"
    }
   ],
   "source": [
    "# HoursOutside\n",
    "df_hour_out = df_time_pro.select('*')\n",
    "conditions ={   '30 - 59 minutes':2, '1 - 2 hours':3, 'Less than 30 minutes':1,\n",
    "                            '3 - 4 hours':4, 'Over 4 hours':5}\n",
    "# Replace values based on conditions\n",
    "for condition, value in conditions.items():\n",
    "    df_hour_out = df_hour_out.withColumn(\"HoursOutside\", \n",
    "            when(df_hour_out[\"HoursOutside\"]==condition, value).otherwise(df_hour_out['HoursOutside']))\n",
    "df_hour_out.select(\"HoursOutside\").distinct().collect()\n"
   ]
  },
  {
   "cell_type": "code",
   "execution_count": 195,
   "id": "c58ce2df",
   "metadata": {},
   "outputs": [
    {
     "name": "stderr",
     "output_type": "stream",
     "text": [
      "                                                                                \r"
     ]
    },
    {
     "data": {
      "text/plain": [
       "[Row(HoursComputer='1 - 4 hours'),\n",
       " Row(HoursComputer='5 - 8 hours'),\n",
       " Row(HoursComputer='9 - 12 hours'),\n",
       " Row(HoursComputer='Over 12 hours'),\n",
       " Row(HoursComputer='Less than 1 hour'),\n",
       " Row(HoursComputer=None)]"
      ]
     },
     "execution_count": 195,
     "metadata": {},
     "output_type": "execute_result"
    }
   ],
   "source": [
    "df_hour_out.select(\"HoursComputer\").distinct().collect()"
   ]
  },
  {
   "cell_type": "code",
   "execution_count": 196,
   "id": "1824db8d",
   "metadata": {},
   "outputs": [
    {
     "name": "stderr",
     "output_type": "stream",
     "text": [
      "                                                                                \r"
     ]
    },
    {
     "data": {
      "text/plain": [
       "[Row(HoursComputer='3'),\n",
       " Row(HoursComputer='0'),\n",
       " Row(HoursComputer='1'),\n",
       " Row(HoursComputer='4'),\n",
       " Row(HoursComputer='2'),\n",
       " Row(HoursComputer=None)]"
      ]
     },
     "execution_count": 196,
     "metadata": {},
     "output_type": "execute_result"
    }
   ],
   "source": [
    "# HoursComputer\n",
    "df_hour_com = df_hour_out.select('*')\n",
    "conditions ={'5 - 8 hours':2, 'Over 12 hours':4, '9 - 12 hours':3, '1 - 4 hours':1,\n",
    "                        'Less than 1 hour':0}\n",
    "# Replace values based on conditions\n",
    "for condition, value in conditions.items():\n",
    "    df_hour_com = df_hour_com.withColumn(\"HoursComputer\", \n",
    "            when(df_hour_com[\"HoursComputer\"]==condition, value).otherwise(df_hour_com['HoursComputer']))\n",
    "df_hour_com.select(\"HoursComputer\").distinct().collect()\n"
   ]
  },
  {
   "cell_type": "code",
   "execution_count": 197,
   "id": "8d4bbaf6",
   "metadata": {},
   "outputs": [
    {
     "name": "stderr",
     "output_type": "stream",
     "text": [
      "                                                                                \r"
     ]
    },
    {
     "data": {
      "text/plain": [
       "[Row(EducationParents='Primary/elementary school'),\n",
       " Row(EducationParents='Secondary school (e.g. American high school, German Realschule or Gymnasium, etc.)'),\n",
       " Row(EducationParents='Associate degree'),\n",
       " Row(EducationParents='Professional degree (JD, MD, etc.)'),\n",
       " Row(EducationParents='They never completed any formal education'),\n",
       " Row(EducationParents='Other doctoral degree (Ph.D, Ed.D., etc.)'),\n",
       " Row(EducationParents='Some college/university study without earning a degree'),\n",
       " Row(EducationParents='Master’s degree (MA, MS, M.Eng., MBA, etc.)'),\n",
       " Row(EducationParents='Bachelor’s degree (BA, BS, B.Eng., etc.)'),\n",
       " Row(EducationParents=None)]"
      ]
     },
     "execution_count": 197,
     "metadata": {},
     "output_type": "execute_result"
    }
   ],
   "source": [
    "df_hour_com.select(\"EducationParents\").distinct().collect()"
   ]
  },
  {
   "cell_type": "code",
   "execution_count": 198,
   "id": "79d109ed",
   "metadata": {},
   "outputs": [
    {
     "name": "stderr",
     "output_type": "stream",
     "text": [
      "                                                                                \r"
     ]
    },
    {
     "data": {
      "text/plain": [
       "[Row(EducationParents='7'),\n",
       " Row(EducationParents='3'),\n",
       " Row(EducationParents='8'),\n",
       " Row(EducationParents='0'),\n",
       " Row(EducationParents='5'),\n",
       " Row(EducationParents='6'),\n",
       " Row(EducationParents='1'),\n",
       " Row(EducationParents='4'),\n",
       " Row(EducationParents='2'),\n",
       " Row(EducationParents=None)]"
      ]
     },
     "execution_count": 198,
     "metadata": {},
     "output_type": "execute_result"
    }
   ],
   "source": [
    "# EducationParents\n",
    "df_edu_parent = df_hour_com.select('*')\n",
    "conditions ={'Bachelor’s degree (BA, BS, B.Eng., etc.)': 5,\n",
    "            'Associate degree': 4,\n",
    "            'Some college/university study without earning a degree': 3,\n",
    "            'Master’s degree (MA, MS, M.Eng., MBA, etc.)': 7,\n",
    "            'Secondary school (e.g. American high school, German Realschule or Gymnasium, etc.)': 2,\n",
    "            'Primary/elementary school': 1,\n",
    "            'Professional degree (JD, MD, etc.)': 6,\n",
    "            'They never completed any formal education': 0,\n",
    "            'Other doctoral degree (Ph.D, Ed.D., etc.)': 8}\n",
    "# Replace values based on conditions\n",
    "for condition, value in conditions.items():\n",
    "    df_edu_parent = df_edu_parent.withColumn(\"EducationParents\", \n",
    "            when(df_edu_parent[\"EducationParents\"]==condition, value).otherwise(df_edu_parent['EducationParents']))\n",
    "df_edu_parent.select(\"EducationParents\").distinct().collect()\n"
   ]
  },
  {
   "cell_type": "code",
   "execution_count": 199,
   "id": "cb22457c",
   "metadata": {},
   "outputs": [
    {
     "name": "stderr",
     "output_type": "stream",
     "text": [
      "                                                                                \r"
     ]
    },
    {
     "data": {
      "text/plain": [
       "[Row(Age='55 - 64 years old'),\n",
       " Row(Age='45 - 54 years old'),\n",
       " Row(Age='18 - 24 years old'),\n",
       " Row(Age='65 years or older'),\n",
       " Row(Age='Under 18 years old'),\n",
       " Row(Age='35 - 44 years old'),\n",
       " Row(Age='25 - 34 years old'),\n",
       " Row(Age=None)]"
      ]
     },
     "execution_count": 199,
     "metadata": {},
     "output_type": "execute_result"
    }
   ],
   "source": [
    "df_edu_parent.select(\"Age\").distinct().collect()"
   ]
  },
  {
   "cell_type": "code",
   "execution_count": 200,
   "id": "77cf1757",
   "metadata": {},
   "outputs": [
    {
     "name": "stderr",
     "output_type": "stream",
     "text": [
      "                                                                                \r"
     ]
    },
    {
     "data": {
      "text/plain": [
       "[Row(Age='3'),\n",
       " Row(Age='0'),\n",
       " Row(Age='5'),\n",
       " Row(Age='6'),\n",
       " Row(Age='1'),\n",
       " Row(Age='4'),\n",
       " Row(Age='2'),\n",
       " Row(Age=None)]"
      ]
     },
     "execution_count": 200,
     "metadata": {},
     "output_type": "execute_result"
    }
   ],
   "source": [
    "# Age\n",
    "df_age = df_edu_parent.select('*')\n",
    "conditions ={'Under 18 years old': 0, '18 - 24 years old': 1,\n",
    "                '25 - 34 years old': 2, '35 - 44 years old': 3,\n",
    "                '45 - 54 years old': 4, '55 - 64 years old': 5,\n",
    "                '65 years or older': 6}\n",
    "# Replace values based on conditions\n",
    "for condition, value in conditions.items():\n",
    "    df_age = df_age.withColumn(\"Age\", \n",
    "            when(df_age[\"Age\"]==condition, value).otherwise(df_age['Age']))\n",
    "df_age.select(\"Age\").distinct().collect()\n"
   ]
  },
  {
   "cell_type": "code",
   "execution_count": 201,
   "id": "b283da94",
   "metadata": {},
   "outputs": [
    {
     "name": "stderr",
     "output_type": "stream",
     "text": [
      "                                                                                \r"
     ]
    },
    {
     "data": {
      "text/plain": [
       "[Row(AgreeDisagree1='Agree'),\n",
       " Row(AgreeDisagree1='Disagree'),\n",
       " Row(AgreeDisagree1='Neither Agree nor Disagree'),\n",
       " Row(AgreeDisagree1='Strongly agree'),\n",
       " Row(AgreeDisagree1='Strongly disagree'),\n",
       " Row(AgreeDisagree1=None)]"
      ]
     },
     "execution_count": 201,
     "metadata": {},
     "output_type": "execute_result"
    }
   ],
   "source": [
    "df_age.select(\"AgreeDisagree1\").distinct().collect()"
   ]
  },
  {
   "cell_type": "code",
   "execution_count": 203,
   "id": "d5d41248",
   "metadata": {},
   "outputs": [
    {
     "name": "stderr",
     "output_type": "stream",
     "text": [
      "                                                                                \r"
     ]
    },
    {
     "data": {
      "text/plain": [
       "[Row(AgreeDisagree1='3'),\n",
       " Row(AgreeDisagree1='0'),\n",
       " Row(AgreeDisagree1='1'),\n",
       " Row(AgreeDisagree1='4'),\n",
       " Row(AgreeDisagree1='2'),\n",
       " Row(AgreeDisagree1=None)]"
      ]
     },
     "execution_count": 203,
     "metadata": {},
     "output_type": "execute_result"
    }
   ],
   "source": [
    "# AgreeDisagree1\n",
    "df_agr1 = df_age.select('*')\n",
    "conditions ={'Strongly agree': 4, 'Agree': 3, 'Disagree': 1,\n",
    "            'Neither Agree nor Disagree': 2, 'Strongly disagree': 0}\n",
    "# Replace values based on conditions\n",
    "for condition, value in conditions.items():\n",
    "    df_agr1 = df_agr1.withColumn(\"AgreeDisagree1\", \n",
    "            when(df_agr1[\"AgreeDisagree1\"]==condition, value).otherwise(df_agr1['AgreeDisagree1']))\n",
    "df_agr1.select(\"AgreeDisagree1\").distinct().collect()\n"
   ]
  },
  {
   "cell_type": "code",
   "execution_count": 204,
   "id": "1baacd05",
   "metadata": {},
   "outputs": [
    {
     "name": "stderr",
     "output_type": "stream",
     "text": [
      "                                                                                \r"
     ]
    },
    {
     "data": {
      "text/plain": [
       "[Row(AgreeDisagree2='Agree'),\n",
       " Row(AgreeDisagree2='Disagree'),\n",
       " Row(AgreeDisagree2='Neither Agree nor Disagree'),\n",
       " Row(AgreeDisagree2='Strongly agree'),\n",
       " Row(AgreeDisagree2='Strongly disagree'),\n",
       " Row(AgreeDisagree2=None)]"
      ]
     },
     "execution_count": 204,
     "metadata": {},
     "output_type": "execute_result"
    }
   ],
   "source": [
    "df_agr1.select(\"AgreeDisagree2\").distinct().collect()"
   ]
  },
  {
   "cell_type": "code",
   "execution_count": 206,
   "id": "026d9773",
   "metadata": {},
   "outputs": [
    {
     "name": "stderr",
     "output_type": "stream",
     "text": [
      "                                                                                \r"
     ]
    },
    {
     "data": {
      "text/plain": [
       "[Row(AgreeDisagree2='3'),\n",
       " Row(AgreeDisagree2='0'),\n",
       " Row(AgreeDisagree2='1'),\n",
       " Row(AgreeDisagree2='4'),\n",
       " Row(AgreeDisagree2='2'),\n",
       " Row(AgreeDisagree2=None)]"
      ]
     },
     "execution_count": 206,
     "metadata": {},
     "output_type": "execute_result"
    }
   ],
   "source": [
    "# AgreeDisagree2\n",
    "df_agr2 = df_agr1.select('*')\n",
    "conditions ={'Strongly agree': 4, 'Agree': 3, 'Disagree': 1,\n",
    "                            'Neither Agree nor Disagree': 2, 'Strongly disagree': 0}\n",
    "# Replace values based on conditions\n",
    "for condition, value in conditions.items():\n",
    "    df_agr2 = df_agr2.withColumn(\"AgreeDisagree2\", \n",
    "            when(df_agr2[\"AgreeDisagree2\"]==condition, value).otherwise(df_agr2['AgreeDisagree2']))\n",
    "df_agr2.select(\"AgreeDisagree2\").distinct().collect()\n"
   ]
  },
  {
   "cell_type": "code",
   "execution_count": 208,
   "id": "bd7dc22e",
   "metadata": {},
   "outputs": [
    {
     "name": "stderr",
     "output_type": "stream",
     "text": [
      "                                                                                \r"
     ]
    },
    {
     "data": {
      "text/plain": [
       "[Row(AgreeDisagree3='Agree'),\n",
       " Row(AgreeDisagree3='Disagree'),\n",
       " Row(AgreeDisagree3='Neither Agree nor Disagree'),\n",
       " Row(AgreeDisagree3='Strongly agree'),\n",
       " Row(AgreeDisagree3='Strongly disagree'),\n",
       " Row(AgreeDisagree3=None)]"
      ]
     },
     "execution_count": 208,
     "metadata": {},
     "output_type": "execute_result"
    }
   ],
   "source": [
    "df_agr2.select(\"AgreeDisagree3\").distinct().collect()"
   ]
  },
  {
   "cell_type": "code",
   "execution_count": 210,
   "id": "5fca0568",
   "metadata": {},
   "outputs": [
    {
     "name": "stderr",
     "output_type": "stream",
     "text": [
      "                                                                                \r"
     ]
    },
    {
     "data": {
      "text/plain": [
       "[Row(AgreeDisagree3='3'),\n",
       " Row(AgreeDisagree3='0'),\n",
       " Row(AgreeDisagree3='1'),\n",
       " Row(AgreeDisagree3='4'),\n",
       " Row(AgreeDisagree3='2'),\n",
       " Row(AgreeDisagree3=None)]"
      ]
     },
     "execution_count": 210,
     "metadata": {},
     "output_type": "execute_result"
    }
   ],
   "source": [
    "# AgreeDisagree3\n",
    "df_agr3 = df_agr2.select('*')\n",
    "conditions ={'Strongly agree': 4, 'Agree': 3, 'Disagree': 1,\n",
    "                             'Neither Agree nor Disagree': 2, 'Strongly disagree': 0}\n",
    "# Replace values based on conditions\n",
    "for condition, value in conditions.items():\n",
    "    df_agr3 = df_agr3.withColumn(\"AgreeDisagree3\", \n",
    "            when(df_agr3[\"AgreeDisagree3\"]==condition, value).otherwise(df_agr3['AgreeDisagree3']))\n",
    "df_agr3.select(\"AgreeDisagree3\").distinct().collect()\n"
   ]
  },
  {
   "cell_type": "code",
   "execution_count": 211,
   "id": "bc6c44b8",
   "metadata": {},
   "outputs": [
    {
     "name": "stderr",
     "output_type": "stream",
     "text": [
      "                                                                                \r"
     ]
    },
    {
     "data": {
      "text/plain": [
       "[Row(NumberMonitors='3'),\n",
       " Row(NumberMonitors='More than 4'),\n",
       " Row(NumberMonitors='1'),\n",
       " Row(NumberMonitors='4'),\n",
       " Row(NumberMonitors='2'),\n",
       " Row(NumberMonitors=None)]"
      ]
     },
     "execution_count": 211,
     "metadata": {},
     "output_type": "execute_result"
    }
   ],
   "source": [
    "df_agr3.select(\"NumberMonitors\").distinct().collect()\n"
   ]
  },
  {
   "cell_type": "code",
   "execution_count": 213,
   "id": "bb629dc2",
   "metadata": {},
   "outputs": [
    {
     "name": "stderr",
     "output_type": "stream",
     "text": [
      "                                                                                \r"
     ]
    },
    {
     "data": {
      "text/plain": [
       "[Row(NumberMonitors='3'),\n",
       " Row(NumberMonitors='5'),\n",
       " Row(NumberMonitors='1'),\n",
       " Row(NumberMonitors='4'),\n",
       " Row(NumberMonitors='2'),\n",
       " Row(NumberMonitors=None)]"
      ]
     },
     "execution_count": 213,
     "metadata": {},
     "output_type": "execute_result"
    }
   ],
   "source": [
    "# NumberMonitors\n",
    "df_num_mo = df_agr3.select('*')\n",
    "conditions ={'More than 4': 5}\n",
    "# Replace values based on conditions\n",
    "for condition, value in conditions.items():\n",
    "    df_num_mo = df_num_mo.withColumn(\"NumberMonitors\", \n",
    "            when(df_num_mo[\"NumberMonitors\"]==condition, value).otherwise(df_num_mo['NumberMonitors']))\n",
    "df_num_mo.select(\"NumberMonitors\").distinct().collect()\n"
   ]
  },
  {
   "cell_type": "code",
   "execution_count": 214,
   "id": "b629df5f",
   "metadata": {},
   "outputs": [
    {
     "name": "stderr",
     "output_type": "stream",
     "text": [
      "                                                                                \r"
     ]
    },
    {
     "data": {
      "text/plain": [
       "[Row(HypotheticalTools1='Very interested'),\n",
       " Row(HypotheticalTools1='Not at all interested'),\n",
       " Row(HypotheticalTools1='Extremely interested'),\n",
       " Row(HypotheticalTools1='Somewhat interested'),\n",
       " Row(HypotheticalTools1='A little bit interested'),\n",
       " Row(HypotheticalTools1=None)]"
      ]
     },
     "execution_count": 214,
     "metadata": {},
     "output_type": "execute_result"
    }
   ],
   "source": [
    "df_num_mo.select(\"HypotheticalTools1\").distinct().collect()"
   ]
  },
  {
   "cell_type": "code",
   "execution_count": 216,
   "id": "dcacc2b1",
   "metadata": {},
   "outputs": [
    {
     "name": "stderr",
     "output_type": "stream",
     "text": [
      "                                                                                \r"
     ]
    },
    {
     "data": {
      "text/plain": [
       "[Row(HypotheticalTools1='3'),\n",
       " Row(HypotheticalTools1='0'),\n",
       " Row(HypotheticalTools1='1'),\n",
       " Row(HypotheticalTools1='4'),\n",
       " Row(HypotheticalTools1='2'),\n",
       " Row(HypotheticalTools1=None)]"
      ]
     },
     "execution_count": 216,
     "metadata": {},
     "output_type": "execute_result"
    }
   ],
   "source": [
    "# HypotheticalTools \n",
    "HistList = ['HypotheticalTools1', 'HypotheticalTools2', 'HypotheticalTools3','HypotheticalTools4', 'HypotheticalTools5']\n",
    "conditions ={'A little bit interested':1, 'Extremely interested':4,\n",
    "                    'Very interested':3, 'Not at all interested':0, 'Somewhat interested':2,}\n",
    "df_hi = df_num_mo.select('*')\n",
    "for i in HistList:\n",
    "    # Replace values based on conditions\n",
    "    for condition, value in conditions.items():\n",
    "        df_hi = df_hi.withColumn(i, \n",
    "                when(df_hi[i]==condition, value).otherwise(df_hi[i]))\n",
    "df_hi.select(\"HypotheticalTools1\").distinct().collect()\n"
   ]
  },
  {
   "cell_type": "code",
   "execution_count": 218,
   "id": "5967c65f",
   "metadata": {},
   "outputs": [
    {
     "name": "stderr",
     "output_type": "stream",
     "text": [
      "                                                                                \r"
     ]
    },
    {
     "data": {
      "text/plain": [
       "[Row(HypotheticalTools5='3'),\n",
       " Row(HypotheticalTools5='0'),\n",
       " Row(HypotheticalTools5='1'),\n",
       " Row(HypotheticalTools5='4'),\n",
       " Row(HypotheticalTools5='2'),\n",
       " Row(HypotheticalTools5=None)]"
      ]
     },
     "execution_count": 218,
     "metadata": {},
     "output_type": "execute_result"
    }
   ],
   "source": [
    "df_hi.select(\"HypotheticalTools5\").distinct().collect()"
   ]
  },
  {
   "cell_type": "code",
   "execution_count": 220,
   "id": "e2539845",
   "metadata": {},
   "outputs": [
    {
     "name": "stderr",
     "output_type": "stream",
     "text": [
      "                                                                                \r"
     ]
    },
    {
     "data": {
      "text/plain": [
       "[Row(AdsAgreeDisagree1='Somewhat disagree'),\n",
       " Row(AdsAgreeDisagree1='Strongly agree'),\n",
       " Row(AdsAgreeDisagree1='Neither agree nor disagree'),\n",
       " Row(AdsAgreeDisagree1='Strongly disagree'),\n",
       " Row(AdsAgreeDisagree1='Somewhat agree'),\n",
       " Row(AdsAgreeDisagree1=None)]"
      ]
     },
     "execution_count": 220,
     "metadata": {},
     "output_type": "execute_result"
    }
   ],
   "source": [
    "df_hi.select(\"AdsAgreeDisagree1\").distinct().collect()"
   ]
  },
  {
   "cell_type": "code",
   "execution_count": 221,
   "id": "11e68643",
   "metadata": {},
   "outputs": [
    {
     "name": "stderr",
     "output_type": "stream",
     "text": [
      "                                                                                \r"
     ]
    },
    {
     "data": {
      "text/plain": [
       "[Row(AdsAgreeDisagree3='-1'),\n",
       " Row(AdsAgreeDisagree3='0'),\n",
       " Row(AdsAgreeDisagree3='1'),\n",
       " Row(AdsAgreeDisagree3='-2'),\n",
       " Row(AdsAgreeDisagree3='2'),\n",
       " Row(AdsAgreeDisagree3=None)]"
      ]
     },
     "execution_count": 221,
     "metadata": {},
     "output_type": "execute_result"
    }
   ],
   "source": [
    "# HypotheticalTools \n",
    "AdsAgreeDisagree = ['AdsAgreeDisagree1', 'AdsAgreeDisagree2', 'AdsAgreeDisagree3']\n",
    "conditions ={'Somewhat agree':2, 'Somewhat disagree':-1,\n",
    "                            'Neither agree nor disagree':0, 'Strongly agree':1,\n",
    "                            'Strongly disagree':-2}\n",
    "df_ads = df_hi.select('*')\n",
    "for i in AdsAgreeDisagree:\n",
    "    # Replace values based on conditions\n",
    "    for condition, value in conditions.items():\n",
    "        df_ads = df_ads.withColumn(i, \n",
    "                when(df_ads[i]==condition, value).otherwise(df_ads[i]))\n",
    "df_ads.select(\"AdsAgreeDisagree3\").distinct().collect()\n"
   ]
  },
  {
   "cell_type": "code",
   "execution_count": 222,
   "id": "71663769",
   "metadata": {},
   "outputs": [
    {
     "name": "stderr",
     "output_type": "stream",
     "text": [
      "                                                                                \r"
     ]
    },
    {
     "data": {
      "text/plain": [
       "[Row(SurveyTooLong='The survey was too short'),\n",
       " Row(SurveyTooLong='The survey was too long'),\n",
       " Row(SurveyTooLong='The survey was an appropriate length'),\n",
       " Row(SurveyTooLong=None)]"
      ]
     },
     "execution_count": 222,
     "metadata": {},
     "output_type": "execute_result"
    }
   ],
   "source": [
    "df_ads.select(\"SurveyTooLong\").distinct().collect()"
   ]
  },
  {
   "cell_type": "code",
   "execution_count": 223,
   "id": "b6a1751c",
   "metadata": {},
   "outputs": [
    {
     "name": "stderr",
     "output_type": "stream",
     "text": [
      "                                                                                \r"
     ]
    },
    {
     "data": {
      "text/plain": [
       "[Row(SurveyTooLong='-1'),\n",
       " Row(SurveyTooLong='0'),\n",
       " Row(SurveyTooLong='1'),\n",
       " Row(SurveyTooLong=None)]"
      ]
     },
     "execution_count": 223,
     "metadata": {},
     "output_type": "execute_result"
    }
   ],
   "source": [
    "# SurveyTooLong\n",
    "df_sur = df_ads.select('*')\n",
    "conditions ={'The survey was an appropriate length':0, 'The survey was too long':1,'The survey was too short':-1}\n",
    "# Replace values based on conditions\n",
    "for condition, value in conditions.items():\n",
    "    df_sur = df_sur.withColumn(\"SurveyTooLong\", \n",
    "            when(df_sur[\"SurveyTooLong\"]==condition, value).otherwise(df_sur['SurveyTooLong']))\n",
    "df_sur.select(\"SurveyTooLong\").distinct().collect()\n"
   ]
  },
  {
   "cell_type": "code",
   "execution_count": 224,
   "id": "1bbd1aa2",
   "metadata": {},
   "outputs": [
    {
     "name": "stderr",
     "output_type": "stream",
     "text": [
      "                                                                                \r"
     ]
    },
    {
     "data": {
      "text/plain": [
       "[Row(SkipMeals='Daily or almost every day'),\n",
       " Row(SkipMeals='1 - 2 times per week'),\n",
       " Row(SkipMeals='Never'),\n",
       " Row(SkipMeals='3 - 4 times per week'),\n",
       " Row(SkipMeals=None)]"
      ]
     },
     "execution_count": 224,
     "metadata": {},
     "output_type": "execute_result"
    }
   ],
   "source": [
    "df_sur.select(\"SkipMeals\").distinct().collect()"
   ]
  },
  {
   "cell_type": "code",
   "execution_count": 225,
   "id": "88bc6cdc",
   "metadata": {},
   "outputs": [
    {
     "name": "stderr",
     "output_type": "stream",
     "text": [
      "                                                                                \r"
     ]
    },
    {
     "data": {
      "text/plain": [
       "[Row(SkipMeals='3'),\n",
       " Row(SkipMeals='0'),\n",
       " Row(SkipMeals='1'),\n",
       " Row(SkipMeals='2'),\n",
       " Row(SkipMeals=None)]"
      ]
     },
     "execution_count": 225,
     "metadata": {},
     "output_type": "execute_result"
    }
   ],
   "source": [
    "# SkipMeals\n",
    "df_skip_meal = df_sur.select('*')\n",
    "conditions ={'Never':0, '1 - 2 times per week':1, 'Daily or almost every day':3,\n",
    "       '3 - 4 times per week':2}\n",
    "# Replace values based on conditions\n",
    "for condition, value in conditions.items():\n",
    "    df_skip_meal = df_skip_meal.withColumn(\"SkipMeals\", \n",
    "            when(df_skip_meal[\"SkipMeals\"]==condition, value).otherwise(df_skip_meal['SkipMeals']))\n",
    "df_skip_meal.select(\"SkipMeals\").distinct().collect()\n"
   ]
  },
  {
   "cell_type": "code",
   "execution_count": 226,
   "id": "c3be3bcf",
   "metadata": {},
   "outputs": [
    {
     "name": "stderr",
     "output_type": "stream",
     "text": [
      "                                                                                \r"
     ]
    },
    {
     "data": {
      "text/plain": [
       "[Row(Exercise='Daily or almost every day'),\n",
       " Row(Exercise='1 - 2 times per week'),\n",
       " Row(Exercise=\"I don't typically exercise\"),\n",
       " Row(Exercise='3 - 4 times per week'),\n",
       " Row(Exercise=None)]"
      ]
     },
     "execution_count": 226,
     "metadata": {},
     "output_type": "execute_result"
    }
   ],
   "source": [
    "df_skip_meal.select(\"Exercise\").distinct().collect()"
   ]
  },
  {
   "cell_type": "code",
   "execution_count": 228,
   "id": "bf61b373",
   "metadata": {},
   "outputs": [
    {
     "name": "stderr",
     "output_type": "stream",
     "text": [
      "                                                                                \r"
     ]
    },
    {
     "data": {
      "text/plain": [
       "[Row(Exercise='3'),\n",
       " Row(Exercise='0'),\n",
       " Row(Exercise='1'),\n",
       " Row(Exercise='2'),\n",
       " Row(Exercise=None)]"
      ]
     },
     "execution_count": 228,
     "metadata": {},
     "output_type": "execute_result"
    }
   ],
   "source": [
    "# Exercise\n",
    "df_ex = df_skip_meal.select('*')\n",
    "conditions ={'Daily or almost every day':3, '3 - 4 times per week':2,\n",
    "       '1 - 2 times per week':1, \"I don't typically exercise\":0,}\n",
    "# Replace values based on conditions\n",
    "for condition, value in conditions.items():\n",
    "    df_ex = df_ex.withColumn(\"Exercise\", \n",
    "            when(df_ex[\"Exercise\"]==condition, value).otherwise(df_ex['Exercise']))\n",
    "df_ex.select(\"Exercise\").distinct().collect()\n"
   ]
  },
  {
   "cell_type": "code",
   "execution_count": 229,
   "id": "b763ef7a",
   "metadata": {},
   "outputs": [
    {
     "name": "stderr",
     "output_type": "stream",
     "text": [
      "                                                                                \r"
     ]
    },
    {
     "data": {
      "text/plain": [
       "[Row(SurveyEasy='Neither easy nor difficult'),\n",
       " Row(SurveyEasy='Very easy'),\n",
       " Row(SurveyEasy='Very difficult'),\n",
       " Row(SurveyEasy='Somewhat easy'),\n",
       " Row(SurveyEasy='Somewhat difficult'),\n",
       " Row(SurveyEasy=None)]"
      ]
     },
     "execution_count": 229,
     "metadata": {},
     "output_type": "execute_result"
    }
   ],
   "source": [
    "df_ex.select(\"CheckInCode\").distinct().collect()"
   ]
  },
  {
   "cell_type": "code",
   "execution_count": 230,
   "id": "b51ab028",
   "metadata": {},
   "outputs": [
    {
     "name": "stderr",
     "output_type": "stream",
     "text": [
      "                                                                                \r"
     ]
    },
    {
     "data": {
      "text/plain": [
       "[Row(CheckInCode='3'),\n",
       " Row(CheckInCode='0'),\n",
       " Row(CheckInCode='5'),\n",
       " Row(CheckInCode='1'),\n",
       " Row(CheckInCode='4'),\n",
       " Row(CheckInCode='2'),\n",
       " Row(CheckInCode=None)]"
      ]
     },
     "execution_count": 230,
     "metadata": {},
     "output_type": "execute_result"
    }
   ],
   "source": [
    "# CheckInCode\n",
    "df_check_code = df_ex.select('*')\n",
    "conditions = { 'A few times per week':3, 'Weekly or a few times per month':2,\n",
    "       'Multiple times per day':5, 'Never':0, 'Less than once per month':1,\n",
    "       'Once a day':4,}\n",
    "# Replace values based on conditions\n",
    "for condition, value in conditions.items():\n",
    "    df_check_code = df_check_code.withColumn(\"CheckInCode\", \n",
    "            when(df_check_code[\"CheckInCode\"]==condition, value).otherwise(df_check_code['CheckInCode']))\n",
    "df_check_code.select(\"CheckInCode\").distinct().collect()\n"
   ]
  },
  {
   "cell_type": "code",
   "execution_count": 231,
   "id": "c26a15da",
   "metadata": {},
   "outputs": [
    {
     "name": "stderr",
     "output_type": "stream",
     "text": [
      "                                                                                \r"
     ]
    },
    {
     "data": {
      "text/plain": [
       "[Row(StackOverflowVisit='A few times per week'),\n",
       " Row(StackOverflowVisit='A few times per month or weekly'),\n",
       " Row(StackOverflowVisit='Daily or almost daily'),\n",
       " Row(StackOverflowVisit='I have never visited Stack Overflow (before today)'),\n",
       " Row(StackOverflowVisit='Less than once per month or monthly'),\n",
       " Row(StackOverflowVisit='Multiple times per day'),\n",
       " Row(StackOverflowVisit=None)]"
      ]
     },
     "execution_count": 231,
     "metadata": {},
     "output_type": "execute_result"
    }
   ],
   "source": [
    "df_check_code.select(\"StackOverflowVisit\").distinct().collect()"
   ]
  },
  {
   "cell_type": "code",
   "execution_count": 233,
   "id": "b03fdc8a",
   "metadata": {},
   "outputs": [
    {
     "name": "stderr",
     "output_type": "stream",
     "text": [
      "                                                                                \r"
     ]
    },
    {
     "data": {
      "text/plain": [
       "[Row(StackOverflowVisit='3'),\n",
       " Row(StackOverflowVisit='0'),\n",
       " Row(StackOverflowVisit='5'),\n",
       " Row(StackOverflowVisit='1'),\n",
       " Row(StackOverflowVisit='4'),\n",
       " Row(StackOverflowVisit='2'),\n",
       " Row(StackOverflowVisit=None)]"
      ]
     },
     "execution_count": 233,
     "metadata": {},
     "output_type": "execute_result"
    }
   ],
   "source": [
    "# StackOverflowVisit\n",
    "df_stackO_visit = df_check_code.select('*')\n",
    "conditions = { 'Multiple times per day':5, 'Daily or almost daily':4,\n",
    "       'A few times per week':3, 'A few times per month or weekly':2, 'Less than once per month or monthly':1,\n",
    "      'I have never visited Stack Overflow (before today)':0,}\n",
    "# Replace values based on conditions\n",
    "for condition, value in conditions.items():\n",
    "    df_stackO_visit = df_stackO_visit.withColumn(\"StackOverflowVisit\", \n",
    "            when(df_stackO_visit[\"StackOverflowVisit\"]==condition, value).otherwise(df_stackO_visit['StackOverflowVisit']))\n",
    "df_stackO_visit.select(\"StackOverflowVisit\").distinct().collect()\n"
   ]
  },
  {
   "cell_type": "code",
   "execution_count": 234,
   "id": "b18d4c4a",
   "metadata": {},
   "outputs": [
    {
     "name": "stderr",
     "output_type": "stream",
     "text": [
      "                                                                                \r"
     ]
    },
    {
     "data": {
      "text/plain": [
       "[Row(StackOverflowParticipate='A few times per week'),\n",
       " Row(StackOverflowParticipate='I have never participated in Q&A on Stack Overflow'),\n",
       " Row(StackOverflowParticipate='A few times per month or weekly'),\n",
       " Row(StackOverflowParticipate='Daily or almost daily'),\n",
       " Row(StackOverflowParticipate='Less than once per month or monthly'),\n",
       " Row(StackOverflowParticipate='Multiple times per day'),\n",
       " Row(StackOverflowParticipate=None)]"
      ]
     },
     "execution_count": 234,
     "metadata": {},
     "output_type": "execute_result"
    }
   ],
   "source": [
    "df_stackO_visit.select(\"StackOverflowParticipate\").distinct().collect()"
   ]
  },
  {
   "cell_type": "code",
   "execution_count": 235,
   "id": "503e9430",
   "metadata": {},
   "outputs": [
    {
     "name": "stderr",
     "output_type": "stream",
     "text": [
      "                                                                                \r"
     ]
    },
    {
     "data": {
      "text/plain": [
       "[Row(StackOverflowParticipate='3'),\n",
       " Row(StackOverflowParticipate='0'),\n",
       " Row(StackOverflowParticipate='5'),\n",
       " Row(StackOverflowParticipate='1'),\n",
       " Row(StackOverflowParticipate='4'),\n",
       " Row(StackOverflowParticipate='2'),\n",
       " Row(StackOverflowParticipate=None)]"
      ]
     },
     "execution_count": 235,
     "metadata": {},
     "output_type": "execute_result"
    }
   ],
   "source": [
    "# StackOverflowParticipate\n",
    "df_stackO_par = df_stackO_visit.select('*')\n",
    "conditions = {'Multiple times per day':5, 'Daily or almost daily':4,\n",
    "       'A few times per week':3, 'A few times per month or weekly':2, 'Less than once per month or monthly':1,\n",
    "      'I have never participated in Q&A on Stack Overflow':0,}\n",
    "# Replace values based on conditions\n",
    "for condition, value in conditions.items():\n",
    "    df_stackO_par = df_stackO_par.withColumn(\"StackOverflowParticipate\", \n",
    "            when(df_stackO_par[\"StackOverflowParticipate\"]==condition, value).otherwise(df_stackO_par['StackOverflowParticipate']))\n",
    "df_stackO_par.select(\"StackOverflowParticipate\").distinct().collect()\n"
   ]
  },
  {
   "cell_type": "code",
   "execution_count": 236,
   "id": "49d375f3",
   "metadata": {},
   "outputs": [
    {
     "name": "stderr",
     "output_type": "stream",
     "text": [
      "                                                                                \r"
     ]
    },
    {
     "data": {
      "text/plain": [
       "[Row(StackOverflowRecommend='7'),\n",
       " Row(StackOverflowRecommend='3'),\n",
       " Row(StackOverflowRecommend='8'),\n",
       " Row(StackOverflowRecommend='5'),\n",
       " Row(StackOverflowRecommend='6'),\n",
       " Row(StackOverflowRecommend='10 (Very Likely)'),\n",
       " Row(StackOverflowRecommend='9'),\n",
       " Row(StackOverflowRecommend='1'),\n",
       " Row(StackOverflowRecommend='0 (Not Likely)'),\n",
       " Row(StackOverflowRecommend='4'),\n",
       " Row(StackOverflowRecommend='2'),\n",
       " Row(StackOverflowRecommend=None)]"
      ]
     },
     "execution_count": 236,
     "metadata": {},
     "output_type": "execute_result"
    }
   ],
   "source": [
    "df_stackO_par.select(\"StackOverflowRecommend\").distinct().collect()"
   ]
  },
  {
   "cell_type": "code",
   "execution_count": 237,
   "id": "82a74fd1",
   "metadata": {},
   "outputs": [
    {
     "name": "stderr",
     "output_type": "stream",
     "text": [
      "                                                                                \r"
     ]
    },
    {
     "data": {
      "text/plain": [
       "[Row(StackOverflowRecommend='7'),\n",
       " Row(StackOverflowRecommend='3'),\n",
       " Row(StackOverflowRecommend='8'),\n",
       " Row(StackOverflowRecommend='0'),\n",
       " Row(StackOverflowRecommend='5'),\n",
       " Row(StackOverflowRecommend='6'),\n",
       " Row(StackOverflowRecommend='9'),\n",
       " Row(StackOverflowRecommend='1'),\n",
       " Row(StackOverflowRecommend='10'),\n",
       " Row(StackOverflowRecommend='4'),\n",
       " Row(StackOverflowRecommend='2'),\n",
       " Row(StackOverflowRecommend=None)]"
      ]
     },
     "execution_count": 237,
     "metadata": {},
     "output_type": "execute_result"
    }
   ],
   "source": [
    "# StackOverflowRecommend\n",
    "df_stackO_recom = df_stackO_par.select('*')\n",
    "conditions = { '10 (Very Likely)':10, '0 (Not Likely)':0}\n",
    "# Replace values based on conditions\n",
    "for condition, value in conditions.items():\n",
    "    df_stackO_recom = df_stackO_recom.withColumn(\"StackOverflowRecommend\", \n",
    "            when(df_stackO_recom[\"StackOverflowRecommend\"]==condition, value).otherwise(df_stackO_recom['StackOverflowRecommend']))\n",
    "df_stackO_recom.select(\"StackOverflowRecommend\").distinct().collect()\n"
   ]
  },
  {
   "cell_type": "code",
   "execution_count": 238,
   "id": "2a0ee07b",
   "metadata": {},
   "outputs": [
    {
     "name": "stderr",
     "output_type": "stream",
     "text": [
      "                                                                                \r"
     ]
    },
    {
     "data": {
      "text/plain": [
       "[Row(WakeTime='Between 7:01 - 8:00 AM'),\n",
       " Row(WakeTime='I do not have a set schedule'),\n",
       " Row(WakeTime='Between 6:01 - 7:00 AM'),\n",
       " Row(WakeTime='After 12:01 PM'),\n",
       " Row(WakeTime='Between 5:00 - 6:00 AM'),\n",
       " Row(WakeTime='Before 5:00 AM'),\n",
       " Row(WakeTime='Between 11:01 AM - 12:00 PM'),\n",
       " Row(WakeTime='Between 8:01 - 9:00 AM'),\n",
       " Row(WakeTime='Between 10:01 - 11:00 AM'),\n",
       " Row(WakeTime='Between 9:01 - 10:00 AM'),\n",
       " Row(WakeTime='I work night shifts'),\n",
       " Row(WakeTime=None)]"
      ]
     },
     "execution_count": 238,
     "metadata": {},
     "output_type": "execute_result"
    }
   ],
   "source": [
    "df_stackO_recom.select(\"WakeTime\").distinct().collect()"
   ]
  },
  {
   "cell_type": "code",
   "execution_count": 239,
   "id": "a796b837",
   "metadata": {},
   "outputs": [
    {
     "name": "stderr",
     "output_type": "stream",
     "text": [
      "                                                                                \r"
     ]
    },
    {
     "data": {
      "text/plain": [
       "[Row(WakeTime='7'),\n",
       " Row(WakeTime='3'),\n",
       " Row(WakeTime='8'),\n",
       " Row(WakeTime='0'),\n",
       " Row(WakeTime='5'),\n",
       " Row(WakeTime='6'),\n",
       " Row(WakeTime='9'),\n",
       " Row(WakeTime='1'),\n",
       " Row(WakeTime='10'),\n",
       " Row(WakeTime='4'),\n",
       " Row(WakeTime='2'),\n",
       " Row(WakeTime=None)]"
      ]
     },
     "execution_count": 239,
     "metadata": {},
     "output_type": "execute_result"
    }
   ],
   "source": [
    "# WakeTime\n",
    "df_wake = df_stackO_recom.select('*')\n",
    "conditions = { 'I work night shifts':10,'Before 5:00 AM':9,'Between 5:00 - 6:00 AM':8,'Between 6:01 - 7:00 AM':7, 'Between 7:01 - 8:00 AM':6,'Between 8:01 - 9:00 AM':5,\n",
    "                     'Between 9:01 - 10:00 AM':4,'Between 10:01 - 11:00 AM':3, 'Between 11:01 AM - 12:00 PM':2,'After 12:01 PM':1,\n",
    "     'I do not have a set schedule':0}\n",
    "# Replace values based on conditions\n",
    "for condition, value in conditions.items():\n",
    "    df_wake = df_wake.withColumn(\"WakeTime\", \n",
    "            when(df_wake[\"WakeTime\"]==condition, value).otherwise(df_wake['WakeTime']))\n",
    "df_wake.select(\"WakeTime\").distinct().collect()\n"
   ]
  },
  {
   "cell_type": "code",
   "execution_count": 241,
   "id": "c3381cb7",
   "metadata": {},
   "outputs": [
    {
     "name": "stderr",
     "output_type": "stream",
     "text": [
      "                                                                                \r"
     ]
    },
    {
     "data": {
      "text/plain": [
       "[Row(SurveyEasy='Neither easy nor difficult'),\n",
       " Row(SurveyEasy='Very easy'),\n",
       " Row(SurveyEasy='Very difficult'),\n",
       " Row(SurveyEasy='Somewhat easy'),\n",
       " Row(SurveyEasy='Somewhat difficult'),\n",
       " Row(SurveyEasy=None)]"
      ]
     },
     "execution_count": 241,
     "metadata": {},
     "output_type": "execute_result"
    }
   ],
   "source": [
    "df_wake.select(\"SurveyEasy\").distinct().collect()"
   ]
  },
  {
   "cell_type": "code",
   "execution_count": 242,
   "id": "22529ffe",
   "metadata": {},
   "outputs": [
    {
     "name": "stderr",
     "output_type": "stream",
     "text": [
      "                                                                                \r"
     ]
    },
    {
     "data": {
      "text/plain": [
       "[Row(SurveyEasy='-1'),\n",
       " Row(SurveyEasy='0'),\n",
       " Row(SurveyEasy='1'),\n",
       " Row(SurveyEasy='-2'),\n",
       " Row(SurveyEasy='2'),\n",
       " Row(SurveyEasy=None)]"
      ]
     },
     "execution_count": 242,
     "metadata": {},
     "output_type": "execute_result"
    }
   ],
   "source": [
    "# SurveyEasy\n",
    "df_sur_easy = df_wake.select('*')\n",
    "conditions = {'Somewhat easy':1, 'Very easy':2, 'Neither easy nor difficult':0,\n",
    "       'Somewhat difficult':-1, 'Very difficult':-2}\n",
    "# Replace values based on conditions\n",
    "for condition, value in conditions.items():\n",
    "    df_sur_easy = df_sur_easy.withColumn(\"SurveyEasy\", \n",
    "            when(df_sur_easy[\"SurveyEasy\"]==condition, value).otherwise(df_sur_easy['SurveyEasy']))\n",
    "df_sur_easy.select(\"SurveyEasy\").distinct().collect()\n"
   ]
  },
  {
   "cell_type": "code",
   "execution_count": 243,
   "id": "952546cb",
   "metadata": {},
   "outputs": [
    {
     "name": "stdout",
     "output_type": "stream",
     "text": [
      "+---------------+-----------+-----------+---------------+---------------+------------------+----------+-------------------+--------------+--------------+--------------+--------------+-----------+-----------------+-----------------+-----------------+----------------------+------------------+------------------------+------------------+------------------+------------------+------------------+------------------+--------+-------------+------------+---------+--------+----------------+----+-------------+----------+\n",
      "|FormalEducation|CompanySize|YearsCoding|YearsCodingProf|JobSatisfaction|CareerSatisfaction|LastNewJob|TimeFullyProductive|AgreeDisagree1|AgreeDisagree2|AgreeDisagree3|NumberMonitors|CheckInCode|AdsAgreeDisagree1|AdsAgreeDisagree2|AdsAgreeDisagree3|StackOverflowRecommend|StackOverflowVisit|StackOverflowParticipate|HypotheticalTools1|HypotheticalTools2|HypotheticalTools3|HypotheticalTools4|HypotheticalTools5|WakeTime|HoursComputer|HoursOutside|SkipMeals|Exercise|EducationParents| Age|SurveyTooLong|SurveyEasy|\n",
      "+---------------+-----------+-----------+---------------+---------------+------------------+----------+-------------------+--------------+--------------+--------------+--------------+-----------+-----------------+-----------------+-----------------+----------------------+------------------+------------------------+------------------+------------------+------------------+------------------+------------------+--------+-------------+------------+---------+--------+----------------+----+-------------+----------+\n",
      "|              5|          2|          1|              2|              3|                 3|         1|                  1|             4|             4|             2|             1|          5|                1|                1|                1|                    10|                 5|                       0|                 4|                 4|                 4|                 4|                 4|       8|            3|           3|        0|       2|               5|   2|            0|         2|\n",
      "|              5|          7|         10|              7|             -2|                 0|         4|                  1|             3|             3|             2|             2|          3|                2|                0|                0|                    10|                 2|                       2|                 1|                 1|                 1|                 1|                 1|       7|            2|           2|        0|       3|               5|   3|            0|         1|\n",
      "|              4|          2|          8|              3|              2|                 2|         1|               NULL|          NULL|          NULL|          NULL|          NULL|       NULL|             NULL|             NULL|             NULL|                  NULL|              NULL|                    NULL|              NULL|              NULL|              NULL|              NULL|              NULL|    NULL|         NULL|        NULL|     NULL|    NULL|            NULL|NULL|         NULL|      NULL|\n",
      "|              5|          3|          6|              5|              0|                -1|         1|                  2|             1|             1|             0|             2|          5|                0|                2|                2|                    10|                 3|                       2|                 2|                 2|                 2|                 2|                 2|       7|            3|           1|        2|       0|               3|   3|            0|         1|\n",
      "|              3|          7|          2|              1|              1|                 2|         2|                  2|             4|             3|             0|             2|          2|                2|                2|               -1|                    10|                 4|                       1|                 4|                 4|                 4|                 4|                 4|       9|            4|           3|        0|       2|               3|   1|            0|         1|\n",
      "|              5|          1|          2|              2|              2|                 1|         3|                  0|             1|             2|             0|             2|          3|                2|                2|               -1|                     7|                 2|                       1|                 1|                 0|                 3|                 3|                 4|       6|            3|           2|        1|       1|               2|   1|            0|         1|\n",
      "|              3|          7|          3|              1|              1|                 2|         1|                  3|             1|             3|             0|             2|          5|               -1|                0|               -1|                    10|                 5|                       0|                 3|                 1|                 4|                 3|                 3|       4|            4|           1|        1|       0|               7|   1|            0|         1|\n",
      "|              5|          1|          0|              2|              1|                 2|         1|                  1|             4|             0|             2|             1|          5|                1|                0|               -2|                    10|                 4|                       2|                 3|                 3|                 3|                 1|                 4|       0|            4|           3|        3|       1|               1|   2|            1|        -1|\n",
      "|              3|          3|         10|              8|              2|                 2|         3|                  2|             4|             0|             0|             1|          5|                0|                2|                0|                     7|                 2|                       1|                 0|                 0|                 0|                 0|                 0|       5|            3|           1|        1|       0|               3|   3|            0|         2|\n",
      "|              5|          4|          0|           NULL|           NULL|              NULL|      NULL|               NULL|          NULL|          NULL|          NULL|          NULL|       NULL|             NULL|             NULL|             NULL|                  NULL|              NULL|                    NULL|              NULL|              NULL|              NULL|              NULL|              NULL|    NULL|         NULL|        NULL|     NULL|    NULL|            NULL|NULL|         NULL|      NULL|\n",
      "|              7|          5|          2|              1|             -2|                -2|      NULL|               NULL|          NULL|          NULL|          NULL|          NULL|       NULL|             NULL|             NULL|             NULL|                  NULL|              NULL|                    NULL|              NULL|              NULL|              NULL|              NULL|              NULL|    NULL|         NULL|        NULL|     NULL|    NULL|            NULL|NULL|         NULL|      NULL|\n",
      "|              5|          3|          0|           NULL|           NULL|              NULL|      NULL|               NULL|          NULL|          NULL|          NULL|          NULL|       NULL|             NULL|             NULL|             NULL|                     7|                 3|                    NULL|              NULL|              NULL|              NULL|              NULL|              NULL|    NULL|         NULL|        NULL|     NULL|    NULL|            NULL|NULL|         NULL|      NULL|\n",
      "|              3|          2|          0|           NULL|           NULL|              NULL|      NULL|               NULL|          NULL|          NULL|          NULL|          NULL|       NULL|             NULL|             NULL|             NULL|                    10|                 3|                    NULL|              NULL|              NULL|              NULL|              NULL|              NULL|    NULL|         NULL|        NULL|     NULL|    NULL|            NULL|NULL|         NULL|      NULL|\n",
      "|              5|          2|          1|              2|              3|                 2|         1|               NULL|          NULL|          NULL|          NULL|             5|          5|                1|             NULL|             NULL|                    10|                 5|                       4|                 2|                 4|                 4|                 1|                 2|       7|            2|           3|        0|       0|            NULL|NULL|         NULL|      NULL|\n",
      "|              2|          2|          0|              1|              0|                -2|         3|                  0|             1|             0|             4|             2|          0|                1|                2|                0|                     8|                 4|                       1|                 0|                 0|                 0|                 0|                 0|       7|            3|           3|        0|       3|               4|   1|            0|         0|\n",
      "|              7|          6|          1|              2|             -2|                -3|         3|               NULL|          NULL|          NULL|          NULL|          NULL|       NULL|             NULL|             NULL|             NULL|                    10|                 5|                    NULL|                 1|                 1|                 0|                 0|                 0|       8|            3|           3|        0|       2|            NULL|NULL|         NULL|      NULL|\n",
      "|              5|          5|          0|           NULL|           NULL|              NULL|         1|               NULL|          NULL|          NULL|          NULL|          NULL|       NULL|             NULL|             NULL|             NULL|                    10|                 4|                       0|                 3|                 3|                 3|                 3|                 3|       4|            2|           2|        0|       2|            NULL|NULL|         NULL|      NULL|\n",
      "|              7|          1|          2|              1|              2|                 2|         2|                  2|             2|             3|             1|             1|          5|               -2|               -2|                1|                    10|                 5|                       1|                 0|                 0|                 0|                 3|                 2|       6|            3|           2|        0|       2|               5|   3|            1|        -1|\n",
      "|              5|          7|          0|              2|              1|                 3|         2|               NULL|             4|             4|             4|             5|          0|               -2|               -2|               -2|                    10|                 5|                    NULL|              NULL|              NULL|              NULL|              NULL|                 4|       0|            3|           3|        2|       3|               3|NULL|            1|        -2|\n",
      "|              5|          0|          1|           NULL|           NULL|              NULL|      NULL|               NULL|          NULL|          NULL|          NULL|          NULL|       NULL|             NULL|             NULL|             NULL|                    10|                 4|                       0|              NULL|              NULL|              NULL|              NULL|              NULL|       6|            3|           2|        1|       1|            NULL|NULL|         NULL|      NULL|\n",
      "+---------------+-----------+-----------+---------------+---------------+------------------+----------+-------------------+--------------+--------------+--------------+--------------+-----------+-----------------+-----------------+-----------------+----------------------+------------------+------------------------+------------------+------------------+------------------+------------------+------------------+--------+-------------+------------+---------+--------+----------------+----+-------------+----------+\n",
      "only showing top 20 rows\n",
      "\n"
     ]
    }
   ],
   "source": [
    "df_ord_encode = df_sur_easy.select('*')\n",
    "df_ord_encode.show()"
   ]
  },
  {
   "cell_type": "code",
   "execution_count": 245,
   "id": "5216e2cf",
   "metadata": {},
   "outputs": [
    {
     "ename": "TypeError",
     "evalue": "DataFrame.corr() missing 1 required positional argument: 'col2'",
     "output_type": "error",
     "traceback": [
      "\u001b[0;31m---------------------------------------------------------------------------\u001b[0m",
      "\u001b[0;31mTypeError\u001b[0m                                 Traceback (most recent call last)",
      "Cell \u001b[0;32mIn[245], line 5\u001b[0m\n\u001b[1;32m      3\u001b[0m \u001b[38;5;28;01mimport\u001b[39;00m \u001b[38;5;21;01mseaborn\u001b[39;00m \u001b[38;5;28;01mas\u001b[39;00m \u001b[38;5;21;01msns\u001b[39;00m\n\u001b[1;32m      4\u001b[0m fig, ax \u001b[38;5;241m=\u001b[39m plt\u001b[38;5;241m.\u001b[39msubplots(figsize\u001b[38;5;241m=\u001b[39m(\u001b[38;5;241m40\u001b[39m,\u001b[38;5;241m40\u001b[39m))\n\u001b[0;32m----> 5\u001b[0m corr1 \u001b[38;5;241m=\u001b[39m df_ord_encode\u001b[38;5;241m.\u001b[39mcorr(\u001b[38;5;124m'\u001b[39m\u001b[38;5;124mspearman\u001b[39m\u001b[38;5;124m'\u001b[39m)\n\u001b[1;32m      6\u001b[0m sns\u001b[38;5;241m.\u001b[39mheatmap(corr1, ax\u001b[38;5;241m=\u001b[39max, annot\u001b[38;5;241m=\u001b[39m\u001b[38;5;28;01mTrue\u001b[39;00m, cmap\u001b[38;5;241m=\u001b[39m\u001b[38;5;124m'\u001b[39m\u001b[38;5;124mBrBG\u001b[39m\u001b[38;5;124m'\u001b[39m, fmt\u001b[38;5;241m=\u001b[39m\u001b[38;5;124m\"\u001b[39m\u001b[38;5;124m.2f\u001b[39m\u001b[38;5;124m\"\u001b[39m, linewidths\u001b[38;5;241m=\u001b[39m\u001b[38;5;241m.5\u001b[39m, vmin\u001b[38;5;241m=\u001b[39m\u001b[38;5;241m-\u001b[39m\u001b[38;5;241m1\u001b[39m, vmax\u001b[38;5;241m=\u001b[39m\u001b[38;5;241m1\u001b[39m)\n",
      "\u001b[0;31mTypeError\u001b[0m: DataFrame.corr() missing 1 required positional argument: 'col2'"
     ]
    },
    {
     "data": {
      "image/png": "[encoded data removed]",
      "text/plain": [
       "<Figure size 4000x4000 with 1 Axes>"
      ]
     },
     "metadata": {},
     "output_type": "display_data"
    }
   ],
   "source": [
    "import matplotlib\n",
    "import matplotlib.pyplot as plt\n",
    "import seaborn as sns\n",
    "fig, ax = plt.subplots(figsize=(40,40))\n",
    "corr1 = df_ord_encode.corr('spearman')\n",
    "sns.heatmap(corr1, ax=ax, annot=True, cmap='BrBG', fmt=\".2f\", linewidths=.5, vmin=-1, vmax=1)\n"
   ]
  }
 ],
 "metadata": {
  "celltoolbar": "Slideshow",
  "kernelspec": {
   "display_name": "Python 3 (ipykernel)",
   "language": "python",
   "name": "python3"
  },
  "language_info": {
   "codemirror_mode": {
    "name": "ipython",
    "version": 3
   },
   "file_extension": ".py",
   "mimetype": "text/x-python",
   "name": "python",
   "nbconvert_exporter": "python",
   "pygments_lexer": "ipython3",
   "version": "3.11.5"
  }
 },
 "nbformat": 4,
 "nbformat_minor": 5
}
